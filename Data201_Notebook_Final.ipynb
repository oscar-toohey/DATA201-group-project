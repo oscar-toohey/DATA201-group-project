{
 "cells": [
  {
   "cell_type": "markdown",
   "id": "214b33b7-aa84-4145-9b2e-72f00f15faf0",
   "metadata": {},
   "source": [
    "# Group project - DATA201\n",
    "\n",
    "> By Oscar Toohey, Jamie Barnes, Seth Gunn, Bach Vu, Angus Loader\n"
   ]
  },
  {
   "cell_type": "code",
   "execution_count": null,
   "id": "e316ea45-4868-4d58-aa8e-5d77a7a35371",
   "metadata": {},
   "outputs": [],
   "source": []
  },
  {
   "cell_type": "code",
   "execution_count": null,
   "id": "38d813c3-068f-430e-9a05-312596a27b1e",
   "metadata": {},
   "outputs": [],
   "source": []
  },
  {
   "cell_type": "code",
   "execution_count": null,
   "id": "32f5b07f-e864-463e-b86c-9f42e83acaf9",
   "metadata": {},
   "outputs": [],
   "source": []
  },
  {
   "cell_type": "code",
   "execution_count": null,
   "id": "ad7f907b-edec-4ebb-b3ac-d1de621c3a64",
   "metadata": {},
   "outputs": [],
   "source": []
  },
  {
   "cell_type": "code",
   "execution_count": null,
   "id": "f4984148-47b6-476a-a6b5-e59533dd749f",
   "metadata": {},
   "outputs": [],
   "source": []
  },
  {
   "cell_type": "code",
   "execution_count": null,
   "id": "b526a815-b55e-4115-be76-d6713118866c",
   "metadata": {},
   "outputs": [],
   "source": []
  },
  {
   "cell_type": "code",
   "execution_count": null,
   "id": "79182ae6-c41b-4f4b-bcb0-b802d65772f5",
   "metadata": {},
   "outputs": [],
   "source": []
  },
  {
   "cell_type": "code",
   "execution_count": null,
   "id": "cf775fda-4282-41ab-8cad-610563ae15b4",
   "metadata": {},
   "outputs": [],
   "source": []
  },
  {
   "cell_type": "code",
   "execution_count": null,
   "id": "9203f161-45f6-4c72-9ca9-c6541c0c7dd0",
   "metadata": {},
   "outputs": [],
   "source": []
  },
  {
   "cell_type": "code",
   "execution_count": null,
   "id": "7f071183-e64c-4b72-a123-d01d5756dd24",
   "metadata": {},
   "outputs": [],
   "source": []
  },
  {
   "cell_type": "code",
   "execution_count": null,
   "id": "2d134740-8537-4f8d-bd8b-947bead3d0a5",
   "metadata": {},
   "outputs": [],
   "source": []
  },
  {
   "cell_type": "code",
   "execution_count": null,
   "id": "5824c3a0-dffc-42fd-9c19-38f4a8a6dc5c",
   "metadata": {},
   "outputs": [],
   "source": []
  },
  {
   "cell_type": "code",
   "execution_count": null,
   "id": "2609cfc8-e9b9-4581-9c00-6b4bd8fdeb5f",
   "metadata": {},
   "outputs": [],
   "source": []
  },
  {
   "cell_type": "code",
   "execution_count": null,
   "id": "1ac860d5-0d62-4132-a958-a7b6f1fefb5a",
   "metadata": {},
   "outputs": [],
   "source": []
  },
  {
   "cell_type": "code",
   "execution_count": null,
   "id": "799b8410-9701-4aa5-954b-3e5d71d5128f",
   "metadata": {},
   "outputs": [],
   "source": []
  },
  {
   "cell_type": "code",
   "execution_count": null,
   "id": "4e14e3ea-fea9-4a0c-942e-e38110451ccf",
   "metadata": {},
   "outputs": [],
   "source": []
  },
  {
   "cell_type": "code",
   "execution_count": null,
   "id": "40bd3fd5-0730-4ef0-adb8-b832bb7712b8",
   "metadata": {},
   "outputs": [],
   "source": []
  },
  {
   "cell_type": "code",
   "execution_count": null,
   "id": "5f5b484e-1a54-4237-aef0-1be9bc71d636",
   "metadata": {},
   "outputs": [],
   "source": []
  }
 ],
 "metadata": {
  "kernelspec": {
   "display_name": "R",
   "language": "R",
   "name": "ir"
  },
  "language_info": {
   "codemirror_mode": "r",
   "file_extension": ".r",
   "mimetype": "text/x-r-source",
   "name": "R",
   "pygments_lexer": "r",
   "version": "4.1.0"
  }
 },
 "nbformat": 4,
 "nbformat_minor": 5
}
