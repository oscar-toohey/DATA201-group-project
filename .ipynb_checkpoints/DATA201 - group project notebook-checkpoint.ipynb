{
 "cells": [
  {
   "cell_type": "markdown",
   "id": "110a6721",
   "metadata": {},
   "source": [
    "# Group project - DATA201\n"
   ]
  },
  {
   "cell_type": "markdown",
   "id": "7b62187d",
   "metadata": {},
   "source": [
    "# By Oscar Toohey, Jamie Barnes and Seth"
   ]
  },
  {
   "cell_type": "markdown",
   "id": "98231686-40f8-42a5-9c7d-71c4b027486a",
   "metadata": {},
   "source": []
  },
  {
   "cell_type": "code",
   "execution_count": 17,
   "id": "b3333cbb",
   "metadata": {},
   "outputs": [],
   "source": [
    "# Install tidyverse, rvest and reshape\n",
    "library(tidyverse)\n",
    "library(rvest)\n",
    "library(magrittr) # better handling of pipes\n",
    "library(purrr) \n",
    "\n",
    "# load ggplot2\n",
    "library(ggplot2)"
   ]
  },
  {
   "cell_type": "code",
   "execution_count": null,
   "id": "8053d864-2398-4e43-b806-e0aef79b970a",
   "metadata": {},
   "outputs": [],
   "source": []
  },
  {
   "cell_type": "code",
   "execution_count": null,
   "id": "727a1b77-e60f-475b-90b1-918534777b8a",
   "metadata": {},
   "outputs": [],
   "source": []
  },
  {
   "cell_type": "code",
   "execution_count": null,
   "id": "1e0957ac-3b6c-4fc8-93dd-69eff91864db",
   "metadata": {},
   "outputs": [],
   "source": []
  },
  {
   "cell_type": "markdown",
   "id": "536f9fa6-e2c1-4b91-9794-db4d531daab4",
   "metadata": {},
   "source": [
    "## Tourism"
   ]
  },
  {
   "cell_type": "code",
   "execution_count": 26,
   "id": "6dcc1a41-1919-4ac8-8da0-969d380101c1",
   "metadata": {
    "tags": []
   },
   "outputs": [
    {
     "name": "stderr",
     "output_type": "stream",
     "text": [
      "\u001b[1m\u001b[1mRows: \u001b[1m\u001b[22m\u001b[34m\u001b[34m121\u001b[34m\u001b[39m \u001b[1m\u001b[1mColumns: \u001b[1m\u001b[22m\u001b[34m\u001b[34m3\u001b[34m\u001b[39m\n",
      "\n",
      "\u001b[36m--\u001b[39m \u001b[1m\u001b[1mColumn specification\u001b[1m\u001b[22m \u001b[36m--------------------------------------------------------\u001b[39m\n",
      "\u001b[1mDelimiter:\u001b[22m \",\"\n",
      "\u001b[31mchr\u001b[39m (1): Month-Year\n",
      "\n",
      "\n",
      "\u001b[36mi\u001b[39m Use \u001b[30m\u001b[47m\u001b[30m\u001b[47m`spec()`\u001b[47m\u001b[30m\u001b[49m\u001b[39m to retrieve the full column specification for this data.\n",
      "\u001b[36mi\u001b[39m Specify the column types or set \u001b[30m\u001b[47m\u001b[30m\u001b[47m`show_col_types = FALSE`\u001b[47m\u001b[30m\u001b[49m\u001b[39m to quiet this message.\n",
      "\n"
     ]
    },
    {
     "name": "stdout",
     "output_type": "stream",
     "text": [
      "Rows: 121\n",
      "Columns: 3\n",
      "$ `Month-Year`          \u001b[3m\u001b[90m<chr>\u001b[39m\u001b[23m \"Jun-11\", \"Jul-11\", \"Aug-11\", \"Sep-11\", \"Oct-11\"~\n",
      "$ Actual                \u001b[3m\u001b[90m<dbl>\u001b[39m\u001b[23m 131269, 176084, 175909, 219940, 215902, 230292, ~\n",
      "$ `Seasonally adjusted` \u001b[3m\u001b[90m<dbl>\u001b[39m\u001b[23m 186800, 212580, 220580, 262350, 247820, 215640, ~\n"
     ]
    },
    {
     "data": {
      "text/html": [
       "<table class=\"dataframe\">\n",
       "<caption>A tibble: 0 × 5</caption>\n",
       "<thead>\n",
       "\t<tr><th scope=col>row</th><th scope=col>col</th><th scope=col>expected</th><th scope=col>actual</th><th scope=col>file</th></tr>\n",
       "\t<tr><th scope=col>&lt;int&gt;</th><th scope=col>&lt;int&gt;</th><th scope=col>&lt;chr&gt;</th><th scope=col>&lt;chr&gt;</th><th scope=col>&lt;chr&gt;</th></tr>\n",
       "</thead>\n",
       "<tbody>\n",
       "</tbody>\n",
       "</table>\n"
      ],
      "text/latex": [
       "A tibble: 0 × 5\n",
       "\\begin{tabular}{lllll}\n",
       " row & col & expected & actual & file\\\\\n",
       " <int> & <int> & <chr> & <chr> & <chr>\\\\\n",
       "\\hline\n",
       "\\end{tabular}\n"
      ],
      "text/markdown": [
       "\n",
       "A tibble: 0 × 5\n",
       "\n",
       "| row &lt;int&gt; | col &lt;int&gt; | expected &lt;chr&gt; | actual &lt;chr&gt; | file &lt;chr&gt; |\n",
       "|---|---|---|---|---|\n",
       "\n"
      ],
      "text/plain": [
       "     row col expected actual file"
      ]
     },
     "metadata": {},
     "output_type": "display_data"
    }
   ],
   "source": [
    "tourism_df <- read_csv(file = \"data/TourismStatNZ.csv\")\n",
    "tourism_df %>% glimpse()\n",
    "tourism_df %>% problems()"
   ]
  },
  {
   "cell_type": "code",
   "execution_count": 29,
   "id": "ff2c1508-76a3-459e-9b6f-018b58eac867",
   "metadata": {},
   "outputs": [
    {
     "data": {
      "text/plain": [
       "{html_document}\n",
       "<html lang=\"en-NZ\">\n",
       "[1] <head profile=\"http://www.w3.org/2005/10/profile\">\\n<base href=\"https://w ...\n",
       "[2] <body class=\"BlockPage\" dir=\"ltr\">\\n    <!-- Google Tag Manager (noscript ..."
      ]
     },
     "metadata": {},
     "output_type": "display_data"
    },
    {
     "name": "stdout",
     "output_type": "stream",
     "text": [
      " list()\n",
      " - attr(*, \"class\")= chr \"xml_nodeset\"\n"
     ]
    },
    {
     "data": {
      "text/html": [
       "0"
      ],
      "text/latex": [
       "0"
      ],
      "text/markdown": [
       "0"
      ],
      "text/plain": [
       "[1] 0"
      ]
     },
     "metadata": {},
     "output_type": "display_data"
    }
   ],
   "source": [
    "# Scrapping do not work for StatNZ - no script\n",
    "url_titles <- \"https://www.stats.govt.nz/topics/tourism\" # to get the url of the webpage where the scraping has started\n",
    "article <- read_html(url_titles) # to read and parse the webpage into R (in html document)\n",
    "article\n",
    "\n",
    "tourism_list <- article %>%\n",
    "    html_nodes(\"td\")\n",
    "\n",
    "tourism_list %>% glimpse() # to have a brief look at the actuall link of the html\n",
    "length(tourism_list)"
   ]
  },
  {
   "cell_type": "code",
   "execution_count": null,
   "id": "0b542114-c7e6-47cf-85bb-5a38b094ca8a",
   "metadata": {},
   "outputs": [],
   "source": []
  },
  {
   "cell_type": "code",
   "execution_count": null,
   "id": "806a6641-2b84-404b-8570-dbac4e6d4f60",
   "metadata": {},
   "outputs": [],
   "source": []
  },
  {
   "cell_type": "code",
   "execution_count": null,
   "id": "16057b42-e006-4cc7-ac3d-f61a98f68b7a",
   "metadata": {},
   "outputs": [],
   "source": []
  },
  {
   "cell_type": "code",
   "execution_count": null,
   "id": "3301673c-3fda-48f9-a030-412fda6815ae",
   "metadata": {},
   "outputs": [],
   "source": []
  },
  {
   "cell_type": "code",
   "execution_count": null,
   "id": "2c9069f4-9c57-4270-b887-f2bfb289c782",
   "metadata": {},
   "outputs": [],
   "source": []
  },
  {
   "cell_type": "code",
   "execution_count": null,
   "id": "9bb43130-4a49-40e9-97bc-fbc5532e2bf4",
   "metadata": {},
   "outputs": [],
   "source": []
  }
 ],
 "metadata": {
  "kernelspec": {
   "display_name": "R",
   "language": "R",
   "name": "ir"
  },
  "language_info": {
   "codemirror_mode": "r",
   "file_extension": ".r",
   "mimetype": "text/x-r-source",
   "name": "R",
   "pygments_lexer": "r",
   "version": "4.1.0"
  }
 },
 "nbformat": 4,
 "nbformat_minor": 5
}
