{
 "cells": [
  {
   "cell_type": "code",
   "execution_count": 3,
   "id": "8e6d4dc9-1f6e-45ef-b304-6f556c447113",
   "metadata": {
    "collapsed": true,
    "jupyter": {
     "outputs_hidden": true
    },
    "tags": []
   },
   "outputs": [
    {
     "name": "stderr",
     "output_type": "stream",
     "text": [
      "── \u001b[1mAttaching packages\u001b[22m ─────────────────────────────────────── tidyverse 1.3.1 ──\n",
      "\n",
      "\u001b[32m✔\u001b[39m \u001b[34mggplot2\u001b[39m 3.3.5     \u001b[32m✔\u001b[39m \u001b[34mpurrr  \u001b[39m 0.3.4\n",
      "\u001b[32m✔\u001b[39m \u001b[34mtibble \u001b[39m 3.1.5     \u001b[32m✔\u001b[39m \u001b[34mdplyr  \u001b[39m 1.0.7\n",
      "\u001b[32m✔\u001b[39m \u001b[34mtidyr  \u001b[39m 1.1.3     \u001b[32m✔\u001b[39m \u001b[34mstringr\u001b[39m 1.4.0\n",
      "\u001b[32m✔\u001b[39m \u001b[34mreadr  \u001b[39m 2.0.0     \u001b[32m✔\u001b[39m \u001b[34mforcats\u001b[39m 0.5.1\n",
      "\n",
      "── \u001b[1mConflicts\u001b[22m ────────────────────────────────────────── tidyverse_conflicts() ──\n",
      "\u001b[31m✖\u001b[39m \u001b[34mdplyr\u001b[39m::\u001b[32mfilter()\u001b[39m masks \u001b[34mstats\u001b[39m::filter()\n",
      "\u001b[31m✖\u001b[39m \u001b[34mdplyr\u001b[39m::\u001b[32mlag()\u001b[39m    masks \u001b[34mstats\u001b[39m::lag()\n",
      "\n",
      "\n",
      "Attaching package: ‘rvest’\n",
      "\n",
      "\n",
      "The following object is masked from ‘package:readr’:\n",
      "\n",
      "    guess_encoding\n",
      "\n",
      "\n",
      "\n",
      "Attaching package: ‘magrittr’\n",
      "\n",
      "\n",
      "The following object is masked from ‘package:purrr’:\n",
      "\n",
      "    set_names\n",
      "\n",
      "\n",
      "The following object is masked from ‘package:tidyr’:\n",
      "\n",
      "    extract\n",
      "\n",
      "\n",
      "\n",
      "Attaching package: ‘jsonlite’\n",
      "\n",
      "\n",
      "The following object is masked from ‘package:purrr’:\n",
      "\n",
      "    flatten\n",
      "\n",
      "\n"
     ]
    }
   ],
   "source": [
    "# Install tidyverse, rvest and reshape\n",
    "library(tidyverse)\n",
    "library(rvest)\n",
    "library(magrittr) # better handling of pipes\n",
    "library(purrr) \n",
    "library(httr)\n",
    "library(jsonlite)\n",
    "# load ggplot2\n",
    "library(ggplot2)"
   ]
  },
  {
   "cell_type": "markdown",
   "id": "3a939a68-c593-4217-9e79-d7f0fd417ae9",
   "metadata": {},
   "source": [
    "# Shipping Prototype"
   ]
  },
  {
   "cell_type": "markdown",
   "id": "89395261-6bba-4a91-aeab-ff876c476326",
   "metadata": {},
   "source": [
    "Set up of StatsNZ api to get Shipping data"
   ]
  },
  {
   "cell_type": "markdown",
   "id": "48710961-3227-4d75-a4e2-1f66da52d3d0",
   "metadata": {},
   "source": [
    "Getting the catalogue of datasets:"
   ]
  },
  {
   "cell_type": "code",
   "execution_count": 4,
   "id": "5ec1c190-6119-4564-9282-23d8a23861d1",
   "metadata": {},
   "outputs": [],
   "source": [
    "# SOURCE DECLARATION: FOLLOWING CODE BLOCK IS WRITTEN FROM STATSNZ AND WE HAVE MADE SMALL CHANGES TO GET THE REQUIRED DATA\n",
    "# ALSO USING PERSONAL API KEY\n",
    "\n",
    "get_odata_catalogue <-  function(service, endpoint, service_api_key) {\n",
    "  \n",
    "  catalogue_url <- URLencode(paste0(service, \"/\", endpoint))\n",
    "  \n",
    "  # Add the proxy authentication\n",
    "  config_proxy <- use_proxy(\n",
    "    url = curl::ie_get_proxy_for_url(service), \n",
    "    auth = \"any\", \n",
    "    username = \"\"\n",
    "  )\n",
    "  \n",
    "  # Look at the available tables\n",
    "  opendata_catalogue <- \n",
    "    GET(\n",
    "      url = catalogue_url,\n",
    "      config_proxy,\n",
    "      add_headers(.headers = c('Cache-Control' = 'no-cache',\n",
    "                               'Ocp-Apim-Subscription-Key' = service_api_key)),\n",
    "      timeout(60)\n",
    "    ) %>%\n",
    "    content(as = \"text\") %>%\n",
    "    fromJSON()\n",
    "  \n",
    "  opendata_catalogue <- as.data.frame(opendata_catalogue$dataset) %>%\n",
    "    unnest_longer(distribution)\n",
    "  \n",
    "  \n",
    "  structure(opendata_catalogue,\n",
    "            comment = \"Odata Catalogue\")\n",
    "  \n",
    "}"
   ]
  },
  {
   "cell_type": "markdown",
   "id": "05193dce-3857-40b7-9fe2-1d3632c52f30",
   "metadata": {},
   "source": [
    "Calling catalogue function with specific arguments"
   ]
  },
  {
   "cell_type": "code",
   "execution_count": 5,
   "id": "a1cf0665-4968-40d7-bd2f-11d73f203329",
   "metadata": {},
   "outputs": [
    {
     "data": {
      "text/html": [
       "'list'"
      ],
      "text/latex": [
       "'list'"
      ],
      "text/markdown": [
       "'list'"
      ],
      "text/plain": [
       "[1] \"list\""
      ]
     },
     "metadata": {},
     "output_type": "display_data"
    },
    {
     "name": "stdout",
     "output_type": "stream",
     "text": [
      "Rows: 4\n",
      "Columns: 16\n",
      "$ title              \u001b[3m\u001b[90m<chr>\u001b[39m\u001b[23m \"Employment Indicators\", \"Overseas Cargo\", \"Covid19…\n",
      "$ description        \u001b[3m\u001b[90m<chr>\u001b[39m\u001b[23m \"This employment indicator series is intended to pr…\n",
      "$ identifier         \u001b[3m\u001b[90m<chr>\u001b[39m\u001b[23m \"https://api.stats.govt.nz/odata/v1/EmploymentIndic…\n",
      "$ license            \u001b[3m\u001b[90m<chr>\u001b[39m\u001b[23m \"https://creativecommons.org/licenses/by/4.0/\", \"ht…\n",
      "$ keyword            \u001b[3m\u001b[90m<list>\u001b[39m\u001b[23m <\"Employment\", \"ResourceID MEI1.1: Filled jobs and…\n",
      "$ issued             \u001b[3m\u001b[90m<chr>\u001b[39m\u001b[23m \"2020-08-11T19:45:06Z\", \"2020-08-06T23:31:28Z\", \"20…\n",
      "$ modified           \u001b[3m\u001b[90m<chr>\u001b[39m\u001b[23m \"2020-12-10T22:39:15Z\", \"2020-12-10T22:51:17Z\", \"20…\n",
      "$ publisher          \u001b[3m\u001b[90m<df[,2]>\u001b[39m\u001b[23m <data.frame[4 x 2]>\n",
      "$ contactPoint       \u001b[3m\u001b[90m<df[,3]>\u001b[39m\u001b[23m <data.frame[4 x 3]>\n",
      "$ landingPage        \u001b[3m\u001b[90m<chr>\u001b[39m\u001b[23m \"https://www.stats.govt.nz\", \"https://www.stats.…\n",
      "$ language           \u001b[3m\u001b[90m<list>\u001b[39m\u001b[23m \"en\", \"en\", \"en\", \"en\"\n",
      "$ accrualPeriodicity \u001b[3m\u001b[90m<chr>\u001b[39m\u001b[23m \"Monthly\", \"Monthly\", \"Weekly\", \"Monthly\"\n",
      "$ theme              \u001b[3m\u001b[90m<chr>\u001b[39m\u001b[23m \"Employment\", \"Commerce, trade and industry\", \"\"…\n",
      "$ temporal           \u001b[3m\u001b[90m<chr>\u001b[39m\u001b[23m \"1999-04-30/\", \"1988-01-31/\", \"\", \"2001-01-31/\"\n",
      "$ distribution       \u001b[3m\u001b[90m<df[,4]>\u001b[39m\u001b[23m <data.frame[4 x 4]>\n",
      "$ spatial            \u001b[3m\u001b[90m<chr>\u001b[39m\u001b[23m \"{}\", \"{}\", \"{}\", \"{}\"\n"
     ]
    }
   ],
   "source": [
    "# SOURCE DECLARATION: FOLLOWING CODE BLOCK IS WRITTEN FROM STATSNZ AND WE HAVE MADE SMALL CHANGES TO GET THE REQUIRED DATA\n",
    "# ALSO USING PERSONAL API KEY\n",
    "Catalogue <- get_odata_catalogue(\n",
    "  service=\"https://api.stats.govt.nz/opendata/v1\",\n",
    "  endpoint=\"data.json\",\n",
    "  service_api_key = \"e71d9d8bcc7a430b991e2e4be88d3c43\" ### Angus STATSNZ API key\n",
    ")\n",
    "Catalogue %>% typeof()\n",
    "Catalogue %>% glimpse()"
   ]
  },
  {
   "cell_type": "markdown",
   "id": "21f41312-8970-44ba-bef1-dbded52729c5",
   "metadata": {},
   "source": [
    "Getting resource (info about datasets) and observation data (actual data in datasets)"
   ]
  },
  {
   "cell_type": "code",
   "execution_count": 6,
   "id": "71710b92-88be-4c82-b5ca-e1b3d6dd479b",
   "metadata": {},
   "outputs": [],
   "source": [
    "# SOURCE DECLARATION: FOLLOWING CODE BLOCK IS WRITTEN FROM STATSNZ AND WE HAVE MADE SMALL CHANGES TO GET THE REQUIRED DATA\n",
    "# ALSO USING PERSONAL API KEY\n",
    "get_odata <-  function(service, endpoint, entity, query_option, service_api_key) {\n",
    "  \n",
    "  config_proxy <- use_proxy(\n",
    "    url = curl::ie_get_proxy_for_url(service),\n",
    "    auth = \"any\",\n",
    "    username = \"\"\n",
    "  )\n",
    "  \n",
    "  odata_url <- URLencode(paste0(service, \"/\", endpoint, \"/\", entity, \"?\", query_option))\n",
    "  top_query <- grepl(\"$top\",query_option,fixed=TRUE)\n",
    "  \n",
    "  # continue getting results while there are additional pages\n",
    "  \n",
    "  while (!is.null(odata_url)) {\n",
    "    \n",
    "    result <- GET(odata_url,\n",
    "                  config_proxy,\n",
    "                  add_headers(.headers = c(\"Content-Type\" = \"application/json;charset=UTF-8\",\n",
    "                                           \"Ocp-Apim-Subscription-Key\" = service_api_key)),\n",
    "                  timeout(60)\n",
    "    )\n",
    "    \n",
    "    \n",
    "    # catch errors\n",
    "    \n",
    "    if (http_type(result) != \"application/json\") {\n",
    "      stop(\"API did not return json\", call. = FALSE)\n",
    "    }\n",
    "    \n",
    "    \n",
    "    if (http_error(result)) {\n",
    "      stop(\n",
    "        sprintf(\n",
    "          \"The request failed - %s \\n%s \\n%s \",\n",
    "          http_status(result)$message,\n",
    "          fromJSON(content(result, \"text\"))$value,\n",
    "          odata_url\n",
    "        ),\n",
    "        call. = FALSE\n",
    "      )\n",
    "    }\n",
    "    \n",
    "    \n",
    "    # parse and concatenate result while retaining UTF-8 encoded characters\n",
    "    \n",
    "    parsed <- jsonlite::fromJSON(content(result, \"text\", encoding = \"UTF-8\"), flatten = TRUE)\n",
    "    response  <- rbind(parsed$value, if(exists(\"response\")) response)\n",
    "    odata_url <- parsed$'@odata.nextLink'\n",
    "    \n",
    "    \n",
    "    cat(\"\\r\", nrow(response), \"obs retrieved\")\n",
    "    \n",
    "    # break when top(n) obs are specified\n",
    "    \n",
    "    if (top_query) {\n",
    "      break\n",
    "    }\n",
    "    \n",
    "  }\n",
    "  \n",
    "  structure(response,\n",
    "            comment = \"Odata response\")\n",
    "  \n",
    "}"
   ]
  },
  {
   "cell_type": "markdown",
   "id": "d951176d-e604-48bd-a918-3ec1f562324b",
   "metadata": {},
   "source": [
    "Getting Covid 19 Case number dataset from API"
   ]
  },
  {
   "cell_type": "code",
   "execution_count": 17,
   "id": "80f25ba3-9dda-4247-ab1c-b5de69bc1775",
   "metadata": {},
   "outputs": [
    {
     "name": "stdout",
     "output_type": "stream",
     "text": [
      " 39592 obs retrieved"
     ]
    }
   ],
   "source": [
    "# SOURCE DECLARATION: FOLLOWING CODE BLOCK IS WRITTEN FROM STATSNZ AND WE HAVE MADE SMALL CHANGES TO GET THE REQUIRED DATA\n",
    "# ALSO USING PERSONAL API KEY \n",
    "Overseas_Cargo_Resources <-  Filter(function(x)!all(is.na(x)),\n",
    "                      get_odata(\n",
    "                        service = \"https://api.stats.govt.nz/opendata/v1\",\n",
    "                        endpoint = \"OverseasCargo\",\n",
    "                        entity = \"Resources\",\n",
    "                        query_option = \"$filter=(ResourceID eq 'OSC1.1')\",\n",
    "                        service_api_key = \"e71d9d8bcc7a430b991e2e4be88d3c43\")) ### Angus STATSNZ API key \n",
    "\n",
    "\n",
    "Overseas_Cargo_Observations <-  Filter(function(x)!all(is.na(x)),\n",
    "                         get_odata(\n",
    "                           service = \"https://api.stats.govt.nz/opendata/v1\",\n",
    "                           endpoint = \"OverseasCargo\",\n",
    "                           entity = \"Observations\",\n",
    "                           query_option = \"$filter=(ResourceID eq 'OSC1.1')\",\n",
    "                           service_api_key = \"e71d9d8bcc7a430b991e2e4be88d3c43\")) ### Angus STATSNZ API key\n",
    "\n",
    "\n"
   ]
  },
  {
   "cell_type": "code",
   "execution_count": 18,
   "id": "b239582b-ea4e-49ea-b450-a956e8733607",
   "metadata": {},
   "outputs": [],
   "source": [
    "Overseas_Cargo_dataset = Overseas_Cargo_Resources %>% full_join(Overseas_Cargo_Observations, by = \"ResourceID\")"
   ]
  },
  {
   "cell_type": "code",
   "execution_count": 20,
   "id": "2c9da125-11cc-41ab-a175-a9dd2ac4748e",
   "metadata": {},
   "outputs": [],
   "source": [
    "write.csv(Overseas_Cargo_dataset,\"Overseas_Cargo_dataset.csv\") "
   ]
  },
  {
   "cell_type": "code",
   "execution_count": null,
   "id": "6d3c8caf-284b-4ae3-8de8-0b647f9447af",
   "metadata": {},
   "outputs": [],
   "source": []
  }
 ],
 "metadata": {
  "kernelspec": {
   "display_name": "R",
   "language": "R",
   "name": "ir"
  },
  "language_info": {
   "codemirror_mode": "r",
   "file_extension": ".r",
   "mimetype": "text/x-r-source",
   "name": "R",
   "pygments_lexer": "r",
   "version": "4.1.1"
  }
 },
 "nbformat": 4,
 "nbformat_minor": 5
}
