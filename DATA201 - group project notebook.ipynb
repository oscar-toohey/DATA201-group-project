{
 "cells": [
  {
   "cell_type": "markdown",
   "id": "110a6721",
   "metadata": {},
   "source": [
    "# Group project - DATA201\n"
   ]
  },
  {
   "cell_type": "markdown",
   "id": "7b62187d",
   "metadata": {},
   "source": [
    "# By Oscar Toohey, Jamie Barnes and Seth"
   ]
  },
  {
   "cell_type": "code",
   "execution_count": null,
   "id": "b3333cbb",
   "metadata": {},
   "outputs": [],
   "source": []
  }
 ],
 "metadata": {
  "kernelspec": {
   "display_name": "R",
   "language": "R",
   "name": "ir"
  },
  "language_info": {
   "codemirror_mode": "r",
   "file_extension": ".r",
   "mimetype": "text/x-r-source",
   "name": "R",
   "pygments_lexer": "r",
   "version": "4.1.0"
  }
 },
 "nbformat": 4,
 "nbformat_minor": 5
}
