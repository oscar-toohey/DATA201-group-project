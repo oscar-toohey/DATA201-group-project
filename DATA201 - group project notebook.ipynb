{
 "cells": [
  {
   "cell_type": "markdown",
   "id": "110a6721",
   "metadata": {},
   "source": [
    "# Group project - DATA201\n"
   ]
  },
  {
   "cell_type": "markdown",
   "id": "7b62187d",
   "metadata": {},
   "source": [
    "# By Oscar Toohey, Jamie Barnes, Seth Gunn, Bách Vũ Việt"
   ]
  },
  {
   "cell_type": "markdown",
   "id": "98231686-40f8-42a5-9c7d-71c4b027486a",
   "metadata": {},
   "source": []
  },
  {
   "cell_type": "code",
   "execution_count": 17,
   "id": "b3333cbb",
   "metadata": {},
   "outputs": [],
   "source": [
    "# Install tidyverse, rvest and reshape\n",
    "library(tidyverse)\n",
    "library(rvest)\n",
    "library(magrittr) # better handling of pipes\n",
    "library(purrr) \n",
    "\n",
    "# load ggplot2\n",
    "library(ggplot2)"
   ]
  },
  {
   "cell_type": "code",
   "execution_count": null,
   "id": "8053d864-2398-4e43-b806-e0aef79b970a",
   "metadata": {},
   "outputs": [],
   "source": []
  },
  {
   "cell_type": "code",
   "execution_count": null,
   "id": "727a1b77-e60f-475b-90b1-918534777b8a",
   "metadata": {},
   "outputs": [],
   "source": []
  },
  {
   "cell_type": "code",
   "execution_count": null,
   "id": "1e0957ac-3b6c-4fc8-93dd-69eff91864db",
   "metadata": {},
   "outputs": [],
   "source": []
  },
  {
   "cell_type": "markdown",
   "id": "536f9fa6-e2c1-4b91-9794-db4d531daab4",
   "metadata": {},
   "source": [
    "## Tourism"
   ]
  },
  {
   "cell_type": "code",
   "execution_count": 26,
   "id": "6dcc1a41-1919-4ac8-8da0-969d380101c1",
   "metadata": {
    "tags": []
   },
   "outputs": [
    {
     "name": "stderr",
     "output_type": "stream",
     "text": [
      "\u001b[1m\u001b[1mRows: \u001b[1m\u001b[22m\u001b[34m\u001b[34m121\u001b[34m\u001b[39m \u001b[1m\u001b[1mColumns: \u001b[1m\u001b[22m\u001b[34m\u001b[34m3\u001b[34m\u001b[39m\n",
      "\n",
      "\u001b[36m--\u001b[39m \u001b[1m\u001b[1mColumn specification\u001b[1m\u001b[22m \u001b[36m--------------------------------------------------------\u001b[39m\n",
      "\u001b[1mDelimiter:\u001b[22m \",\"\n",
      "\u001b[31mchr\u001b[39m (1): Month-Year\n",
      "\n",
      "\n",
      "\u001b[36mi\u001b[39m Use \u001b[30m\u001b[47m\u001b[30m\u001b[47m`spec()`\u001b[47m\u001b[30m\u001b[49m\u001b[39m to retrieve the full column specification for this data.\n",
      "\u001b[36mi\u001b[39m Specify the column types or set \u001b[30m\u001b[47m\u001b[30m\u001b[47m`show_col_types = FALSE`\u001b[47m\u001b[30m\u001b[49m\u001b[39m to quiet this message.\n",
      "\n"
     ]
    },
    {
     "name": "stdout",
     "output_type": "stream",
     "text": [
      "Rows: 121\n",
      "Columns: 3\n",
      "$ `Month-Year`          \u001b[3m\u001b[90m<chr>\u001b[39m\u001b[23m \"Jun-11\", \"Jul-11\", \"Aug-11\", \"Sep-11\", \"Oct-11\"~\n",
      "$ Actual                \u001b[3m\u001b[90m<dbl>\u001b[39m\u001b[23m 131269, 176084, 175909, 219940, 215902, 230292, ~\n",
      "$ `Seasonally adjusted` \u001b[3m\u001b[90m<dbl>\u001b[39m\u001b[23m 186800, 212580, 220580, 262350, 247820, 215640, ~\n"
     ]
    },
    {
     "data": {
      "text/html": [
       "<table class=\"dataframe\">\n",
       "<caption>A tibble: 0 × 5</caption>\n",
       "<thead>\n",
       "\t<tr><th scope=col>row</th><th scope=col>col</th><th scope=col>expected</th><th scope=col>actual</th><th scope=col>file</th></tr>\n",
       "\t<tr><th scope=col>&lt;int&gt;</th><th scope=col>&lt;int&gt;</th><th scope=col>&lt;chr&gt;</th><th scope=col>&lt;chr&gt;</th><th scope=col>&lt;chr&gt;</th></tr>\n",
       "</thead>\n",
       "<tbody>\n",
       "</tbody>\n",
       "</table>\n"
      ],
      "text/latex": [
       "A tibble: 0 × 5\n",
       "\\begin{tabular}{lllll}\n",
       " row & col & expected & actual & file\\\\\n",
       " <int> & <int> & <chr> & <chr> & <chr>\\\\\n",
       "\\hline\n",
       "\\end{tabular}\n"
      ],
      "text/markdown": [
       "\n",
       "A tibble: 0 × 5\n",
       "\n",
       "| row &lt;int&gt; | col &lt;int&gt; | expected &lt;chr&gt; | actual &lt;chr&gt; | file &lt;chr&gt; |\n",
       "|---|---|---|---|---|\n",
       "\n"
      ],
      "text/plain": [
       "     row col expected actual file"
      ]
     },
     "metadata": {},
     "output_type": "display_data"
    }
   ],
   "source": [
    "tourism_df <- read_csv(file = \"data/TourismStatNZ.csv\")\n",
    "tourism_df %>% glimpse()\n",
    "tourism_df %>% problems()"
   ]
  },
  {
   "cell_type": "code",
   "execution_count": 29,
   "id": "ff2c1508-76a3-459e-9b6f-018b58eac867",
   "metadata": {},
   "outputs": [
    {
     "data": {
      "text/plain": [
       "{html_document}\n",
       "<html lang=\"en-NZ\">\n",
       "[1] <head profile=\"http://www.w3.org/2005/10/profile\">\\n<base href=\"https://w ...\n",
       "[2] <body class=\"BlockPage\" dir=\"ltr\">\\n    <!-- Google Tag Manager (noscript ..."
      ]
     },
     "metadata": {},
     "output_type": "display_data"
    },
    {
     "name": "stdout",
     "output_type": "stream",
     "text": [
      " list()\n",
      " - attr(*, \"class\")= chr \"xml_nodeset\"\n"
     ]
    },
    {
     "data": {
      "text/html": [
       "0"
      ],
      "text/latex": [
       "0"
      ],
      "text/markdown": [
       "0"
      ],
      "text/plain": [
       "[1] 0"
      ]
     },
     "metadata": {},
     "output_type": "display_data"
    }
   ],
   "source": [
    "# Scrapping do not work for StatNZ - no script\n",
    "url_titles <- \"https://www.stats.govt.nz/topics/tourism\" # to get the url of the webpage where the scraping has started\n",
    "article <- read_html(url_titles) # to read and parse the webpage into R (in html document)\n",
    "article\n",
    "\n",
    "tourism_list <- article %>%\n",
    "    html_nodes(\"td\")\n",
    "\n",
    "tourism_list %>% glimpse() # to have a brief look at the actuall link of the html\n",
    "length(tourism_list)"
   ]
  },
  {
   "cell_type": "code",
   "execution_count": null,
   "id": "0b542114-c7e6-47cf-85bb-5a38b094ca8a",
   "metadata": {},
   "outputs": [],
   "source": []
  },
  {
   "cell_type": "code",
   "execution_count": null,
   "id": "806a6641-2b84-404b-8570-dbac4e6d4f60",
   "metadata": {},
   "outputs": [],
   "source": []
  },
  {
   "cell_type": "code",
   "execution_count": null,
   "id": "16057b42-e006-4cc7-ac3d-f61a98f68b7a",
   "metadata": {},
   "outputs": [],
   "source": []
  },
  {
   "cell_type": "code",
   "execution_count": null,
   "id": "3301673c-3fda-48f9-a030-412fda6815ae",
   "metadata": {},
   "outputs": [],
   "source": []
  },
  {
   "cell_type": "code",
   "execution_count": null,
   "id": "2c9069f4-9c57-4270-b887-f2bfb289c782",
   "metadata": {},
   "outputs": [],
   "source": []
  },
  {
   "cell_type": "code",
   "execution_count": null,
   "id": "9bb43130-4a49-40e9-97bc-fbc5532e2bf4",
   "metadata": {},
   "outputs": [],
   "source": []
  },
  {
   "cell_type": "code",
   "execution_count": 1,
   "id": "8d24df62-e26f-43fd-9641-d1e39a65c697",
   "metadata": {},
   "outputs": [],
   "source": [
    "# install.packages(\"tidyverse\")\n",
    "# install.packages(\"visdat\")\n",
    "# install.packages(\"skimr\")"
   ]
  },
  {
   "cell_type": "code",
   "execution_count": 2,
   "id": "16838265-dac8-4f5e-ae47-2b49c5767939",
   "metadata": {},
   "outputs": [
    {
     "name": "stderr",
     "output_type": "stream",
     "text": [
      "Warning message in system(\"timedatectl\", intern = TRUE):\n",
      "“running command 'timedatectl' had status 1”\n",
      "── \u001b[1mAttaching packages\u001b[22m ─────────────────────────────────────────────────────────────────────────────── tidyverse 1.3.1 ──\n",
      "\n",
      "\u001b[32m✔\u001b[39m \u001b[34mggplot2\u001b[39m 3.3.5     \u001b[32m✔\u001b[39m \u001b[34mpurrr  \u001b[39m 0.3.4\n",
      "\u001b[32m✔\u001b[39m \u001b[34mtibble \u001b[39m 3.1.5     \u001b[32m✔\u001b[39m \u001b[34mdplyr  \u001b[39m 1.0.7\n",
      "\u001b[32m✔\u001b[39m \u001b[34mtidyr  \u001b[39m 1.1.4     \u001b[32m✔\u001b[39m \u001b[34mstringr\u001b[39m 1.4.0\n",
      "\u001b[32m✔\u001b[39m \u001b[34mreadr  \u001b[39m 2.0.2     \u001b[32m✔\u001b[39m \u001b[34mforcats\u001b[39m 0.5.1\n",
      "\n",
      "── \u001b[1mConflicts\u001b[22m ────────────────────────────────────────────────────────────────────────────────── tidyverse_conflicts() ──\n",
      "\u001b[31m✖\u001b[39m \u001b[34mdplyr\u001b[39m::\u001b[32mfilter()\u001b[39m masks \u001b[34mstats\u001b[39m::filter()\n",
      "\u001b[31m✖\u001b[39m \u001b[34mdplyr\u001b[39m::\u001b[32mlag()\u001b[39m    masks \u001b[34mstats\u001b[39m::lag()\n",
      "\n"
     ]
    }
   ],
   "source": [
    "library(tidyverse)\n",
    "library(visdat)\n",
    "library(skimr)"
   ]
  },
  {
   "cell_type": "markdown",
   "id": "28b217db-7eb4-4dbf-974f-87620d6ebc6d",
   "metadata": {},
   "source": [
    "Reading CSV files"
   ]
  },
  {
   "cell_type": "code",
   "execution_count": 3,
   "id": "99fb01f0-6afc-411f-9da2-8112001a8222",
   "metadata": {},
   "outputs": [
    {
     "name": "stderr",
     "output_type": "stream",
     "text": [
      "\u001b[1m\u001b[1mRows: \u001b[1m\u001b[22m\u001b[34m\u001b[34m25098\u001b[34m\u001b[39m \u001b[1m\u001b[1mColumns: \u001b[1m\u001b[22m\u001b[34m\u001b[34m6\u001b[34m\u001b[39m\n",
      "\n",
      "\u001b[36m──\u001b[39m \u001b[1m\u001b[1mColumn specification\u001b[1m\u001b[22m \u001b[36m────────────────────────────────────────────────────────────────────────────────────────────────\u001b[39m\n",
      "\u001b[1mDelimiter:\u001b[22m \",\"\n",
      "\u001b[31mchr\u001b[39m (5): great_walk, seasonality, hut_or_campsite, measure, date\n",
      "\u001b[32mdbl\u001b[39m (1): count\n",
      "\n",
      "\n",
      "\u001b[36mℹ\u001b[39m Use \u001b[30m\u001b[47m\u001b[30m\u001b[47m`spec()`\u001b[47m\u001b[30m\u001b[49m\u001b[39m to retrieve the full column specification for this data.\n",
      "\u001b[36mℹ\u001b[39m Specify the column types or set \u001b[30m\u001b[47m\u001b[30m\u001b[47m`show_col_types = FALSE`\u001b[47m\u001b[30m\u001b[49m\u001b[39m to quiet this message.\n",
      "\n"
     ]
    }
   ],
   "source": [
    "gw_bookings_df <- read_csv(file = \"data/DOC_great_walks_booking/use-of-public-conservation-land-great-walks-200517.csv\")"
   ]
  },
  {
   "cell_type": "markdown",
   "id": "f742ce7d-733f-4782-ac5f-eada1326cc19",
   "metadata": {},
   "source": [
    "Checking data"
   ]
  },
  {
   "cell_type": "code",
   "execution_count": 4,
   "id": "26ef8da5-32f3-45ee-ba1e-3287f7bfabf0",
   "metadata": {},
   "outputs": [
    {
     "name": "stdout",
     "output_type": "stream",
     "text": [
      "Rows: 25,098\n",
      "Columns: 6\n",
      "$ great_walk      \u001b[3m\u001b[90m<chr>\u001b[39m\u001b[23m \"Abel Tasman Coast Track - Great Walk\", \"Abel Tasman C…\n",
      "$ seasonality     \u001b[3m\u001b[90m<chr>\u001b[39m\u001b[23m \"Year-round\", \"Year-round\", \"Year-round\", \"Year-round\"…\n",
      "$ hut_or_campsite \u001b[3m\u001b[90m<chr>\u001b[39m\u001b[23m \"Akersten Bay Campsite\", \"Akersten Bay Campsite\", \"Ana…\n",
      "$ measure         \u001b[3m\u001b[90m<chr>\u001b[39m\u001b[23m \"BookedUnits\", \"Capacity\", \"BookedUnits\", \"Capacity\", …\n",
      "$ date            \u001b[3m\u001b[90m<chr>\u001b[39m\u001b[23m \"1/10/2005\", \"1/10/2005\", \"1/10/2005\", \"1/10/2005\", \"1…\n",
      "$ count           \u001b[3m\u001b[90m<dbl>\u001b[39m\u001b[23m 6, 180, 24, 336, 365, 3100, 425, 1054, 70, 840, 125, 1…\n",
      "── Data Summary ────────────────────────\n",
      "                           Values    \n",
      "Name                       Piped data\n",
      "Number of rows             25098     \n",
      "Number of columns          6         \n",
      "_______________________              \n",
      "Column type frequency:               \n",
      "  character                5         \n",
      "  numeric                  1         \n",
      "________________________             \n",
      "Group variables            None      \n",
      "\n",
      "── Variable type: character ────────────────────────────────────────────────────\n",
      "  skim_variable   n_missing complete_rate   min   max empty n_unique whitespace\n",
      "1 great_walk              0             1    25    39     0        9          0\n",
      "2 seasonality             0             1     8    10     0        2          0\n",
      "3 hut_or_campsite         0             1     9    41     0       89          0\n",
      "4 measure                 0             1     8    11     0        2          0\n",
      "5 date                    0             1     9     9     0      141          0\n",
      "\n",
      "── Variable type: numeric ──────────────────────────────────────────────────────\n",
      "  skim_variable n_missing complete_rate  mean    sd    p0   p25   p50   p75\n",
      "1 count              6756         0.731  492.  496.     0    86   360   750\n",
      "   p100 hist \n",
      "1  3100 ▇▃▁▁▁\n"
     ]
    },
    {
     "data": {
      "image/png": "[encoded data removed]",
      "text/plain": [
       "plot without title"
      ]
     },
     "metadata": {
      "image/png": {
       "height": 420,
       "width": 420
      }
     },
     "output_type": "display_data"
    }
   ],
   "source": [
    "gw_bookings_df %>% glimpse()\n",
    "gw_bookings_df %>% skim()\n",
    "gw_bookings_df %>% vis_miss()"
   ]
  },
  {
   "cell_type": "markdown",
   "id": "37b8ca9e-042e-4935-8de7-56c222f341ae",
   "metadata": {},
   "source": [
    "# Manipulating Data"
   ]
  },
  {
   "cell_type": "markdown",
   "id": "660b6c66-df21-4d68-b4c5-627c7d3113d8",
   "metadata": {},
   "source": [
    "_Widening the data_"
   ]
  },
  {
   "cell_type": "code",
   "execution_count": 5,
   "id": "e6663f26-f64e-452a-a1ce-a20ca3925f7b",
   "metadata": {},
   "outputs": [
    {
     "name": "stdout",
     "output_type": "stream",
     "text": [
      "Rows: 12,549\n",
      "Columns: 7\n",
      "$ great_walk      <chr> \"Abel Tasman Coast Track - Great Walk\", \"Abel Tasman C…\n",
      "$ seasonality     <chr> \"Year-round\", \"Year-round\", \"Year-round\", \"Year-round\"…\n",
      "$ hut_or_campsite <chr> \"Akersten Bay Campsite\", \"Akersten Bay Campsite\", \"Ake…\n",
      "$ date            <chr> \"1/01/2006\", \"1/01/2007\", \"1/01/2008\", \"1/01/2009\", \"1…\n",
      "$ BookedUnits     <dbl> 73, 65, 70, 129, 106, 121, 101, 104, 96, 112, 150, 156…\n",
      "$ Capacity        <dbl> 180, 180, 180, 180, 174, 174, 168, 174, 174, 162, 180,…\n",
      "$ full_pcnt       <dbl> 40.555556, 36.111111, 38.888889, 71.666667, 60.919540,…\n",
      "── Data Summary ────────────────────────\n",
      "                           Values    \n",
      "Name                       Piped data\n",
      "Number of rows             12549     \n",
      "Number of columns          7         \n",
      "_______________________              \n",
      "Column type frequency:               \n",
      "  character                4         \n",
      "  numeric                  3         \n",
      "________________________             \n",
      "Group variables            None      \n",
      "\n",
      "── Variable type: character ────────────────────────────────────────────────────\n",
      "  skim_variable   n_missing complete_rate   min   max empty n_unique whitespace\n",
      "1 great_walk              0             1    25    39     0        9          0\n",
      "2 seasonality             0             1     8    10     0        2          0\n",
      "3 hut_or_campsite         0             1     9    41     0       89          0\n",
      "4 date                    0             1     9     9     0      141          0\n",
      "\n",
      "── Variable type: numeric ──────────────────────────────────────────────────────\n",
      "  skim_variable n_missing complete_rate  mean    sd    p0    p25   p50    p75\n",
      "1 BookedUnits        3378         0.731 242.  359.      0  16     88    308. \n",
      "2 Capacity           3378         0.731 743.  487.      8 400    600   1008  \n",
      "3 full_pcnt          3378         0.731  27.4  29.1     0   3.18  16.5   44.6\n",
      "   p100 hist \n",
      "1 2800  ▇▁▁▁▁\n",
      "2 3100  ▇▆▁▁▁\n",
      "3  108. ▇▂▂▁▁\n"
     ]
    },
    {
     "data": {
      "image/png": "[encoded data removed]",
      "text/plain": [
       "plot without title"
      ]
     },
     "metadata": {
      "image/png": {
       "height": 420,
       "width": 420
      }
     },
     "output_type": "display_data"
    }
   ],
   "source": [
    "gw_bookings_wide_df <- gw_bookings_df %>%\n",
    "    spread(key = measure,\n",
    "           value = count) %>%\n",
    "    mutate(full_pcnt = BookedUnits / Capacity * 100)\n",
    "    \n",
    "# Need to rename BookedUnits and Capacity (probably to total_booked and total_capacity) but I forgor how\n",
    "\n",
    "gw_bookings_wide_df %>% glimpse()\n",
    "gw_bookings_wide_df %>% skim()\n",
    "gw_bookings_wide_df %>% vis_miss()"
   ]
  },
  {
   "cell_type": "code",
   "execution_count": 6,
   "id": "eabbc939-ab1c-49d0-8989-177aa94096a4",
   "metadata": {},
   "outputs": [
    {
     "data": {
      "text/html": [
       "<table class=\"dataframe\">\n",
       "<caption>A grouped_df: 7 × 3</caption>\n",
       "<thead>\n",
       "\t<tr><th scope=col>great_walk</th><th scope=col>hut_or_campsite</th><th scope=col>times_overbooked</th></tr>\n",
       "\t<tr><th scope=col>&lt;chr&gt;</th><th scope=col>&lt;chr&gt;</th><th scope=col>&lt;int&gt;</th></tr>\n",
       "</thead>\n",
       "<tbody>\n",
       "\t<tr><td>Kepler Track - Great Walk   </td><td>Iris Burn Hut      </td><td> 4</td></tr>\n",
       "\t<tr><td>Kepler Track - Great Walk   </td><td>Luxmore Hut        </td><td> 3</td></tr>\n",
       "\t<tr><td>Milford Track - Great Walk  </td><td>Mintaro Hut        </td><td>20</td></tr>\n",
       "\t<tr><td>Milford Track - Great Walk  </td><td>Clinton Hut        </td><td>18</td></tr>\n",
       "\t<tr><td>Milford Track - Great Walk  </td><td>Dumpling Hut       </td><td>16</td></tr>\n",
       "\t<tr><td>Routeburn Track - Great Walk</td><td>Lake Mackenzie Hut </td><td>15</td></tr>\n",
       "\t<tr><td>Routeburn Track - Great Walk</td><td>Routeburn Falls Hut</td><td> 2</td></tr>\n",
       "</tbody>\n",
       "</table>\n"
      ],
      "text/latex": [
       "A grouped\\_df: 7 × 3\n",
       "\\begin{tabular}{lll}\n",
       " great\\_walk & hut\\_or\\_campsite & times\\_overbooked\\\\\n",
       " <chr> & <chr> & <int>\\\\\n",
       "\\hline\n",
       "\t Kepler Track - Great Walk    & Iris Burn Hut       &  4\\\\\n",
       "\t Kepler Track - Great Walk    & Luxmore Hut         &  3\\\\\n",
       "\t Milford Track - Great Walk   & Mintaro Hut         & 20\\\\\n",
       "\t Milford Track - Great Walk   & Clinton Hut         & 18\\\\\n",
       "\t Milford Track - Great Walk   & Dumpling Hut        & 16\\\\\n",
       "\t Routeburn Track - Great Walk & Lake Mackenzie Hut  & 15\\\\\n",
       "\t Routeburn Track - Great Walk & Routeburn Falls Hut &  2\\\\\n",
       "\\end{tabular}\n"
      ],
      "text/markdown": [
       "\n",
       "A grouped_df: 7 × 3\n",
       "\n",
       "| great_walk &lt;chr&gt; | hut_or_campsite &lt;chr&gt; | times_overbooked &lt;int&gt; |\n",
       "|---|---|---|\n",
       "| Kepler Track - Great Walk    | Iris Burn Hut       |  4 |\n",
       "| Kepler Track - Great Walk    | Luxmore Hut         |  3 |\n",
       "| Milford Track - Great Walk   | Mintaro Hut         | 20 |\n",
       "| Milford Track - Great Walk   | Clinton Hut         | 18 |\n",
       "| Milford Track - Great Walk   | Dumpling Hut        | 16 |\n",
       "| Routeburn Track - Great Walk | Lake Mackenzie Hut  | 15 |\n",
       "| Routeburn Track - Great Walk | Routeburn Falls Hut |  2 |\n",
       "\n"
      ],
      "text/plain": [
       "  great_walk                   hut_or_campsite     times_overbooked\n",
       "1 Kepler Track - Great Walk    Iris Burn Hut        4              \n",
       "2 Kepler Track - Great Walk    Luxmore Hut          3              \n",
       "3 Milford Track - Great Walk   Mintaro Hut         20              \n",
       "4 Milford Track - Great Walk   Clinton Hut         18              \n",
       "5 Milford Track - Great Walk   Dumpling Hut        16              \n",
       "6 Routeburn Track - Great Walk Lake Mackenzie Hut  15              \n",
       "7 Routeburn Track - Great Walk Routeburn Falls Hut  2              "
      ]
     },
     "metadata": {},
     "output_type": "display_data"
    }
   ],
   "source": [
    "gw_bookings_wide_df %>%\n",
    "    filter(\n",
    "            full_pcnt > 100\n",
    "            # ,seasonality == \"Year-round\"\n",
    "          ) %>%\n",
    "    group_by(great_walk, hut_or_campsite) %>%\n",
    "    tally(name=\"times_overbooked\") %>%\n",
    "    arrange(great_walk, desc(times_overbooked))"
   ]
  }
 ],
 "metadata": {
  "kernelspec": {
   "display_name": "R",
   "language": "R",
   "name": "ir"
  },
  "language_info": {
   "codemirror_mode": "r",
   "file_extension": ".r",
   "mimetype": "text/x-r-source",
   "name": "R",
   "pygments_lexer": "r",
   "version": "4.1.1"
  }
 },
 "nbformat": 4,
 "nbformat_minor": 5
}
