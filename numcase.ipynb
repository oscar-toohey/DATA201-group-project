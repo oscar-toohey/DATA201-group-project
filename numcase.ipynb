{
 "cells": [
  {
   "cell_type": "code",
   "execution_count": 4,
   "id": "68d27e53-cb70-43e4-8d8b-817a2d9946be",
   "metadata": {
    "collapsed": true,
    "jupyter": {
     "outputs_hidden": true
    },
    "tags": []
   },
   "outputs": [
    {
     "name": "stderr",
     "output_type": "stream",
     "text": [
      "-- \u001b[1mAttaching packages\u001b[22m --------------------------------------- tidyverse 1.3.1 --\n",
      "\n",
      "\u001b[32mv\u001b[39m \u001b[34mggplot2\u001b[39m 3.3.5     \u001b[32mv\u001b[39m \u001b[34mpurrr  \u001b[39m 0.3.4\n",
      "\u001b[32mv\u001b[39m \u001b[34mtibble \u001b[39m 3.1.3     \u001b[32mv\u001b[39m \u001b[34mdplyr  \u001b[39m 1.0.7\n",
      "\u001b[32mv\u001b[39m \u001b[34mtidyr  \u001b[39m 1.1.3     \u001b[32mv\u001b[39m \u001b[34mstringr\u001b[39m 1.4.0\n",
      "\u001b[32mv\u001b[39m \u001b[34mreadr  \u001b[39m 2.0.0     \u001b[32mv\u001b[39m \u001b[34mforcats\u001b[39m 0.5.1\n",
      "\n",
      "-- \u001b[1mConflicts\u001b[22m ------------------------------------------ tidyverse_conflicts() --\n",
      "\u001b[31mx\u001b[39m \u001b[34mdplyr\u001b[39m::\u001b[32mfilter()\u001b[39m masks \u001b[34mstats\u001b[39m::filter()\n",
      "\u001b[31mx\u001b[39m \u001b[34mdplyr\u001b[39m::\u001b[32mlag()\u001b[39m    masks \u001b[34mstats\u001b[39m::lag()\n",
      "\n",
      "\n",
      "Attaching package: 'magrittr'\n",
      "\n",
      "\n",
      "The following object is masked from 'package:purrr':\n",
      "\n",
      "    set_names\n",
      "\n",
      "\n",
      "The following object is masked from 'package:tidyr':\n",
      "\n",
      "    extract\n",
      "\n",
      "\n",
      "\n",
      "Attaching package: 'glue'\n",
      "\n",
      "\n",
      "The following object is masked from 'package:dplyr':\n",
      "\n",
      "    collapse\n",
      "\n",
      "\n",
      "Warning message:\n",
      "\"package 'rvest' was built under R version 4.1.1\"\n",
      "\n",
      "Attaching package: 'rvest'\n",
      "\n",
      "\n",
      "The following object is masked from 'package:readr':\n",
      "\n",
      "    guess_encoding\n",
      "\n",
      "\n"
     ]
    },
    {
     "ename": "ERROR",
     "evalue": "Error in library(polite): there is no package called 'polite'\n",
     "output_type": "error",
     "traceback": [
      "Error in library(polite): there is no package called 'polite'\nTraceback:\n",
      "1. library(polite)"
     ]
    }
   ],
   "source": [
    "library(tidyverse)\n",
    "library(magrittr) # better handling of pipes\n",
    "library(purrr) # to work with lists and map functions\n",
    "library(glue) # to paste strings\n",
    "library(stringr) # to hand strings\n",
    "library(rvest) # rvest makes scraping easier\n",
    "library(polite) # polite is the \"polite\" version of rvest\n",
    "library(xml2) # makes it easier to work with HTML and XML from R\n",
    "library(ggplot2)\n",
    "library(httr)\n",
    "library(visdat)\n",
    "library(skimr)\n",
    "library(zoo)"
   ]
  },
  {
   "cell_type": "code",
   "execution_count": 35,
   "id": "f7b7902a-d4b3-4f90-b147-f7e279b3b826",
   "metadata": {
    "collapsed": true,
    "jupyter": {
     "outputs_hidden": true
    },
    "tags": []
   },
   "outputs": [
    {
     "name": "stderr",
     "output_type": "stream",
     "text": [
      "New names:\n",
      "* `` -> ...1\n",
      "\n",
      "\u001b[1m\u001b[1mRows: \u001b[1m\u001b[22m\u001b[34m\u001b[34m1554\u001b[34m\u001b[39m \u001b[1m\u001b[1mColumns: \u001b[1m\u001b[22m\u001b[34m\u001b[34m18\u001b[34m\u001b[39m\n",
      "\n",
      "\u001b[36m--\u001b[39m \u001b[1m\u001b[1mColumn specification\u001b[1m\u001b[22m \u001b[36m--------------------------------------------------------\u001b[39m\n",
      "\u001b[1mDelimiter:\u001b[22m \",\"\n",
      "\u001b[31mchr\u001b[39m  (13): ResourceID, Subject, Title, Description, Source, SourceURL, Frequ...\n",
      "\u001b[32mdbl\u001b[39m   (3): ...1, Value, Multiplier\n",
      "\u001b[34mdttm\u001b[39m  (1): Modified\n",
      "\u001b[34mdate\u001b[39m  (1): Period\n",
      "\n",
      "\n",
      "\u001b[36mi\u001b[39m Use \u001b[30m\u001b[47m\u001b[30m\u001b[47m`spec()`\u001b[47m\u001b[30m\u001b[49m\u001b[39m to retrieve the full column specification for this data.\n",
      "\u001b[36mi\u001b[39m Specify the column types or set \u001b[30m\u001b[47m\u001b[30m\u001b[47m`show_col_types = FALSE`\u001b[47m\u001b[30m\u001b[49m\u001b[39m to quiet this message.\n",
      "\n",
      "\u001b[1m\u001b[1mRows: \u001b[1m\u001b[22m\u001b[34m\u001b[34m45262\u001b[34m\u001b[39m \u001b[1m\u001b[1mColumns: \u001b[1m\u001b[22m\u001b[34m\u001b[34m11\u001b[34m\u001b[39m\n",
      "\n",
      "\u001b[36m--\u001b[39m \u001b[1m\u001b[1mColumn specification\u001b[1m\u001b[22m \u001b[36m--------------------------------------------------------\u001b[39m\n",
      "\u001b[1mDelimiter:\u001b[22m \",\"\n",
      "\u001b[31mchr\u001b[39m (8): hlpi_name, series_ref, quarter, hlpi, nzhec, nzhec_name, nzhec_shor...\n",
      "\u001b[32mdbl\u001b[39m (3): index, change.q, change.a\n",
      "\n",
      "\n",
      "\u001b[36mi\u001b[39m Use \u001b[30m\u001b[47m\u001b[30m\u001b[47m`spec()`\u001b[47m\u001b[30m\u001b[49m\u001b[39m to retrieve the full column specification for this data.\n",
      "\u001b[36mi\u001b[39m Specify the column types or set \u001b[30m\u001b[47m\u001b[30m\u001b[47m`show_col_types = FALSE`\u001b[47m\u001b[30m\u001b[49m\u001b[39m to quiet this message.\n",
      "\n"
     ]
    },
    {
     "name": "stdout",
     "output_type": "stream",
     "text": [
      "Rows: 1,554\n",
      "Columns: 18\n",
      "$ ...1        \u001b[3m\u001b[90m<dbl>\u001b[39m\u001b[23m 1, 2, 3, 4, 5, 6, 7, 8, 9, 10, 11, 12, 13, 14, 15, 16, 17,~\n",
      "$ ResourceID  \u001b[3m\u001b[90m<chr>\u001b[39m\u001b[23m \"CPCOV2\", \"CPCOV2\", \"CPCOV2\", \"CPCOV2\", \"CPCOV2\", \"CPCOV2\"~\n",
      "$ Subject     \u001b[3m\u001b[90m<chr>\u001b[39m\u001b[23m \"COVID-19\", \"COVID-19\", \"COVID-19\", \"COVID-19\", \"COVID-19\"~\n",
      "$ Title       \u001b[3m\u001b[90m<chr>\u001b[39m\u001b[23m \"Number of Cases\", \"Number of Cases\", \"Number of Cases\", \"~\n",
      "$ Description \u001b[3m\u001b[90m<chr>\u001b[39m\u001b[23m \"COVID-19 cases in New Zealand (cumulative)\", \"COVID-19 ca~\n",
      "$ Source      \u001b[3m\u001b[90m<chr>\u001b[39m\u001b[23m \"Ministry of Health\", \"Ministry of Health\", \"Ministry of H~\n",
      "$ SourceURL   \u001b[3m\u001b[90m<chr>\u001b[39m\u001b[23m \"https://www.health.govt.nz/our-work/diseases-and-conditio~\n",
      "$ Modified    \u001b[3m\u001b[90m<dttm>\u001b[39m\u001b[23m 2021-10-06 11:00:00, 2021-10-06 11:00:00, 2021-10-06 11:0~\n",
      "$ Frequency   \u001b[3m\u001b[90m<chr>\u001b[39m\u001b[23m \"Daily\", \"Daily\", \"Daily\", \"Daily\", \"Daily\", \"Daily\", \"Dai~\n",
      "$ Var1        \u001b[3m\u001b[90m<chr>\u001b[39m\u001b[23m \"Case status\", \"Case status\", \"Case status\", \"Case status\"~\n",
      "$ id          \u001b[3m\u001b[90m<chr>\u001b[39m\u001b[23m \"3934f4da-e3ed-43c4-8656-441f49f9c7ca\", \"2a4fa96a-27a1-423~\n",
      "$ Period      \u001b[3m\u001b[90m<date>\u001b[39m\u001b[23m 2020-02-28, 2020-02-29, 2020-03-01, 2020-03-02, 2020-03-0~\n",
      "$ Duration    \u001b[3m\u001b[90m<chr>\u001b[39m\u001b[23m \"P1D\", \"P1D\", \"P1D\", \"P1D\", \"P1D\", \"P1D\", \"P1D\", \"P1D\", \"P~\n",
      "$ Label1      \u001b[3m\u001b[90m<chr>\u001b[39m\u001b[23m \"Deceased\", \"Deceased\", \"Deceased\", \"Deceased\", \"Deceased\"~\n",
      "$ Value       \u001b[3m\u001b[90m<dbl>\u001b[39m\u001b[23m 0, 0, 0, 0, 0, 0, 0, 0, 0, 0, 0, 0, 0, 0, 0, 0, 0, 0, 0, 0~\n",
      "$ Unit        \u001b[3m\u001b[90m<chr>\u001b[39m\u001b[23m \"Number\", \"Number\", \"Number\", \"Number\", \"Number\", \"Number\"~\n",
      "$ Measure     \u001b[3m\u001b[90m<chr>\u001b[39m\u001b[23m \"COVID-19 cases\", \"COVID-19 cases\", \"COVID-19 cases\", \"COV~\n",
      "$ Multiplier  \u001b[3m\u001b[90m<dbl>\u001b[39m\u001b[23m 0, 0, 0, 0, 0, 0, 0, 0, 0, 0, 0, 0, 0, 0, 0, 0, 0, 0, 0, 0~\n",
      "Rows: 45,262\n",
      "Columns: 11\n",
      "$ hlpi_name   \u001b[3m\u001b[90m<chr>\u001b[39m\u001b[23m \"All households\", \"All households\", \"All households\", \"All~\n",
      "$ series_ref  \u001b[3m\u001b[90m<chr>\u001b[39m\u001b[23m \"HPIQ.SALL01\", \"HPIQ.SALL01\", \"HPIQ.SALL01\", \"HPIQ.SALL01\"~\n",
      "$ quarter     \u001b[3m\u001b[90m<chr>\u001b[39m\u001b[23m \"2008Q2\", \"2008Q3\", \"2008Q4\", \"2009Q1\", \"2009Q2\", \"2009Q3\"~\n",
      "$ hlpi        \u001b[3m\u001b[90m<chr>\u001b[39m\u001b[23m \"allhh\", \"allhh\", \"allhh\", \"allhh\", \"allhh\", \"allhh\", \"all~\n",
      "$ nzhec       \u001b[3m\u001b[90m<chr>\u001b[39m\u001b[23m \"1\", \"1\", \"1\", \"1\", \"1\", \"1\", \"1\", \"1\", \"1\", \"1\", \"1\", \"1\"~\n",
      "$ nzhec_name  \u001b[3m\u001b[90m<chr>\u001b[39m\u001b[23m \"Food\", \"Food\", \"Food\", \"Food\", \"Food\", \"Food\", \"Food\", \"F~\n",
      "$ nzhec_short \u001b[3m\u001b[90m<chr>\u001b[39m\u001b[23m \"Food\", \"Food\", \"Food\", \"Food\", \"Food\", \"Food\", \"Food\", \"F~\n",
      "$ level       \u001b[3m\u001b[90m<chr>\u001b[39m\u001b[23m \"group\", \"group\", \"group\", \"group\", \"group\", \"group\", \"gro~\n",
      "$ index       \u001b[3m\u001b[90m<dbl>\u001b[39m\u001b[23m 870, 903, 918, 927, 935, 949, 929, 938, 929, 952, 974, 985~\n",
      "$ change.q    \u001b[3m\u001b[90m<dbl>\u001b[39m\u001b[23m NA, 3.8, 1.7, 1.0, 0.9, 1.5, -2.1, 1.0, -1.0, 2.5, 2.3, 1.~\n",
      "$ change.a    \u001b[3m\u001b[90m<dbl>\u001b[39m\u001b[23m NA, NA, NA, NA, 7.5, 5.1, 1.2, 1.2, -0.6, 0.3, 4.8, 5.0, 7~\n"
     ]
    }
   ],
   "source": [
    "covid_case_df <- read_csv(\"data/Number_of_cases.csv\")\n",
    "hpi_df <- read_csv(\"data/household-living-costs-price-indexes-June-2021-quarter-time-series-indexes.csv\")\n",
    "\n",
    "covid_case_df %>% glimpse()\n",
    "hpi_df %>% glimpse()\n"
   ]
  },
  {
   "cell_type": "code",
   "execution_count": 43,
   "id": "be566ab9-27be-4c3c-8b5e-b0177b8ca8e4",
   "metadata": {},
   "outputs": [
    {
     "data": {
      "text/html": [
       "<table class=\"dataframe\">\n",
       "<caption>A tibble: 3 × 1</caption>\n",
       "<thead>\n",
       "\t<tr><th scope=col>Status</th></tr>\n",
       "\t<tr><th scope=col>&lt;chr&gt;</th></tr>\n",
       "</thead>\n",
       "<tbody>\n",
       "\t<tr><td>Active   </td></tr>\n",
       "\t<tr><td>Deceased </td></tr>\n",
       "\t<tr><td>Recovered</td></tr>\n",
       "</tbody>\n",
       "</table>\n"
      ],
      "text/latex": [
       "A tibble: 3 × 1\n",
       "\\begin{tabular}{l}\n",
       " Status\\\\\n",
       " <chr>\\\\\n",
       "\\hline\n",
       "\t Active   \\\\\n",
       "\t Deceased \\\\\n",
       "\t Recovered\\\\\n",
       "\\end{tabular}\n"
      ],
      "text/markdown": [
       "\n",
       "A tibble: 3 × 1\n",
       "\n",
       "| Status &lt;chr&gt; |\n",
       "|---|\n",
       "| Active    |\n",
       "| Deceased  |\n",
       "| Recovered |\n",
       "\n"
      ],
      "text/plain": [
       "  Status   \n",
       "1 Active   \n",
       "2 Deceased \n",
       "3 Recovered"
      ]
     },
     "metadata": {},
     "output_type": "display_data"
    },
    {
     "name": "stdout",
     "output_type": "stream",
     "text": [
      "Rows: 518\n",
      "Columns: 2\n",
      "$ Deceased \u001b[3m\u001b[90m<dbl>\u001b[39m\u001b[23m 0, 0, 0, 0, 0, 0, 0, 0, 0, 0, 0, 0, 0, 0, 0, 0, 0, 0, 0, 0, 0~\n",
      "$ Date     \u001b[3m\u001b[90m<date>\u001b[39m\u001b[23m 2020-02-28, 2020-02-29, 2020-03-01, 2020-03-02, 2020-03-05, ~\n",
      "Rows: 518\n",
      "Columns: 2\n",
      "$ Recovered \u001b[3m\u001b[90m<dbl>\u001b[39m\u001b[23m 0, 0, 0, 0, 0, 0, 0, 0, 0, 0, 0, 0, 0, 0, 0, 0, 0, 0, 0, 0, ~\n",
      "$ Date      \u001b[3m\u001b[90m<date>\u001b[39m\u001b[23m 2020-02-28, 2020-03-01, 2020-02-29, 2020-03-03, 2020-03-02,~\n",
      "Rows: 518\n",
      "Columns: 2\n",
      "$ Value \u001b[3m\u001b[90m<dbl>\u001b[39m\u001b[23m 1, 1, 1, 1, 1, 3, 3, 4, 5, 5, 5, 5, 5, 5, 6, 5, 8, 8, 12, 20, 28~\n",
      "$ Date  \u001b[3m\u001b[90m<date>\u001b[39m\u001b[23m 2020-02-28, 2020-03-01, 2020-03-02, 2020-03-03, 2020-02-29, 202~\n"
     ]
    },
    {
     "data": {
      "text/html": [
       "<table class=\"dataframe\">\n",
       "<caption>A data.frame: 10 × 4</caption>\n",
       "<thead>\n",
       "\t<tr><th></th><th scope=col>Date</th><th scope=col>Deceased</th><th scope=col>Recovered</th><th scope=col>Value</th></tr>\n",
       "\t<tr><th></th><th scope=col>&lt;date&gt;</th><th scope=col>&lt;dbl&gt;</th><th scope=col>&lt;dbl&gt;</th><th scope=col>&lt;dbl&gt;</th></tr>\n",
       "</thead>\n",
       "<tbody>\n",
       "\t<tr><th scope=row>7</th><td>2020-06-19</td><td>22</td><td>1482</td><td>  3</td></tr>\n",
       "\t<tr><th scope=row>2</th><td>2020-06-29</td><td>22</td><td>1484</td><td> 22</td></tr>\n",
       "\t<tr><th scope=row>5</th><td>2020-08-18</td><td>22</td><td>1531</td><td> 90</td></tr>\n",
       "\t<tr><th scope=row>1</th><td>2021-03-05</td><td>26</td><td>2295</td><td> 68</td></tr>\n",
       "\t<tr><th scope=row>10</th><td>2021-03-17</td><td>26</td><td>2311</td><td> 97</td></tr>\n",
       "\t<tr><th scope=row>6</th><td>2021-03-30</td><td>26</td><td>2389</td><td> 80</td></tr>\n",
       "\t<tr><th scope=row>3</th><td>2021-06-01</td><td>26</td><td>2634</td><td> 13</td></tr>\n",
       "\t<tr><th scope=row>4</th><td>2021-06-21</td><td>26</td><td>2671</td><td> 23</td></tr>\n",
       "\t<tr><th scope=row>8</th><td>2021-07-16</td><td>26</td><td>2729</td><td> 48</td></tr>\n",
       "\t<tr><th scope=row>9</th><td>2021-09-27</td><td>27</td><td>3945</td><td>222</td></tr>\n",
       "</tbody>\n",
       "</table>\n"
      ],
      "text/latex": [
       "A data.frame: 10 × 4\n",
       "\\begin{tabular}{r|llll}\n",
       "  & Date & Deceased & Recovered & Value\\\\\n",
       "  & <date> & <dbl> & <dbl> & <dbl>\\\\\n",
       "\\hline\n",
       "\t7 & 2020-06-19 & 22 & 1482 &   3\\\\\n",
       "\t2 & 2020-06-29 & 22 & 1484 &  22\\\\\n",
       "\t5 & 2020-08-18 & 22 & 1531 &  90\\\\\n",
       "\t1 & 2021-03-05 & 26 & 2295 &  68\\\\\n",
       "\t10 & 2021-03-17 & 26 & 2311 &  97\\\\\n",
       "\t6 & 2021-03-30 & 26 & 2389 &  80\\\\\n",
       "\t3 & 2021-06-01 & 26 & 2634 &  13\\\\\n",
       "\t4 & 2021-06-21 & 26 & 2671 &  23\\\\\n",
       "\t8 & 2021-07-16 & 26 & 2729 &  48\\\\\n",
       "\t9 & 2021-09-27 & 27 & 3945 & 222\\\\\n",
       "\\end{tabular}\n"
      ],
      "text/markdown": [
       "\n",
       "A data.frame: 10 × 4\n",
       "\n",
       "| <!--/--> | Date &lt;date&gt; | Deceased &lt;dbl&gt; | Recovered &lt;dbl&gt; | Value &lt;dbl&gt; |\n",
       "|---|---|---|---|---|\n",
       "| 7 | 2020-06-19 | 22 | 1482 |   3 |\n",
       "| 2 | 2020-06-29 | 22 | 1484 |  22 |\n",
       "| 5 | 2020-08-18 | 22 | 1531 |  90 |\n",
       "| 1 | 2021-03-05 | 26 | 2295 |  68 |\n",
       "| 10 | 2021-03-17 | 26 | 2311 |  97 |\n",
       "| 6 | 2021-03-30 | 26 | 2389 |  80 |\n",
       "| 3 | 2021-06-01 | 26 | 2634 |  13 |\n",
       "| 4 | 2021-06-21 | 26 | 2671 |  23 |\n",
       "| 8 | 2021-07-16 | 26 | 2729 |  48 |\n",
       "| 9 | 2021-09-27 | 27 | 3945 | 222 |\n",
       "\n"
      ],
      "text/plain": [
       "   Date       Deceased Recovered Value\n",
       "7  2020-06-19 22       1482        3  \n",
       "2  2020-06-29 22       1484       22  \n",
       "5  2020-08-18 22       1531       90  \n",
       "1  2021-03-05 26       2295       68  \n",
       "10 2021-03-17 26       2311       97  \n",
       "6  2021-03-30 26       2389       80  \n",
       "3  2021-06-01 26       2634       13  \n",
       "4  2021-06-21 26       2671       23  \n",
       "8  2021-07-16 26       2729       48  \n",
       "9  2021-09-27 27       3945      222  "
      ]
     },
     "metadata": {},
     "output_type": "display_data"
    },
    {
     "name": "stdout",
     "output_type": "stream",
     "text": [
      "Rows: 518\n",
      "Columns: 4\n",
      "$ Date      \u001b[3m\u001b[90m<date>\u001b[39m\u001b[23m 2020-02-28, 2020-02-29, 2020-03-01, 2020-03-02, 2020-03-03,~\n",
      "$ Deceased  \u001b[3m\u001b[90m<dbl>\u001b[39m\u001b[23m 0, 0, 0, 0, 0, 0, 0, 0, 0, 0, 0, 0, 0, 0, 0, 0, 0, 0, 0, 0, ~\n",
      "$ Recovered \u001b[3m\u001b[90m<dbl>\u001b[39m\u001b[23m 0, 0, 0, 0, 0, 0, 0, 0, 0, 0, 0, 0, 0, 0, 0, 0, 0, 0, 0, 0, ~\n",
      "$ Value     \u001b[3m\u001b[90m<dbl>\u001b[39m\u001b[23m 1, 1, 1, 1, 1, 3, 3, 4, 5, 5, 5, 5, 5, 5, 5, 6, 8, 8, 12, 20~\n"
     ]
    }
   ],
   "source": [
    "trim_Covid_Raw_df <-function(covid_df, option) {\n",
    "    covid_df <- covid_df %>% rename(Status=Label1, Date=Period)\n",
    "    \n",
    "    if (option == \"Status\") {\n",
    "        covid_status_df <- covid_df %>% \n",
    "            select(Value, Date, Status) %>%\n",
    "            group_by(Status) %>%\n",
    "            summarise()\n",
    "        return (covid_status_df)        \n",
    "    } \n",
    "    \n",
    "    deceased_covid_case_df <- covid_df %>% \n",
    "        filter(Status==\"Deceased\") %>%\n",
    "        select(Deceased=Value, Date)\n",
    "    recovered_covid_case_df <- covid_df %>% \n",
    "        filter(Status==\"Recovered\") %>%\n",
    "        select(Recovered=Value, Date)\n",
    "    active_covid_case_df <- covid_df %>% \n",
    "        filter(Status==\"Active\") %>%\n",
    "        select(Value, Date)\n",
    "    if (option == \"Deceased\") {\n",
    "        return (deceased_covid_case_df)\n",
    "    } else if (option == \"Recovered\") {\n",
    "        return (recovered_covid_case_df)\n",
    "    } else if (option == \"Active\") {\n",
    "        return (active_covid_case_df)\n",
    "    }    \n",
    "    \n",
    "    temp <- merge(x = deceased_covid_case_df, y = recovered_covid_case_df, by = \"Date\", all = TRUE)\n",
    "    covid_case_mutated_df <- merge(x = temp, y = active_covid_case_df, by = \"Date\", all = TRUE) # Outer join\n",
    "    if (option == \"Sample\") {        \n",
    "        newdata <- covid_case_mutated_df %>% sample_n(10)\n",
    "        newdata <- newdata[order(newdata$Date),]\n",
    "        return (newdata)\n",
    "    } else if (option == \"Summary\") {\n",
    "        # Trim unecessary cols\n",
    "        return (covid_case_mutated_df)\n",
    "    }\n",
    "    \n",
    "    return (covid_df)\n",
    "}\n",
    "\n",
    "# Test\n",
    "trim_Covid_Raw_df(covid_case_df, \"Status\")\n",
    "trim_Covid_Raw_df(covid_case_df, \"Deceased\") %>% glimpse()\n",
    "trim_Covid_Raw_df(covid_case_df, \"Recovered\") %>% glimpse()\n",
    "trim_Covid_Raw_df(covid_case_df, \"Active\") %>% glimpse()\n",
    "trim_Covid_Raw_df(covid_case_df, \"Sample\")\n",
    "trim_Covid_Raw_df(covid_case_df, \"Summary\") %>% glimpse()\n",
    "\n"
   ]
  },
  {
   "cell_type": "code",
   "execution_count": 52,
   "id": "291f38cb-924d-452a-9f27-d7e80b773f90",
   "metadata": {},
   "outputs": [
    {
     "data": {
      "image/png": "[encoded data removed]",
      "text/plain": [
       "plot without title"
      ]
     },
     "metadata": {
      "image/png": {
       "height": 600,
       "width": 840
      }
     },
     "output_type": "display_data"
    }
   ],
   "source": [
    "# Source: http://rstudio-pubs-static.s3.amazonaws.com/3256_bb10db1440724dac8fa40da5e658ada5.html\n",
    "color <- c(rgb(1,0,0.4,1), rgb(0,1,0.4,1), rgb(0,0,1,1))\n",
    "graph_df <- trim_Covid_Raw_df(covid_case_df, \"\")\n",
    "graph_df$Status <- factor(graph_df$Status, levels = c(\"Active\", \"Recovered\", \"Deceased\"))\n",
    "\n",
    "getByStatus <- function(data, status) {\n",
    "    result <- data %>% filter(Status==status)\n",
    "    return (result)\n",
    "}\n",
    "\n",
    "options(repr.plot.width = 14, repr.plot.height = 10) # Size of graph display\n",
    "plot <- ggplot(data = graph_df, \n",
    "               aes(x = Date, y = Value, fill = factor(Status))\n",
    "        ) +\n",
    "        geom_bar(stat='identity') +\n",
    "        geom_line(data=getByStatus(graph_df, \"Active\"), colour=color[1], size=2) +\n",
    "        geom_line(data=getByStatus(graph_df, \"Recovered\"), colour=color[2], size=2) +\n",
    "        geom_line(data=getByStatus(graph_df, \"Deceased\"), colour=color[3], size=2) +\n",
    "        scale_color_manual(values=color) + theme_bw() +\n",
    "        theme(axis.text.x = element_text(angle = 90, vjust = 0.5, hjust=1)) +\n",
    "        scale_x_date(date_breaks = \"months\" , date_labels = \"%b-%y\")\n",
    "\n",
    "plot +\n",
    "ggtitle(\"Title here\") +\n",
    "xlab(\"Total cases\") + ylab(\"Months\")"
   ]
  },
  {
   "cell_type": "code",
   "execution_count": null,
   "id": "73347522-a875-46f8-a2fc-84abf5b6b841",
   "metadata": {},
   "outputs": [],
   "source": []
  },
  {
   "cell_type": "code",
   "execution_count": null,
   "id": "3750ebea-7287-4e2b-b32a-2af0d7b8f594",
   "metadata": {},
   "outputs": [],
   "source": []
  },
  {
   "cell_type": "code",
   "execution_count": null,
   "id": "4e1837f2-e9d7-4305-8351-4370eb4562c1",
   "metadata": {},
   "outputs": [],
   "source": []
  },
  {
   "cell_type": "code",
   "execution_count": null,
   "id": "16535763-e6f5-4641-9e86-786eae03fd3e",
   "metadata": {},
   "outputs": [],
   "source": []
  },
  {
   "cell_type": "code",
   "execution_count": null,
   "id": "345aeb67-a701-4f10-b261-9506a9b902f0",
   "metadata": {},
   "outputs": [],
   "source": []
  }
 ],
 "metadata": {
  "kernelspec": {
   "display_name": "R",
   "language": "R",
   "name": "ir"
  },
  "language_info": {
   "codemirror_mode": "r",
   "file_extension": ".r",
   "mimetype": "text/x-r-source",
   "name": "R",
   "pygments_lexer": "r",
   "version": "4.1.0"
  }
 },
 "nbformat": 4,
 "nbformat_minor": 5
}
