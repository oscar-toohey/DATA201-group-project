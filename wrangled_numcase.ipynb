{
 "cells": [
  {
   "cell_type": "code",
   "execution_count": 4,
   "id": "68d27e53-cb70-43e4-8d8b-817a2d9946be",
   "metadata": {
    "collapsed": true,
    "jupyter": {
     "outputs_hidden": true
    },
    "tags": []
   },
   "outputs": [
    {
     "name": "stderr",
     "output_type": "stream",
     "text": [
      "-- \u001b[1mAttaching packages\u001b[22m --------------------------------------- tidyverse 1.3.1 --\n",
      "\n",
      "\u001b[32mv\u001b[39m \u001b[34mggplot2\u001b[39m 3.3.5     \u001b[32mv\u001b[39m \u001b[34mpurrr  \u001b[39m 0.3.4\n",
      "\u001b[32mv\u001b[39m \u001b[34mtibble \u001b[39m 3.1.3     \u001b[32mv\u001b[39m \u001b[34mdplyr  \u001b[39m 1.0.7\n",
      "\u001b[32mv\u001b[39m \u001b[34mtidyr  \u001b[39m 1.1.3     \u001b[32mv\u001b[39m \u001b[34mstringr\u001b[39m 1.4.0\n",
      "\u001b[32mv\u001b[39m \u001b[34mreadr  \u001b[39m 2.0.0     \u001b[32mv\u001b[39m \u001b[34mforcats\u001b[39m 0.5.1\n",
      "\n",
      "-- \u001b[1mConflicts\u001b[22m ------------------------------------------ tidyverse_conflicts() --\n",
      "\u001b[31mx\u001b[39m \u001b[34mdplyr\u001b[39m::\u001b[32mfilter()\u001b[39m masks \u001b[34mstats\u001b[39m::filter()\n",
      "\u001b[31mx\u001b[39m \u001b[34mdplyr\u001b[39m::\u001b[32mlag()\u001b[39m    masks \u001b[34mstats\u001b[39m::lag()\n",
      "\n",
      "\n",
      "Attaching package: 'magrittr'\n",
      "\n",
      "\n",
      "The following object is masked from 'package:purrr':\n",
      "\n",
      "    set_names\n",
      "\n",
      "\n",
      "The following object is masked from 'package:tidyr':\n",
      "\n",
      "    extract\n",
      "\n",
      "\n",
      "\n",
      "Attaching package: 'glue'\n",
      "\n",
      "\n",
      "The following object is masked from 'package:dplyr':\n",
      "\n",
      "    collapse\n",
      "\n",
      "\n",
      "Warning message:\n",
      "\"package 'rvest' was built under R version 4.1.1\"\n",
      "\n",
      "Attaching package: 'rvest'\n",
      "\n",
      "\n",
      "The following object is masked from 'package:readr':\n",
      "\n",
      "    guess_encoding\n",
      "\n",
      "\n"
     ]
    },
    {
     "ename": "ERROR",
     "evalue": "Error in library(polite): there is no package called 'polite'\n",
     "output_type": "error",
     "traceback": [
      "Error in library(polite): there is no package called 'polite'\nTraceback:\n",
      "1. library(polite)"
     ]
    }
   ],
   "source": [
    "library(tidyverse)\n",
    "library(magrittr) # better handling of pipes\n",
    "library(purrr) # to work with lists and map functions\n",
    "library(glue) # to paste strings\n",
    "library(stringr) # to hand strings\n",
    "library(rvest) # rvest makes scraping easier\n",
    "library(polite) # polite is the \"polite\" version of rvest\n",
    "library(xml2) # makes it easier to work with HTML and XML from R\n",
    "library(ggplot2)\n",
    "library(httr)\n",
    "library(visdat)\n",
    "library(skimr)\n",
    "library(zoo)"
   ]
  },
  {
   "cell_type": "code",
   "execution_count": 35,
   "id": "f7b7902a-d4b3-4f90-b147-f7e279b3b826",
   "metadata": {
    "collapsed": true,
    "jupyter": {
     "outputs_hidden": true
    },
    "tags": []
   },
   "outputs": [
    {
     "name": "stderr",
     "output_type": "stream",
     "text": [
      "New names:\n",
      "* `` -> ...1\n",
      "\n",
      "\u001b[1m\u001b[1mRows: \u001b[1m\u001b[22m\u001b[34m\u001b[34m1554\u001b[34m\u001b[39m \u001b[1m\u001b[1mColumns: \u001b[1m\u001b[22m\u001b[34m\u001b[34m18\u001b[34m\u001b[39m\n",
      "\n",
      "\u001b[36m--\u001b[39m \u001b[1m\u001b[1mColumn specification\u001b[1m\u001b[22m \u001b[36m--------------------------------------------------------\u001b[39m\n",
      "\u001b[1mDelimiter:\u001b[22m \",\"\n",
      "\u001b[31mchr\u001b[39m  (13): ResourceID, Subject, Title, Description, Source, SourceURL, Frequ...\n",
      "\u001b[32mdbl\u001b[39m   (3): ...1, Value, Multiplier\n",
      "\u001b[34mdttm\u001b[39m  (1): Modified\n",
      "\u001b[34mdate\u001b[39m  (1): Period\n",
      "\n",
      "\n",
      "\u001b[36mi\u001b[39m Use \u001b[30m\u001b[47m\u001b[30m\u001b[47m`spec()`\u001b[47m\u001b[30m\u001b[49m\u001b[39m to retrieve the full column specification for this data.\n",
      "\u001b[36mi\u001b[39m Specify the column types or set \u001b[30m\u001b[47m\u001b[30m\u001b[47m`show_col_types = FALSE`\u001b[47m\u001b[30m\u001b[49m\u001b[39m to quiet this message.\n",
      "\n",
      "\u001b[1m\u001b[1mRows: \u001b[1m\u001b[22m\u001b[34m\u001b[34m45262\u001b[34m\u001b[39m \u001b[1m\u001b[1mColumns: \u001b[1m\u001b[22m\u001b[34m\u001b[34m11\u001b[34m\u001b[39m\n",
      "\n",
      "\u001b[36m--\u001b[39m \u001b[1m\u001b[1mColumn specification\u001b[1m\u001b[22m \u001b[36m--------------------------------------------------------\u001b[39m\n",
      "\u001b[1mDelimiter:\u001b[22m \",\"\n",
      "\u001b[31mchr\u001b[39m (8): hlpi_name, series_ref, quarter, hlpi, nzhec, nzhec_name, nzhec_shor...\n",
      "\u001b[32mdbl\u001b[39m (3): index, change.q, change.a\n",
      "\n",
      "\n",
      "\u001b[36mi\u001b[39m Use \u001b[30m\u001b[47m\u001b[30m\u001b[47m`spec()`\u001b[47m\u001b[30m\u001b[49m\u001b[39m to retrieve the full column specification for this data.\n",
      "\u001b[36mi\u001b[39m Specify the column types or set \u001b[30m\u001b[47m\u001b[30m\u001b[47m`show_col_types = FALSE`\u001b[47m\u001b[30m\u001b[49m\u001b[39m to quiet this message.\n",
      "\n"
     ]
    },
    {
     "name": "stdout",
     "output_type": "stream",
     "text": [
      "Rows: 1,554\n",
      "Columns: 18\n",
      "$ ...1        \u001b[3m\u001b[90m<dbl>\u001b[39m\u001b[23m 1, 2, 3, 4, 5, 6, 7, 8, 9, 10, 11, 12, 13, 14, 15, 16, 17,~\n",
      "$ ResourceID  \u001b[3m\u001b[90m<chr>\u001b[39m\u001b[23m \"CPCOV2\", \"CPCOV2\", \"CPCOV2\", \"CPCOV2\", \"CPCOV2\", \"CPCOV2\"~\n",
      "$ Subject     \u001b[3m\u001b[90m<chr>\u001b[39m\u001b[23m \"COVID-19\", \"COVID-19\", \"COVID-19\", \"COVID-19\", \"COVID-19\"~\n",
      "$ Title       \u001b[3m\u001b[90m<chr>\u001b[39m\u001b[23m \"Number of Cases\", \"Number of Cases\", \"Number of Cases\", \"~\n",
      "$ Description \u001b[3m\u001b[90m<chr>\u001b[39m\u001b[23m \"COVID-19 cases in New Zealand (cumulative)\", \"COVID-19 ca~\n",
      "$ Source      \u001b[3m\u001b[90m<chr>\u001b[39m\u001b[23m \"Ministry of Health\", \"Ministry of Health\", \"Ministry of H~\n",
      "$ SourceURL   \u001b[3m\u001b[90m<chr>\u001b[39m\u001b[23m \"https://www.health.govt.nz/our-work/diseases-and-conditio~\n",
      "$ Modified    \u001b[3m\u001b[90m<dttm>\u001b[39m\u001b[23m 2021-10-06 11:00:00, 2021-10-06 11:00:00, 2021-10-06 11:0~\n",
      "$ Frequency   \u001b[3m\u001b[90m<chr>\u001b[39m\u001b[23m \"Daily\", \"Daily\", \"Daily\", \"Daily\", \"Daily\", \"Daily\", \"Dai~\n",
      "$ Var1        \u001b[3m\u001b[90m<chr>\u001b[39m\u001b[23m \"Case status\", \"Case status\", \"Case status\", \"Case status\"~\n",
      "$ id          \u001b[3m\u001b[90m<chr>\u001b[39m\u001b[23m \"3934f4da-e3ed-43c4-8656-441f49f9c7ca\", \"2a4fa96a-27a1-423~\n",
      "$ Period      \u001b[3m\u001b[90m<date>\u001b[39m\u001b[23m 2020-02-28, 2020-02-29, 2020-03-01, 2020-03-02, 2020-03-0~\n",
      "$ Duration    \u001b[3m\u001b[90m<chr>\u001b[39m\u001b[23m \"P1D\", \"P1D\", \"P1D\", \"P1D\", \"P1D\", \"P1D\", \"P1D\", \"P1D\", \"P~\n",
      "$ Label1      \u001b[3m\u001b[90m<chr>\u001b[39m\u001b[23m \"Deceased\", \"Deceased\", \"Deceased\", \"Deceased\", \"Deceased\"~\n",
      "$ Value       \u001b[3m\u001b[90m<dbl>\u001b[39m\u001b[23m 0, 0, 0, 0, 0, 0, 0, 0, 0, 0, 0, 0, 0, 0, 0, 0, 0, 0, 0, 0~\n",
      "$ Unit        \u001b[3m\u001b[90m<chr>\u001b[39m\u001b[23m \"Number\", \"Number\", \"Number\", \"Number\", \"Number\", \"Number\"~\n",
      "$ Measure     \u001b[3m\u001b[90m<chr>\u001b[39m\u001b[23m \"COVID-19 cases\", \"COVID-19 cases\", \"COVID-19 cases\", \"COV~\n",
      "$ Multiplier  \u001b[3m\u001b[90m<dbl>\u001b[39m\u001b[23m 0, 0, 0, 0, 0, 0, 0, 0, 0, 0, 0, 0, 0, 0, 0, 0, 0, 0, 0, 0~\n",
      "Rows: 45,262\n",
      "Columns: 11\n",
      "$ hlpi_name   \u001b[3m\u001b[90m<chr>\u001b[39m\u001b[23m \"All households\", \"All households\", \"All households\", \"All~\n",
      "$ series_ref  \u001b[3m\u001b[90m<chr>\u001b[39m\u001b[23m \"HPIQ.SALL01\", \"HPIQ.SALL01\", \"HPIQ.SALL01\", \"HPIQ.SALL01\"~\n",
      "$ quarter     \u001b[3m\u001b[90m<chr>\u001b[39m\u001b[23m \"2008Q2\", \"2008Q3\", \"2008Q4\", \"2009Q1\", \"2009Q2\", \"2009Q3\"~\n",
      "$ hlpi        \u001b[3m\u001b[90m<chr>\u001b[39m\u001b[23m \"allhh\", \"allhh\", \"allhh\", \"allhh\", \"allhh\", \"allhh\", \"all~\n",
      "$ nzhec       \u001b[3m\u001b[90m<chr>\u001b[39m\u001b[23m \"1\", \"1\", \"1\", \"1\", \"1\", \"1\", \"1\", \"1\", \"1\", \"1\", \"1\", \"1\"~\n",
      "$ nzhec_name  \u001b[3m\u001b[90m<chr>\u001b[39m\u001b[23m \"Food\", \"Food\", \"Food\", \"Food\", \"Food\", \"Food\", \"Food\", \"F~\n",
      "$ nzhec_short \u001b[3m\u001b[90m<chr>\u001b[39m\u001b[23m \"Food\", \"Food\", \"Food\", \"Food\", \"Food\", \"Food\", \"Food\", \"F~\n",
      "$ level       \u001b[3m\u001b[90m<chr>\u001b[39m\u001b[23m \"group\", \"group\", \"group\", \"group\", \"group\", \"group\", \"gro~\n",
      "$ index       \u001b[3m\u001b[90m<dbl>\u001b[39m\u001b[23m 870, 903, 918, 927, 935, 949, 929, 938, 929, 952, 974, 985~\n",
      "$ change.q    \u001b[3m\u001b[90m<dbl>\u001b[39m\u001b[23m NA, 3.8, 1.7, 1.0, 0.9, 1.5, -2.1, 1.0, -1.0, 2.5, 2.3, 1.~\n",
      "$ change.a    \u001b[3m\u001b[90m<dbl>\u001b[39m\u001b[23m NA, NA, NA, NA, 7.5, 5.1, 1.2, 1.2, -0.6, 0.3, 4.8, 5.0, 7~\n"
     ]
    }
   ],
   "source": [
    "covid_case_df <- read_csv(\"data/Number_of_cases.csv\")\n",
    "hpi_df <- read_csv(\"data/household-living-costs-price-indexes-June-2021-quarter-time-series-indexes.csv\")\n",
    "\n",
    "covid_case_df %>% glimpse()\n",
    "hpi_df %>% glimpse()\n"
   ]
  },
  {
   "cell_type": "code",
   "execution_count": 221,
   "id": "be566ab9-27be-4c3c-8b5e-b0177b8ca8e4",
   "metadata": {},
   "outputs": [],
   "source": [
    "convertToWeek <- function(date, format=\"%V-%Y\") {\n",
    "    return (strftime(date, format=format))\n",
    "}\n",
    "\n",
    "getFirstDayOfWeek <- function(date) {\n",
    "    weekIndex = strtoi(convertToWeek(date, format=\"%V\"), base=10L)\n",
    "    year = convertToWeek(date, format=\"%Y\")\n",
    "    string <- paste(year, weekIndex, \"1\", sep=\"-\") # 1 for Monday\n",
    "    return (string)\n",
    "}\n",
    "\n",
    "getByStatus <- function(data, status, rename=FALSE) {\n",
    "    result <- data %>% filter(Status==status)\n",
    "    if (rename == TRUE) {\n",
    "        result %<>% select(Value, Date) \n",
    "        names(result)[names(result) == 'Value'] <- status\n",
    "    }\n",
    "    return (result)\n",
    "}\n",
    "\n",
    "trim_Covid_Raw_df <-function(covid_df, option) {\n",
    "    covid_df <- covid_df %>% rename(Status=Label1, Date=Period)\n",
    "    covid_df %<>% mutate(\n",
    "        Week = map_chr(Date, convertToWeek),\n",
    "        Week_Index = map_chr(Date, getWeekIndex),\n",
    "        Monday = map_chr(Date, getFirstDayOfWeek)\n",
    "    )\n",
    "    suppressWarnings( # There is not good record in raw data, see Failure in report\n",
    "        covid_df <- transform(covid_df, Week_Index=as.numeric(Week_Index), \n",
    "                          Monday=as.Date(Monday, format=\"%Y-%U-%u\"))\n",
    "    )\n",
    "    \n",
    "    if (option == \"Status\") {\n",
    "        covid_status_df <- covid_df %>% select(Value, Date, Status) %>%\n",
    "                                        group_by(Status) %>% summarise()\n",
    "        return (covid_status_df)        \n",
    "    }\n",
    "    \n",
    "    deceased_covid_case_df <- getByStatus(covid_df, \"Deceased\", TRUE)\n",
    "    recovered_covid_case_df <- getByStatus(covid_df, \"Recovered\", TRUE)\n",
    "    active_covid_case_df <- getByStatus(covid_df, \"Active\", TRUE)\n",
    "    if (option == \"Deceased\") {\n",
    "        return (deceased_covid_case_df)\n",
    "    } else if (option == \"Recovered\") {\n",
    "        return (recovered_covid_case_df)\n",
    "    } else if (option == \"Active\") {\n",
    "        return (active_covid_case_df)\n",
    "    }    \n",
    "    \n",
    "    temp <- merge(x = deceased_covid_case_df, y = recovered_covid_case_df, \n",
    "                  by = \"Date\", all = TRUE)\n",
    "    covid_case_mutated_df <- merge(x = temp, y = active_covid_case_df, \n",
    "                                   by = \"Date\", all = TRUE) # Outer join\n",
    "    if (option == \"Sample\") {        \n",
    "        newdata <- covid_case_mutated_df %>% sample_n(10)\n",
    "        return (newdata[order(newdata$Date),])\n",
    "    } else if (option == \"Summary\") {\n",
    "        return (covid_case_mutated_df) # Trim unecessary cols\n",
    "    }\n",
    "    \n",
    "    return (covid_df)\n",
    "}\n",
    "\n",
    "savePlot <- function(filename, df_plot) {\n",
    "    ggsave(paste(\"img\", filename, sep=\"/\"), plot = df_plot)\n",
    "}\n",
    "\n"
   ]
  },
  {
   "cell_type": "code",
   "execution_count": 214,
   "id": "0035e456-afef-4e9e-932b-8eaa7a88d33e",
   "metadata": {
    "collapsed": true,
    "jupyter": {
     "outputs_hidden": true
    },
    "tags": []
   },
   "outputs": [
    {
     "data": {
      "text/html": [
       "<table class=\"dataframe\">\n",
       "<caption>A tibble: 3 × 1</caption>\n",
       "<thead>\n",
       "\t<tr><th scope=col>Status</th></tr>\n",
       "\t<tr><th scope=col>&lt;chr&gt;</th></tr>\n",
       "</thead>\n",
       "<tbody>\n",
       "\t<tr><td>Active   </td></tr>\n",
       "\t<tr><td>Deceased </td></tr>\n",
       "\t<tr><td>Recovered</td></tr>\n",
       "</tbody>\n",
       "</table>\n"
      ],
      "text/latex": [
       "A tibble: 3 × 1\n",
       "\\begin{tabular}{l}\n",
       " Status\\\\\n",
       " <chr>\\\\\n",
       "\\hline\n",
       "\t Active   \\\\\n",
       "\t Deceased \\\\\n",
       "\t Recovered\\\\\n",
       "\\end{tabular}\n"
      ],
      "text/markdown": [
       "\n",
       "A tibble: 3 × 1\n",
       "\n",
       "| Status &lt;chr&gt; |\n",
       "|---|\n",
       "| Active    |\n",
       "| Deceased  |\n",
       "| Recovered |\n",
       "\n"
      ],
      "text/plain": [
       "  Status   \n",
       "1 Active   \n",
       "2 Deceased \n",
       "3 Recovered"
      ]
     },
     "metadata": {},
     "output_type": "display_data"
    },
    {
     "name": "stdout",
     "output_type": "stream",
     "text": [
      "Rows: 518\n",
      "Columns: 2\n",
      "$ Deceased \u001b[3m\u001b[90m<dbl>\u001b[39m\u001b[23m 0, 0, 0, 0, 0, 0, 0, 0, 0, 0, 0, 0, 0, 0, 0, 0, 0, 0, 0, 0, 0~\n",
      "$ Date     \u001b[3m\u001b[90m<date>\u001b[39m\u001b[23m 2020-02-28, 2020-02-29, 2020-03-01, 2020-03-02, 2020-03-05, ~\n",
      "Rows: 518\n",
      "Columns: 2\n",
      "$ Recovered \u001b[3m\u001b[90m<dbl>\u001b[39m\u001b[23m 0, 0, 0, 0, 0, 0, 0, 0, 0, 0, 0, 0, 0, 0, 0, 0, 0, 0, 0, 0, ~\n",
      "$ Date      \u001b[3m\u001b[90m<date>\u001b[39m\u001b[23m 2020-02-28, 2020-03-01, 2020-02-29, 2020-03-03, 2020-03-02,~\n",
      "Rows: 518\n",
      "Columns: 2\n",
      "$ Active \u001b[3m\u001b[90m<dbl>\u001b[39m\u001b[23m 1, 1, 1, 1, 1, 3, 3, 4, 5, 5, 5, 5, 5, 5, 6, 5, 8, 8, 12, 20, 2~\n",
      "$ Date   \u001b[3m\u001b[90m<date>\u001b[39m\u001b[23m 2020-02-28, 2020-03-01, 2020-03-02, 2020-03-03, 2020-02-29, 20~\n"
     ]
    },
    {
     "data": {
      "text/html": [
       "<table class=\"dataframe\">\n",
       "<caption>A data.frame: 10 × 4</caption>\n",
       "<thead>\n",
       "\t<tr><th></th><th scope=col>Date</th><th scope=col>Deceased</th><th scope=col>Recovered</th><th scope=col>Active</th></tr>\n",
       "\t<tr><th></th><th scope=col>&lt;date&gt;</th><th scope=col>&lt;dbl&gt;</th><th scope=col>&lt;dbl&gt;</th><th scope=col>&lt;dbl&gt;</th></tr>\n",
       "</thead>\n",
       "<tbody>\n",
       "\t<tr><th scope=row>6</th><td>2020-04-03</td><td> 1</td><td> 103</td><td>764</td></tr>\n",
       "\t<tr><th scope=row>2</th><td>2020-06-09</td><td>22</td><td>1482</td><td>  0</td></tr>\n",
       "\t<tr><th scope=row>8</th><td>2020-09-12</td><td>24</td><td>1663</td><td>108</td></tr>\n",
       "\t<tr><th scope=row>10</th><td>2020-12-01</td><td>25</td><td>1962</td><td> 72</td></tr>\n",
       "\t<tr><th scope=row>5</th><td>2021-02-10</td><td>25</td><td>2240</td><td> 59</td></tr>\n",
       "\t<tr><th scope=row>1</th><td>2021-03-05</td><td>26</td><td>2295</td><td> 68</td></tr>\n",
       "\t<tr><th scope=row>7</th><td>2021-03-16</td><td>26</td><td>2311</td><td> 95</td></tr>\n",
       "\t<tr><th scope=row>9</th><td>2021-04-13</td><td>26</td><td>2459</td><td>102</td></tr>\n",
       "\t<tr><th scope=row>4</th><td>2021-05-11</td><td>26</td><td>2593</td><td> 24</td></tr>\n",
       "\t<tr><th scope=row>3</th><td>2021-05-19</td><td>26</td><td>2607</td><td> 25</td></tr>\n",
       "</tbody>\n",
       "</table>\n"
      ],
      "text/latex": [
       "A data.frame: 10 × 4\n",
       "\\begin{tabular}{r|llll}\n",
       "  & Date & Deceased & Recovered & Active\\\\\n",
       "  & <date> & <dbl> & <dbl> & <dbl>\\\\\n",
       "\\hline\n",
       "\t6 & 2020-04-03 &  1 &  103 & 764\\\\\n",
       "\t2 & 2020-06-09 & 22 & 1482 &   0\\\\\n",
       "\t8 & 2020-09-12 & 24 & 1663 & 108\\\\\n",
       "\t10 & 2020-12-01 & 25 & 1962 &  72\\\\\n",
       "\t5 & 2021-02-10 & 25 & 2240 &  59\\\\\n",
       "\t1 & 2021-03-05 & 26 & 2295 &  68\\\\\n",
       "\t7 & 2021-03-16 & 26 & 2311 &  95\\\\\n",
       "\t9 & 2021-04-13 & 26 & 2459 & 102\\\\\n",
       "\t4 & 2021-05-11 & 26 & 2593 &  24\\\\\n",
       "\t3 & 2021-05-19 & 26 & 2607 &  25\\\\\n",
       "\\end{tabular}\n"
      ],
      "text/markdown": [
       "\n",
       "A data.frame: 10 × 4\n",
       "\n",
       "| <!--/--> | Date &lt;date&gt; | Deceased &lt;dbl&gt; | Recovered &lt;dbl&gt; | Active &lt;dbl&gt; |\n",
       "|---|---|---|---|---|\n",
       "| 6 | 2020-04-03 |  1 |  103 | 764 |\n",
       "| 2 | 2020-06-09 | 22 | 1482 |   0 |\n",
       "| 8 | 2020-09-12 | 24 | 1663 | 108 |\n",
       "| 10 | 2020-12-01 | 25 | 1962 |  72 |\n",
       "| 5 | 2021-02-10 | 25 | 2240 |  59 |\n",
       "| 1 | 2021-03-05 | 26 | 2295 |  68 |\n",
       "| 7 | 2021-03-16 | 26 | 2311 |  95 |\n",
       "| 9 | 2021-04-13 | 26 | 2459 | 102 |\n",
       "| 4 | 2021-05-11 | 26 | 2593 |  24 |\n",
       "| 3 | 2021-05-19 | 26 | 2607 |  25 |\n",
       "\n"
      ],
      "text/plain": [
       "   Date       Deceased Recovered Active\n",
       "6  2020-04-03  1        103      764   \n",
       "2  2020-06-09 22       1482        0   \n",
       "8  2020-09-12 24       1663      108   \n",
       "10 2020-12-01 25       1962       72   \n",
       "5  2021-02-10 25       2240       59   \n",
       "1  2021-03-05 26       2295       68   \n",
       "7  2021-03-16 26       2311       95   \n",
       "9  2021-04-13 26       2459      102   \n",
       "4  2021-05-11 26       2593       24   \n",
       "3  2021-05-19 26       2607       25   "
      ]
     },
     "metadata": {},
     "output_type": "display_data"
    },
    {
     "name": "stdout",
     "output_type": "stream",
     "text": [
      "Rows: 518\n",
      "Columns: 4\n",
      "$ Date      \u001b[3m\u001b[90m<date>\u001b[39m\u001b[23m 2020-02-28, 2020-02-29, 2020-03-01, 2020-03-02, 2020-03-03,~\n",
      "$ Deceased  \u001b[3m\u001b[90m<dbl>\u001b[39m\u001b[23m 0, 0, 0, 0, 0, 0, 0, 0, 0, 0, 0, 0, 0, 0, 0, 0, 0, 0, 0, 0, ~\n",
      "$ Recovered \u001b[3m\u001b[90m<dbl>\u001b[39m\u001b[23m 0, 0, 0, 0, 0, 0, 0, 0, 0, 0, 0, 0, 0, 0, 0, 0, 0, 0, 0, 0, ~\n",
      "$ Active    \u001b[3m\u001b[90m<dbl>\u001b[39m\u001b[23m 1, 1, 1, 1, 1, 3, 3, 4, 5, 5, 5, 5, 5, 5, 5, 6, 8, 8, 12, 20~\n"
     ]
    }
   ],
   "source": [
    "# Test\n",
    "trim_Covid_Raw_df(covid_case_df, \"Status\")\n",
    "trim_Covid_Raw_df(covid_case_df, \"Deceased\") %>% glimpse()\n",
    "trim_Covid_Raw_df(covid_case_df, \"Recovered\") %>% glimpse()\n",
    "trim_Covid_Raw_df(covid_case_df, \"Active\") %>% glimpse()\n",
    "trim_Covid_Raw_df(covid_case_df, \"Sample\")\n",
    "trim_Covid_Raw_df(covid_case_df, \"Summary\") %>% glimpse()"
   ]
  },
  {
   "cell_type": "code",
   "execution_count": 216,
   "id": "e2734ba0-cfb3-401f-9a68-6a993ecc3277",
   "metadata": {
    "collapsed": true,
    "jupyter": {
     "outputs_hidden": true
    },
    "tags": []
   },
   "outputs": [
    {
     "name": "stdout",
     "output_type": "stream",
     "text": [
      "Rows: 1,554\n",
      "Columns: 21\n",
      "$ ...1        \u001b[3m\u001b[90m<dbl>\u001b[39m\u001b[23m 1, 2, 3, 4, 5, 6, 7, 8, 9, 10, 11, 12, 13, 14, 15, 16, 17,~\n",
      "$ ResourceID  \u001b[3m\u001b[90m<chr>\u001b[39m\u001b[23m \"CPCOV2\", \"CPCOV2\", \"CPCOV2\", \"CPCOV2\", \"CPCOV2\", \"CPCOV2\"~\n",
      "$ Subject     \u001b[3m\u001b[90m<chr>\u001b[39m\u001b[23m \"COVID-19\", \"COVID-19\", \"COVID-19\", \"COVID-19\", \"COVID-19\"~\n",
      "$ Title       \u001b[3m\u001b[90m<chr>\u001b[39m\u001b[23m \"Number of Cases\", \"Number of Cases\", \"Number of Cases\", \"~\n",
      "$ Description \u001b[3m\u001b[90m<chr>\u001b[39m\u001b[23m \"COVID-19 cases in New Zealand (cumulative)\", \"COVID-19 ca~\n",
      "$ Source      \u001b[3m\u001b[90m<chr>\u001b[39m\u001b[23m \"Ministry of Health\", \"Ministry of Health\", \"Ministry of H~\n",
      "$ SourceURL   \u001b[3m\u001b[90m<chr>\u001b[39m\u001b[23m \"https://www.health.govt.nz/our-work/diseases-and-conditio~\n",
      "$ Modified    \u001b[3m\u001b[90m<dttm>\u001b[39m\u001b[23m 2021-10-06 11:00:00, 2021-10-06 11:00:00, 2021-10-06 11:0~\n",
      "$ Frequency   \u001b[3m\u001b[90m<chr>\u001b[39m\u001b[23m \"Daily\", \"Daily\", \"Daily\", \"Daily\", \"Daily\", \"Daily\", \"Dai~\n",
      "$ Var1        \u001b[3m\u001b[90m<chr>\u001b[39m\u001b[23m \"Case status\", \"Case status\", \"Case status\", \"Case status\"~\n",
      "$ id          \u001b[3m\u001b[90m<chr>\u001b[39m\u001b[23m \"3934f4da-e3ed-43c4-8656-441f49f9c7ca\", \"2a4fa96a-27a1-423~\n",
      "$ Date        \u001b[3m\u001b[90m<date>\u001b[39m\u001b[23m 2020-02-28, 2020-02-29, 2020-03-01, 2020-03-02, 2020-03-0~\n",
      "$ Duration    \u001b[3m\u001b[90m<chr>\u001b[39m\u001b[23m \"P1D\", \"P1D\", \"P1D\", \"P1D\", \"P1D\", \"P1D\", \"P1D\", \"P1D\", \"P~\n",
      "$ Status      \u001b[3m\u001b[90m<chr>\u001b[39m\u001b[23m \"Deceased\", \"Deceased\", \"Deceased\", \"Deceased\", \"Deceased\"~\n",
      "$ Value       \u001b[3m\u001b[90m<dbl>\u001b[39m\u001b[23m 0, 0, 0, 0, 0, 0, 0, 0, 0, 0, 0, 0, 0, 0, 0, 0, 0, 0, 0, 0~\n",
      "$ Unit        \u001b[3m\u001b[90m<chr>\u001b[39m\u001b[23m \"Number\", \"Number\", \"Number\", \"Number\", \"Number\", \"Number\"~\n",
      "$ Measure     \u001b[3m\u001b[90m<chr>\u001b[39m\u001b[23m \"COVID-19 cases\", \"COVID-19 cases\", \"COVID-19 cases\", \"COV~\n",
      "$ Multiplier  \u001b[3m\u001b[90m<dbl>\u001b[39m\u001b[23m 0, 0, 0, 0, 0, 0, 0, 0, 0, 0, 0, 0, 0, 0, 0, 0, 0, 0, 0, 0~\n",
      "$ Week        \u001b[3m\u001b[90m<chr>\u001b[39m\u001b[23m \"09-2020\", \"09-2020\", \"09-2020\", \"10-2020\", \"10-2020\", \"10~\n",
      "$ Week_Index  \u001b[3m\u001b[90m<dbl>\u001b[39m\u001b[23m 9, 9, 9, 10, 10, 10, 10, 10, 10, 11, 10, 11, 11, 11, 11, 1~\n",
      "$ Monday      \u001b[3m\u001b[90m<date>\u001b[39m\u001b[23m 2020-03-02, 2020-03-02, 2020-03-02, 2020-03-09, 2020-03-0~\n"
     ]
    },
    {
     "data": {
      "text/html": [
       "<table class=\"dataframe\">\n",
       "<caption>A data.frame: 3 × 21</caption>\n",
       "<thead>\n",
       "\t<tr><th scope=col>...1</th><th scope=col>ResourceID</th><th scope=col>Subject</th><th scope=col>Title</th><th scope=col>Description</th><th scope=col>Source</th><th scope=col>SourceURL</th><th scope=col>Modified</th><th scope=col>Frequency</th><th scope=col>Var1</th><th scope=col>...</th><th scope=col>Date</th><th scope=col>Duration</th><th scope=col>Status</th><th scope=col>Value</th><th scope=col>Unit</th><th scope=col>Measure</th><th scope=col>Multiplier</th><th scope=col>Week</th><th scope=col>Week_Index</th><th scope=col>Monday</th></tr>\n",
       "\t<tr><th scope=col>&lt;dbl&gt;</th><th scope=col>&lt;chr&gt;</th><th scope=col>&lt;chr&gt;</th><th scope=col>&lt;chr&gt;</th><th scope=col>&lt;chr&gt;</th><th scope=col>&lt;chr&gt;</th><th scope=col>&lt;chr&gt;</th><th scope=col>&lt;dttm&gt;</th><th scope=col>&lt;chr&gt;</th><th scope=col>&lt;chr&gt;</th><th scope=col>...</th><th scope=col>&lt;date&gt;</th><th scope=col>&lt;chr&gt;</th><th scope=col>&lt;chr&gt;</th><th scope=col>&lt;dbl&gt;</th><th scope=col>&lt;chr&gt;</th><th scope=col>&lt;chr&gt;</th><th scope=col>&lt;dbl&gt;</th><th scope=col>&lt;chr&gt;</th><th scope=col>&lt;dbl&gt;</th><th scope=col>&lt;date&gt;</th></tr>\n",
       "</thead>\n",
       "<tbody>\n",
       "\t<tr><td> 299</td><td>CPCOV2</td><td>COVID-19</td><td>Number of Cases</td><td>COVID-19 cases in New Zealand (cumulative)</td><td>Ministry of Health</td><td>https://www.health.govt.nz/our-work/diseases-and-conditions/covid-19-novel-coronavirus/covid-19-data-and-statistics/testing-covid-19</td><td>2021-10-06 11:00:00</td><td>Daily</td><td>Case status</td><td>...</td><td>2021-01-03</td><td>P1D</td><td>Deceased </td><td>  25</td><td>Number</td><td>COVID-19 cases</td><td>0</td><td>53-2021</td><td>106</td><td>NA</td></tr>\n",
       "\t<tr><td> 812</td><td>CPCOV2</td><td>COVID-19</td><td>Number of Cases</td><td>COVID-19 cases in New Zealand (cumulative)</td><td>Ministry of Health</td><td>https://www.health.govt.nz/our-work/diseases-and-conditions/covid-19-novel-coronavirus/covid-19-data-and-statistics/testing-covid-19</td><td>2021-10-06 11:00:00</td><td>Daily</td><td>Case status</td><td>...</td><td>2021-01-03</td><td>P1D</td><td>Active   </td><td>  72</td><td>Number</td><td>COVID-19 cases</td><td>0</td><td>53-2021</td><td>106</td><td>NA</td></tr>\n",
       "\t<tr><td>1334</td><td>CPCOV2</td><td>COVID-19</td><td>Number of Cases</td><td>COVID-19 cases in New Zealand (cumulative)</td><td>Ministry of Health</td><td>https://www.health.govt.nz/our-work/diseases-and-conditions/covid-19-novel-coronavirus/covid-19-data-and-statistics/testing-covid-19</td><td>2021-10-06 11:00:00</td><td>Daily</td><td>Case status</td><td>...</td><td>2021-01-03</td><td>P1D</td><td>Recovered</td><td>2084</td><td>Number</td><td>COVID-19 cases</td><td>0</td><td>53-2021</td><td>106</td><td>NA</td></tr>\n",
       "</tbody>\n",
       "</table>\n"
      ],
      "text/latex": [
       "A data.frame: 3 × 21\n",
       "\\begin{tabular}{lllllllllllllllllllll}\n",
       " ...1 & ResourceID & Subject & Title & Description & Source & SourceURL & Modified & Frequency & Var1 & ... & Date & Duration & Status & Value & Unit & Measure & Multiplier & Week & Week\\_Index & Monday\\\\\n",
       " <dbl> & <chr> & <chr> & <chr> & <chr> & <chr> & <chr> & <dttm> & <chr> & <chr> & ... & <date> & <chr> & <chr> & <dbl> & <chr> & <chr> & <dbl> & <chr> & <dbl> & <date>\\\\\n",
       "\\hline\n",
       "\t  299 & CPCOV2 & COVID-19 & Number of Cases & COVID-19 cases in New Zealand (cumulative) & Ministry of Health & https://www.health.govt.nz/our-work/diseases-and-conditions/covid-19-novel-coronavirus/covid-19-data-and-statistics/testing-covid-19 & 2021-10-06 11:00:00 & Daily & Case status & ... & 2021-01-03 & P1D & Deceased  &   25 & Number & COVID-19 cases & 0 & 53-2021 & 106 & NA\\\\\n",
       "\t  812 & CPCOV2 & COVID-19 & Number of Cases & COVID-19 cases in New Zealand (cumulative) & Ministry of Health & https://www.health.govt.nz/our-work/diseases-and-conditions/covid-19-novel-coronavirus/covid-19-data-and-statistics/testing-covid-19 & 2021-10-06 11:00:00 & Daily & Case status & ... & 2021-01-03 & P1D & Active    &   72 & Number & COVID-19 cases & 0 & 53-2021 & 106 & NA\\\\\n",
       "\t 1334 & CPCOV2 & COVID-19 & Number of Cases & COVID-19 cases in New Zealand (cumulative) & Ministry of Health & https://www.health.govt.nz/our-work/diseases-and-conditions/covid-19-novel-coronavirus/covid-19-data-and-statistics/testing-covid-19 & 2021-10-06 11:00:00 & Daily & Case status & ... & 2021-01-03 & P1D & Recovered & 2084 & Number & COVID-19 cases & 0 & 53-2021 & 106 & NA\\\\\n",
       "\\end{tabular}\n"
      ],
      "text/markdown": [
       "\n",
       "A data.frame: 3 × 21\n",
       "\n",
       "| ...1 &lt;dbl&gt; | ResourceID &lt;chr&gt; | Subject &lt;chr&gt; | Title &lt;chr&gt; | Description &lt;chr&gt; | Source &lt;chr&gt; | SourceURL &lt;chr&gt; | Modified &lt;dttm&gt; | Frequency &lt;chr&gt; | Var1 &lt;chr&gt; | ... ... | Date &lt;date&gt; | Duration &lt;chr&gt; | Status &lt;chr&gt; | Value &lt;dbl&gt; | Unit &lt;chr&gt; | Measure &lt;chr&gt; | Multiplier &lt;dbl&gt; | Week &lt;chr&gt; | Week_Index &lt;dbl&gt; | Monday &lt;date&gt; |\n",
       "|---|---|---|---|---|---|---|---|---|---|---|---|---|---|---|---|---|---|---|---|---|\n",
       "|  299 | CPCOV2 | COVID-19 | Number of Cases | COVID-19 cases in New Zealand (cumulative) | Ministry of Health | https://www.health.govt.nz/our-work/diseases-and-conditions/covid-19-novel-coronavirus/covid-19-data-and-statistics/testing-covid-19 | 2021-10-06 11:00:00 | Daily | Case status | ... | 2021-01-03 | P1D | Deceased  |   25 | Number | COVID-19 cases | 0 | 53-2021 | 106 | NA |\n",
       "|  812 | CPCOV2 | COVID-19 | Number of Cases | COVID-19 cases in New Zealand (cumulative) | Ministry of Health | https://www.health.govt.nz/our-work/diseases-and-conditions/covid-19-novel-coronavirus/covid-19-data-and-statistics/testing-covid-19 | 2021-10-06 11:00:00 | Daily | Case status | ... | 2021-01-03 | P1D | Active    |   72 | Number | COVID-19 cases | 0 | 53-2021 | 106 | NA |\n",
       "| 1334 | CPCOV2 | COVID-19 | Number of Cases | COVID-19 cases in New Zealand (cumulative) | Ministry of Health | https://www.health.govt.nz/our-work/diseases-and-conditions/covid-19-novel-coronavirus/covid-19-data-and-statistics/testing-covid-19 | 2021-10-06 11:00:00 | Daily | Case status | ... | 2021-01-03 | P1D | Recovered | 2084 | Number | COVID-19 cases | 0 | 53-2021 | 106 | NA |\n",
       "\n"
      ],
      "text/plain": [
       "  ...1 ResourceID Subject  Title          \n",
       "1  299 CPCOV2     COVID-19 Number of Cases\n",
       "2  812 CPCOV2     COVID-19 Number of Cases\n",
       "3 1334 CPCOV2     COVID-19 Number of Cases\n",
       "  Description                                Source            \n",
       "1 COVID-19 cases in New Zealand (cumulative) Ministry of Health\n",
       "2 COVID-19 cases in New Zealand (cumulative) Ministry of Health\n",
       "3 COVID-19 cases in New Zealand (cumulative) Ministry of Health\n",
       "  SourceURL                                                                                                                           \n",
       "1 https://www.health.govt.nz/our-work/diseases-and-conditions/covid-19-novel-coronavirus/covid-19-data-and-statistics/testing-covid-19\n",
       "2 https://www.health.govt.nz/our-work/diseases-and-conditions/covid-19-novel-coronavirus/covid-19-data-and-statistics/testing-covid-19\n",
       "3 https://www.health.govt.nz/our-work/diseases-and-conditions/covid-19-novel-coronavirus/covid-19-data-and-statistics/testing-covid-19\n",
       "  Modified            Frequency Var1        ... Date       Duration Status   \n",
       "1 2021-10-06 11:00:00 Daily     Case status ... 2021-01-03 P1D      Deceased \n",
       "2 2021-10-06 11:00:00 Daily     Case status ... 2021-01-03 P1D      Active   \n",
       "3 2021-10-06 11:00:00 Daily     Case status ... 2021-01-03 P1D      Recovered\n",
       "  Value Unit   Measure        Multiplier Week    Week_Index Monday\n",
       "1   25  Number COVID-19 cases 0          53-2021 106        <NA>  \n",
       "2   72  Number COVID-19 cases 0          53-2021 106        <NA>  \n",
       "3 2084  Number COVID-19 cases 0          53-2021 106        <NA>  "
      ]
     },
     "metadata": {},
     "output_type": "display_data"
    },
    {
     "data": {
      "text/html": [
       "<table class=\"dataframe\">\n",
       "<caption>A data.frame: 3 × 21</caption>\n",
       "<thead>\n",
       "\t<tr><th scope=col>...1</th><th scope=col>ResourceID</th><th scope=col>Subject</th><th scope=col>Title</th><th scope=col>Description</th><th scope=col>Source</th><th scope=col>SourceURL</th><th scope=col>Modified</th><th scope=col>Frequency</th><th scope=col>Var1</th><th scope=col>...</th><th scope=col>Date</th><th scope=col>Duration</th><th scope=col>Status</th><th scope=col>Value</th><th scope=col>Unit</th><th scope=col>Measure</th><th scope=col>Multiplier</th><th scope=col>Week</th><th scope=col>Week_Index</th><th scope=col>Monday</th></tr>\n",
       "\t<tr><th scope=col>&lt;dbl&gt;</th><th scope=col>&lt;chr&gt;</th><th scope=col>&lt;chr&gt;</th><th scope=col>&lt;chr&gt;</th><th scope=col>&lt;chr&gt;</th><th scope=col>&lt;chr&gt;</th><th scope=col>&lt;chr&gt;</th><th scope=col>&lt;dttm&gt;</th><th scope=col>&lt;chr&gt;</th><th scope=col>&lt;chr&gt;</th><th scope=col>...</th><th scope=col>&lt;date&gt;</th><th scope=col>&lt;chr&gt;</th><th scope=col>&lt;chr&gt;</th><th scope=col>&lt;dbl&gt;</th><th scope=col>&lt;chr&gt;</th><th scope=col>&lt;chr&gt;</th><th scope=col>&lt;dbl&gt;</th><th scope=col>&lt;chr&gt;</th><th scope=col>&lt;dbl&gt;</th><th scope=col>&lt;date&gt;</th></tr>\n",
       "</thead>\n",
       "<tbody>\n",
       "\t<tr><td> 300</td><td>CPCOV2</td><td>COVID-19</td><td>Number of Cases</td><td>COVID-19 cases in New Zealand (cumulative)</td><td>Ministry of Health</td><td>https://www.health.govt.nz/our-work/diseases-and-conditions/covid-19-novel-coronavirus/covid-19-data-and-statistics/testing-covid-19</td><td>2021-10-06 11:00:00</td><td>Daily</td><td>Case status</td><td>...</td><td>2021-01-05</td><td>P1D</td><td>Deceased </td><td>  25</td><td>Number</td><td>COVID-19 cases</td><td>0</td><td>01-2021</td><td>54</td><td>2021-01-04</td></tr>\n",
       "\t<tr><td> 819</td><td>CPCOV2</td><td>COVID-19</td><td>Number of Cases</td><td>COVID-19 cases in New Zealand (cumulative)</td><td>Ministry of Health</td><td>https://www.health.govt.nz/our-work/diseases-and-conditions/covid-19-novel-coronavirus/covid-19-data-and-statistics/testing-covid-19</td><td>2021-10-06 11:00:00</td><td>Daily</td><td>Case status</td><td>...</td><td>2021-01-05</td><td>P1D</td><td>Active   </td><td>  61</td><td>Number</td><td>COVID-19 cases</td><td>0</td><td>01-2021</td><td>54</td><td>2021-01-04</td></tr>\n",
       "\t<tr><td>1337</td><td>CPCOV2</td><td>COVID-19</td><td>Number of Cases</td><td>COVID-19 cases in New Zealand (cumulative)</td><td>Ministry of Health</td><td>https://www.health.govt.nz/our-work/diseases-and-conditions/covid-19-novel-coronavirus/covid-19-data-and-statistics/testing-covid-19</td><td>2021-10-06 11:00:00</td><td>Daily</td><td>Case status</td><td>...</td><td>2021-01-05</td><td>P1D</td><td>Recovered</td><td>2100</td><td>Number</td><td>COVID-19 cases</td><td>0</td><td>01-2021</td><td>54</td><td>2021-01-04</td></tr>\n",
       "</tbody>\n",
       "</table>\n"
      ],
      "text/latex": [
       "A data.frame: 3 × 21\n",
       "\\begin{tabular}{lllllllllllllllllllll}\n",
       " ...1 & ResourceID & Subject & Title & Description & Source & SourceURL & Modified & Frequency & Var1 & ... & Date & Duration & Status & Value & Unit & Measure & Multiplier & Week & Week\\_Index & Monday\\\\\n",
       " <dbl> & <chr> & <chr> & <chr> & <chr> & <chr> & <chr> & <dttm> & <chr> & <chr> & ... & <date> & <chr> & <chr> & <dbl> & <chr> & <chr> & <dbl> & <chr> & <dbl> & <date>\\\\\n",
       "\\hline\n",
       "\t  300 & CPCOV2 & COVID-19 & Number of Cases & COVID-19 cases in New Zealand (cumulative) & Ministry of Health & https://www.health.govt.nz/our-work/diseases-and-conditions/covid-19-novel-coronavirus/covid-19-data-and-statistics/testing-covid-19 & 2021-10-06 11:00:00 & Daily & Case status & ... & 2021-01-05 & P1D & Deceased  &   25 & Number & COVID-19 cases & 0 & 01-2021 & 54 & 2021-01-04\\\\\n",
       "\t  819 & CPCOV2 & COVID-19 & Number of Cases & COVID-19 cases in New Zealand (cumulative) & Ministry of Health & https://www.health.govt.nz/our-work/diseases-and-conditions/covid-19-novel-coronavirus/covid-19-data-and-statistics/testing-covid-19 & 2021-10-06 11:00:00 & Daily & Case status & ... & 2021-01-05 & P1D & Active    &   61 & Number & COVID-19 cases & 0 & 01-2021 & 54 & 2021-01-04\\\\\n",
       "\t 1337 & CPCOV2 & COVID-19 & Number of Cases & COVID-19 cases in New Zealand (cumulative) & Ministry of Health & https://www.health.govt.nz/our-work/diseases-and-conditions/covid-19-novel-coronavirus/covid-19-data-and-statistics/testing-covid-19 & 2021-10-06 11:00:00 & Daily & Case status & ... & 2021-01-05 & P1D & Recovered & 2100 & Number & COVID-19 cases & 0 & 01-2021 & 54 & 2021-01-04\\\\\n",
       "\\end{tabular}\n"
      ],
      "text/markdown": [
       "\n",
       "A data.frame: 3 × 21\n",
       "\n",
       "| ...1 &lt;dbl&gt; | ResourceID &lt;chr&gt; | Subject &lt;chr&gt; | Title &lt;chr&gt; | Description &lt;chr&gt; | Source &lt;chr&gt; | SourceURL &lt;chr&gt; | Modified &lt;dttm&gt; | Frequency &lt;chr&gt; | Var1 &lt;chr&gt; | ... ... | Date &lt;date&gt; | Duration &lt;chr&gt; | Status &lt;chr&gt; | Value &lt;dbl&gt; | Unit &lt;chr&gt; | Measure &lt;chr&gt; | Multiplier &lt;dbl&gt; | Week &lt;chr&gt; | Week_Index &lt;dbl&gt; | Monday &lt;date&gt; |\n",
       "|---|---|---|---|---|---|---|---|---|---|---|---|---|---|---|---|---|---|---|---|---|\n",
       "|  300 | CPCOV2 | COVID-19 | Number of Cases | COVID-19 cases in New Zealand (cumulative) | Ministry of Health | https://www.health.govt.nz/our-work/diseases-and-conditions/covid-19-novel-coronavirus/covid-19-data-and-statistics/testing-covid-19 | 2021-10-06 11:00:00 | Daily | Case status | ... | 2021-01-05 | P1D | Deceased  |   25 | Number | COVID-19 cases | 0 | 01-2021 | 54 | 2021-01-04 |\n",
       "|  819 | CPCOV2 | COVID-19 | Number of Cases | COVID-19 cases in New Zealand (cumulative) | Ministry of Health | https://www.health.govt.nz/our-work/diseases-and-conditions/covid-19-novel-coronavirus/covid-19-data-and-statistics/testing-covid-19 | 2021-10-06 11:00:00 | Daily | Case status | ... | 2021-01-05 | P1D | Active    |   61 | Number | COVID-19 cases | 0 | 01-2021 | 54 | 2021-01-04 |\n",
       "| 1337 | CPCOV2 | COVID-19 | Number of Cases | COVID-19 cases in New Zealand (cumulative) | Ministry of Health | https://www.health.govt.nz/our-work/diseases-and-conditions/covid-19-novel-coronavirus/covid-19-data-and-statistics/testing-covid-19 | 2021-10-06 11:00:00 | Daily | Case status | ... | 2021-01-05 | P1D | Recovered | 2100 | Number | COVID-19 cases | 0 | 01-2021 | 54 | 2021-01-04 |\n",
       "\n"
      ],
      "text/plain": [
       "  ...1 ResourceID Subject  Title          \n",
       "1  300 CPCOV2     COVID-19 Number of Cases\n",
       "2  819 CPCOV2     COVID-19 Number of Cases\n",
       "3 1337 CPCOV2     COVID-19 Number of Cases\n",
       "  Description                                Source            \n",
       "1 COVID-19 cases in New Zealand (cumulative) Ministry of Health\n",
       "2 COVID-19 cases in New Zealand (cumulative) Ministry of Health\n",
       "3 COVID-19 cases in New Zealand (cumulative) Ministry of Health\n",
       "  SourceURL                                                                                                                           \n",
       "1 https://www.health.govt.nz/our-work/diseases-and-conditions/covid-19-novel-coronavirus/covid-19-data-and-statistics/testing-covid-19\n",
       "2 https://www.health.govt.nz/our-work/diseases-and-conditions/covid-19-novel-coronavirus/covid-19-data-and-statistics/testing-covid-19\n",
       "3 https://www.health.govt.nz/our-work/diseases-and-conditions/covid-19-novel-coronavirus/covid-19-data-and-statistics/testing-covid-19\n",
       "  Modified            Frequency Var1        ... Date       Duration Status   \n",
       "1 2021-10-06 11:00:00 Daily     Case status ... 2021-01-05 P1D      Deceased \n",
       "2 2021-10-06 11:00:00 Daily     Case status ... 2021-01-05 P1D      Active   \n",
       "3 2021-10-06 11:00:00 Daily     Case status ... 2021-01-05 P1D      Recovered\n",
       "  Value Unit   Measure        Multiplier Week    Week_Index Monday    \n",
       "1   25  Number COVID-19 cases 0          01-2021 54         2021-01-04\n",
       "2   61  Number COVID-19 cases 0          01-2021 54         2021-01-04\n",
       "3 2100  Number COVID-19 cases 0          01-2021 54         2021-01-04"
      ]
     },
     "metadata": {},
     "output_type": "display_data"
    }
   ],
   "source": [
    "# Example of wrong conversion\n",
    "trim_Covid_Raw_df(covid_case_df, \"random\") %>% glimpse()\n",
    "\n",
    "trim_Covid_Raw_df(covid_case_df, \"random\") %>% filter(Week==\"53-2021\")\n",
    "trim_Covid_Raw_df(covid_case_df, \"random\") %>% filter(Date==\"2021-01-05\")"
   ]
  },
  {
   "cell_type": "code",
   "execution_count": 224,
   "id": "291f38cb-924d-452a-9f27-d7e80b773f90",
   "metadata": {
    "tags": []
   },
   "outputs": [
    {
     "name": "stderr",
     "output_type": "stream",
     "text": [
      "`summarise()` has grouped output by 'Monday', 'Status'. You can override using the `.groups` argument.\n",
      "\n"
     ]
    }
   ],
   "source": [
    "# Source: http://rstudio-pubs-static.s3.amazonaws.com/3256_bb10db1440724dac8fa40da5e658ada5.html\n",
    "color <- c(rgb(1,0,0.4,1), rgb(0,1,0.4,1), rgb(0,0,1,1))\n",
    "graph_df <- trim_Covid_Raw_df(covid_case_df, \"\")\n",
    "graph_week_df <- graph_df %>%\n",
    "    group_by(Monday, Status, Week) %>%\n",
    "    summarise(Value = mean(Value))\n",
    "\n",
    "options(repr.plot.width = 14, repr.plot.height = 10) # Size of graph display\n",
    "\n",
    "new_case_plot <- ggplot(data = getByStatus(graph_df, \"Active\"), \n",
    "               aes(x=Date, y=Value)\n",
    "        ) +\n",
    "        geom_line(colour=color[1], size=2) +\n",
    "#         geom_line(data = getByStatus(graph_df, \"Recovered\"), colour=color[2], size=2) +\n",
    "#         geom_line(data = getByStatus(graph_df, \"Deceased\"), colour=color[3], size=2) +\n",
    "        scale_color_manual(values=color) + theme_bw() +\n",
    "        theme(axis.text.x = element_text(angle = 90, vjust = 0.5, hjust=1)) +\n",
    "        scale_x_date(date_breaks = \"months\" , date_labels = \"%b-%y\")\n",
    "\n",
    "new_case_plot <- new_case_plot +\n",
    "ggtitle(\"New case by Week\") +\n",
    "ylab(\"Total cases\") + xlab(\"Month\")\n"
   ]
  },
  {
   "cell_type": "code",
   "execution_count": 226,
   "id": "73347522-a875-46f8-a2fc-84abf5b6b841",
   "metadata": {},
   "outputs": [],
   "source": [
    "graph_week_df$Status <- factor(graph_week_df$Status, \n",
    "                               levels = c(\"Active\", \"Recovered\", \"Deceased\"))\n",
    "\n",
    "covid_weekly_plot <- ggplot(data = graph_week_df, \n",
    "               aes(x=Monday, y=Value, fill=factor(Status))\n",
    "        ) +\n",
    "        geom_bar(stat='identity') +\n",
    "        geom_line(data=getByStatus(graph_df, \"Active\"), colour=color[1], size=2,\n",
    "                 aes(x=Date, y=Value)) +\n",
    "#         geom_line(data=getByStatus(graph_df, \"Recovered\"), colour=color[2], size=2) +\n",
    "#         geom_line(data=getByStatus(graph_df, \"Deceased\"), colour=color[3], size=2) +\n",
    "        scale_color_manual(values=color) + theme_bw() +\n",
    "        theme(axis.text.x = element_text(angle = 90, vjust = 0.5, hjust=1)) +\n",
    "        scale_x_date(date_breaks = \"months\" , date_labels = \"%b-%y\")\n",
    "\n",
    "\n",
    "covid_weekly_plot <- covid_weekly_plot +\n",
    "ggtitle(\"Total case affected by Covid Weekly\") +\n",
    "ylab(\"Total cases\") + xlab(\"Months\") +\n",
    "labs(fill=\"Status\")"
   ]
  },
  {
   "cell_type": "code",
   "execution_count": 227,
   "id": "3750ebea-7287-4e2b-b32a-2af0d7b8f594",
   "metadata": {},
   "outputs": [
    {
     "name": "stderr",
     "output_type": "stream",
     "text": [
      "Warning message:\n",
      "\"Removed 6 rows containing missing values (position_stack).\"\n"
     ]
    },
    {
     "data": {
      "image/png": "[encoded data removed]",
      "text/plain": [
       "plot without title"
      ]
     },
     "metadata": {
      "image/png": {
       "height": 600,
       "width": 840
      }
     },
     "output_type": "display_data"
    },
    {
     "name": "stderr",
     "output_type": "stream",
     "text": [
      "Saving 6.67 x 6.67 in image\n",
      "\n",
      "Saving 6.67 x 6.67 in image\n",
      "\n",
      "Warning message:\n",
      "\"Removed 6 rows containing missing values (position_stack).\"\n"
     ]
    },
    {
     "data": {
      "image/png": "[encoded data removed]",
      "text/plain": [
       "plot without title"
      ]
     },
     "metadata": {
      "image/png": {
       "height": 600,
       "width": 840
      }
     },
     "output_type": "display_data"
    }
   ],
   "source": [
    "# Show Plots\n",
    "new_case_plot\n",
    "covid_weekly_plot\n",
    "\n",
    "# Save Plots\n",
    "savePlot(\"covid_new_case_weekly.png\", new_case_plot)\n",
    "savePlot(\"covid_case_weekly.png\", covid_weekly_plot)"
   ]
  },
  {
   "cell_type": "code",
   "execution_count": null,
   "id": "4e1837f2-e9d7-4305-8351-4370eb4562c1",
   "metadata": {},
   "outputs": [],
   "source": []
  },
  {
   "cell_type": "code",
   "execution_count": null,
   "id": "16535763-e6f5-4641-9e86-786eae03fd3e",
   "metadata": {},
   "outputs": [],
   "source": []
  },
  {
   "cell_type": "code",
   "execution_count": null,
   "id": "345aeb67-a701-4f10-b261-9506a9b902f0",
   "metadata": {},
   "outputs": [],
   "source": []
  }
 ],
 "metadata": {
  "kernelspec": {
   "display_name": "R",
   "language": "R",
   "name": "ir"
  },
  "language_info": {
   "codemirror_mode": "r",
   "file_extension": ".r",
   "mimetype": "text/x-r-source",
   "name": "R",
   "pygments_lexer": "r",
   "version": "4.1.1"
  }
 },
 "nbformat": 4,
 "nbformat_minor": 5
}
