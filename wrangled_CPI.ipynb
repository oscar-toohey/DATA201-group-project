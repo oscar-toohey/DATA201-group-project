{
 "cells": [
  {
   "cell_type": "code",
   "execution_count": 2,
   "id": "7f8fbfd6-6961-49bc-be51-3f3b17290ac2",
   "metadata": {},
   "outputs": [],
   "source": [
    "library(tidyverse)\n",
    "library(magrittr) # better handling of pipes\n",
    "library(purrr) # to work with lists and map functions\n",
    "library(glue) # to paste strings\n",
    "library(stringr) # to hand strings\n",
    "library(rvest) # rvest makes scraping easier\n",
    "library(polite) # polite is the \"polite\" version of rvest\n",
    "library(xml2) # makes it easier to work with HTML and XML from R\n",
    "library(ggplot2)\n",
    "library(httr)\n",
    "library(visdat)\n",
    "library(skimr)\n",
    "library(zoo)"
   ]
  },
  {
   "cell_type": "code",
   "execution_count": 3,
   "id": "f4303800-d302-45b4-9d84-47c40521cdd8",
   "metadata": {},
   "outputs": [
    {
     "name": "stderr",
     "output_type": "stream",
     "text": [
      "\u001b[1m\u001b[1mRows: \u001b[1m\u001b[22m\u001b[34m\u001b[34m45262\u001b[34m\u001b[39m \u001b[1m\u001b[1mColumns: \u001b[1m\u001b[22m\u001b[34m\u001b[34m11\u001b[34m\u001b[39m\n",
      "\n",
      "\u001b[36m──\u001b[39m \u001b[1m\u001b[1mColumn specification\u001b[1m\u001b[22m \u001b[36m────────────────────────────────────────────────────────\u001b[39m\n",
      "\u001b[1mDelimiter:\u001b[22m \",\"\n",
      "\u001b[31mchr\u001b[39m (8): hlpi_name, series_ref, quarter, hlpi, nzhec, nzhec_name, nzhec_shor...\n",
      "\u001b[32mdbl\u001b[39m (3): index, change.q, change.a\n",
      "\n",
      "\n",
      "\u001b[36mℹ\u001b[39m Use \u001b[30m\u001b[47m\u001b[30m\u001b[47m`spec()`\u001b[47m\u001b[30m\u001b[49m\u001b[39m to retrieve the full column specification for this data.\n",
      "\u001b[36mℹ\u001b[39m Specify the column types or set \u001b[30m\u001b[47m\u001b[30m\u001b[47m`show_col_types = FALSE`\u001b[47m\u001b[30m\u001b[49m\u001b[39m to quiet this message.\n",
      "\n"
     ]
    }
   ],
   "source": [
    "HH_LC_PI_df <- read_csv(file = \"data/household-living-costs-price-indexes-June-2021-quarter-time-series-indexes.csv\")"
   ]
  },
  {
   "cell_type": "code",
   "execution_count": 58,
   "id": "0a416123-faa4-49e8-9c3d-7e1f7d483252",
   "metadata": {},
   "outputs": [
    {
     "data": {
      "text/html": [
       "<table class=\"dataframe\">\n",
       "<caption>A tibble: 6 × 11</caption>\n",
       "<thead>\n",
       "\t<tr><th scope=col>hlpi_name</th><th scope=col>series_ref</th><th scope=col>quarter</th><th scope=col>hlpi</th><th scope=col>nzhec</th><th scope=col>nzhec_name</th><th scope=col>nzhec_short</th><th scope=col>level</th><th scope=col>index</th><th scope=col>change.q</th><th scope=col>change.a</th></tr>\n",
       "\t<tr><th scope=col>&lt;chr&gt;</th><th scope=col>&lt;chr&gt;</th><th scope=col>&lt;chr&gt;</th><th scope=col>&lt;chr&gt;</th><th scope=col>&lt;chr&gt;</th><th scope=col>&lt;chr&gt;</th><th scope=col>&lt;chr&gt;</th><th scope=col>&lt;chr&gt;</th><th scope=col>&lt;dbl&gt;</th><th scope=col>&lt;dbl&gt;</th><th scope=col>&lt;dbl&gt;</th></tr>\n",
       "</thead>\n",
       "<tbody>\n",
       "\t<tr><td>All households</td><td>HPIQ.SALL01</td><td>2008Q2</td><td>allhh</td><td>1</td><td>Food</td><td>Food</td><td>group</td><td>870</td><td> NA</td><td> NA</td></tr>\n",
       "\t<tr><td>All households</td><td>HPIQ.SALL01</td><td>2008Q3</td><td>allhh</td><td>1</td><td>Food</td><td>Food</td><td>group</td><td>903</td><td>3.8</td><td> NA</td></tr>\n",
       "\t<tr><td>All households</td><td>HPIQ.SALL01</td><td>2008Q4</td><td>allhh</td><td>1</td><td>Food</td><td>Food</td><td>group</td><td>918</td><td>1.7</td><td> NA</td></tr>\n",
       "\t<tr><td>All households</td><td>HPIQ.SALL01</td><td>2009Q1</td><td>allhh</td><td>1</td><td>Food</td><td>Food</td><td>group</td><td>927</td><td>1.0</td><td> NA</td></tr>\n",
       "\t<tr><td>All households</td><td>HPIQ.SALL01</td><td>2009Q2</td><td>allhh</td><td>1</td><td>Food</td><td>Food</td><td>group</td><td>935</td><td>0.9</td><td>7.5</td></tr>\n",
       "\t<tr><td>All households</td><td>HPIQ.SALL01</td><td>2009Q3</td><td>allhh</td><td>1</td><td>Food</td><td>Food</td><td>group</td><td>949</td><td>1.5</td><td>5.1</td></tr>\n",
       "</tbody>\n",
       "</table>\n"
      ],
      "text/latex": [
       "A tibble: 6 × 11\n",
       "\\begin{tabular}{lllllllllll}\n",
       " hlpi\\_name & series\\_ref & quarter & hlpi & nzhec & nzhec\\_name & nzhec\\_short & level & index & change.q & change.a\\\\\n",
       " <chr> & <chr> & <chr> & <chr> & <chr> & <chr> & <chr> & <chr> & <dbl> & <dbl> & <dbl>\\\\\n",
       "\\hline\n",
       "\t All households & HPIQ.SALL01 & 2008Q2 & allhh & 1 & Food & Food & group & 870 &  NA &  NA\\\\\n",
       "\t All households & HPIQ.SALL01 & 2008Q3 & allhh & 1 & Food & Food & group & 903 & 3.8 &  NA\\\\\n",
       "\t All households & HPIQ.SALL01 & 2008Q4 & allhh & 1 & Food & Food & group & 918 & 1.7 &  NA\\\\\n",
       "\t All households & HPIQ.SALL01 & 2009Q1 & allhh & 1 & Food & Food & group & 927 & 1.0 &  NA\\\\\n",
       "\t All households & HPIQ.SALL01 & 2009Q2 & allhh & 1 & Food & Food & group & 935 & 0.9 & 7.5\\\\\n",
       "\t All households & HPIQ.SALL01 & 2009Q3 & allhh & 1 & Food & Food & group & 949 & 1.5 & 5.1\\\\\n",
       "\\end{tabular}\n"
      ],
      "text/markdown": [
       "\n",
       "A tibble: 6 × 11\n",
       "\n",
       "| hlpi_name &lt;chr&gt; | series_ref &lt;chr&gt; | quarter &lt;chr&gt; | hlpi &lt;chr&gt; | nzhec &lt;chr&gt; | nzhec_name &lt;chr&gt; | nzhec_short &lt;chr&gt; | level &lt;chr&gt; | index &lt;dbl&gt; | change.q &lt;dbl&gt; | change.a &lt;dbl&gt; |\n",
       "|---|---|---|---|---|---|---|---|---|---|---|\n",
       "| All households | HPIQ.SALL01 | 2008Q2 | allhh | 1 | Food | Food | group | 870 |  NA |  NA |\n",
       "| All households | HPIQ.SALL01 | 2008Q3 | allhh | 1 | Food | Food | group | 903 | 3.8 |  NA |\n",
       "| All households | HPIQ.SALL01 | 2008Q4 | allhh | 1 | Food | Food | group | 918 | 1.7 |  NA |\n",
       "| All households | HPIQ.SALL01 | 2009Q1 | allhh | 1 | Food | Food | group | 927 | 1.0 |  NA |\n",
       "| All households | HPIQ.SALL01 | 2009Q2 | allhh | 1 | Food | Food | group | 935 | 0.9 | 7.5 |\n",
       "| All households | HPIQ.SALL01 | 2009Q3 | allhh | 1 | Food | Food | group | 949 | 1.5 | 5.1 |\n",
       "\n"
      ],
      "text/plain": [
       "  hlpi_name      series_ref  quarter hlpi  nzhec nzhec_name nzhec_short level\n",
       "1 All households HPIQ.SALL01 2008Q2  allhh 1     Food       Food        group\n",
       "2 All households HPIQ.SALL01 2008Q3  allhh 1     Food       Food        group\n",
       "3 All households HPIQ.SALL01 2008Q4  allhh 1     Food       Food        group\n",
       "4 All households HPIQ.SALL01 2009Q1  allhh 1     Food       Food        group\n",
       "5 All households HPIQ.SALL01 2009Q2  allhh 1     Food       Food        group\n",
       "6 All households HPIQ.SALL01 2009Q3  allhh 1     Food       Food        group\n",
       "  index change.q change.a\n",
       "1 870    NA       NA     \n",
       "2 903   3.8       NA     \n",
       "3 918   1.7       NA     \n",
       "4 927   1.0       NA     \n",
       "5 935   0.9      7.5     \n",
       "6 949   1.5      5.1     "
      ]
     },
     "metadata": {},
     "output_type": "display_data"
    }
   ],
   "source": [
    "HH_LC_PI_df %>% head()"
   ]
  },
  {
   "cell_type": "code",
   "execution_count": 60,
   "id": "74715ca5-2739-4414-9fa3-342c68a8b165",
   "metadata": {},
   "outputs": [
    {
     "data": {
      "text/html": [
       "<table class=\"dataframe\">\n",
       "<caption>A tibble: 6 × 5</caption>\n",
       "<thead>\n",
       "\t<tr><th scope=col>quarter</th><th scope=col>All groups</th><th scope=col>Food</th><th scope=col>Petrol</th><th scope=col>Rent</th></tr>\n",
       "\t<tr><th scope=col>&lt;chr&gt;</th><th scope=col>&lt;dbl&gt;</th><th scope=col>&lt;dbl&gt;</th><th scope=col>&lt;dbl&gt;</th><th scope=col>&lt;dbl&gt;</th></tr>\n",
       "</thead>\n",
       "<tbody>\n",
       "\t<tr><td>2008Q2</td><td>898</td><td>870</td><td>915</td><td>895</td></tr>\n",
       "\t<tr><td>2008Q3</td><td>911</td><td>903</td><td>957</td><td>902</td></tr>\n",
       "\t<tr><td>2008Q4</td><td>906</td><td>918</td><td>743</td><td>906</td></tr>\n",
       "\t<tr><td>2009Q1</td><td>903</td><td>927</td><td>736</td><td>908</td></tr>\n",
       "\t<tr><td>2009Q2</td><td>905</td><td>935</td><td>760</td><td>910</td></tr>\n",
       "\t<tr><td>2009Q3</td><td>914</td><td>949</td><td>775</td><td>912</td></tr>\n",
       "</tbody>\n",
       "</table>\n"
      ],
      "text/latex": [
       "A tibble: 6 × 5\n",
       "\\begin{tabular}{lllll}\n",
       " quarter & All groups & Food & Petrol & Rent\\\\\n",
       " <chr> & <dbl> & <dbl> & <dbl> & <dbl>\\\\\n",
       "\\hline\n",
       "\t 2008Q2 & 898 & 870 & 915 & 895\\\\\n",
       "\t 2008Q3 & 911 & 903 & 957 & 902\\\\\n",
       "\t 2008Q4 & 906 & 918 & 743 & 906\\\\\n",
       "\t 2009Q1 & 903 & 927 & 736 & 908\\\\\n",
       "\t 2009Q2 & 905 & 935 & 760 & 910\\\\\n",
       "\t 2009Q3 & 914 & 949 & 775 & 912\\\\\n",
       "\\end{tabular}\n"
      ],
      "text/markdown": [
       "\n",
       "A tibble: 6 × 5\n",
       "\n",
       "| quarter &lt;chr&gt; | All groups &lt;dbl&gt; | Food &lt;dbl&gt; | Petrol &lt;dbl&gt; | Rent &lt;dbl&gt; |\n",
       "|---|---|---|---|---|\n",
       "| 2008Q2 | 898 | 870 | 915 | 895 |\n",
       "| 2008Q3 | 911 | 903 | 957 | 902 |\n",
       "| 2008Q4 | 906 | 918 | 743 | 906 |\n",
       "| 2009Q1 | 903 | 927 | 736 | 908 |\n",
       "| 2009Q2 | 905 | 935 | 760 | 910 |\n",
       "| 2009Q3 | 914 | 949 | 775 | 912 |\n",
       "\n"
      ],
      "text/plain": [
       "  quarter All groups Food Petrol Rent\n",
       "1 2008Q2  898        870  915    895 \n",
       "2 2008Q3  911        903  957    902 \n",
       "3 2008Q4  906        918  743    906 \n",
       "4 2009Q1  903        927  736    908 \n",
       "5 2009Q2  905        935  760    910 \n",
       "6 2009Q3  914        949  775    912 "
      ]
     },
     "metadata": {},
     "output_type": "display_data"
    }
   ],
   "source": [
    "CPI_PRF <- HH_LC_PI_df %>% \n",
    "    filter(\n",
    "        hlpi_name == \"All households\", \n",
    "        nzhec_name == \"Petrol\"| (nzhec_short == \"Rent\" & level == \"subgroup\") | nzhec_name == \"Food\" | nzhec_name == \"All groups\"\n",
    "    ) %>%\n",
    "    select(quarter, nzhec_short, index) %>%\n",
    "#     add_row(tibble(nzhec_short = \"Avg\", HH_LC_PI_df %>% \n",
    "#         filter(hlpi_name == \"All households\") %>%\n",
    "#         group_by(quarter) %>% \n",
    "#         summarise(index = mean(index)))) %>%\n",
    "    spread(key = nzhec_short, value = index)\n",
    "\n",
    "CPI_PRF %>% head()"
   ]
  },
  {
   "cell_type": "code",
   "execution_count": 55,
   "id": "77278391-dacb-4cd5-b7df-6cd689fb1451",
   "metadata": {},
   "outputs": [],
   "source": [
    "write.csv(CPI_PRF, \"data/Wrangled_CPI.csv\")"
   ]
  },
  {
   "cell_type": "code",
   "execution_count": 71,
   "id": "5b0ac0f9-2f44-4ce5-ac8f-4ea0425bd5ee",
   "metadata": {},
   "outputs": [
    {
     "data": {
      "text/plain": [
       "geom_line: na.rm = FALSE, orientation = NA\n",
       "stat_identity: na.rm = FALSE\n",
       "position_identity "
      ]
     },
     "metadata": {},
     "output_type": "display_data"
    },
    {
     "data": {
      "image/png": "[encoded data removed]",
      "text/plain": [
       "plot without title"
      ]
     },
     "metadata": {
      "image/png": {
       "height": 420,
       "width": 420
      }
     },
     "output_type": "display_data"
    }
   ],
   "source": [
    "cpi_plot <- CPI_PRF %>%\n",
    "    gather(key = group, value = index, -quarter) %>%\n",
    "    arrange(quarter) %>%\n",
    "    mutate(quarter = as.Date(as.yearqtr(quarter, format = \"%YQ%q\"), frac = 1)) %>%\n",
    "    ggplot(mapping = aes(x = quarter, y = index, group = group, colour = group)) +\n",
    "    scale_colour_discrete(\"Group\") + ggtitle(\"Quarterly CPI for Different Groups Over Time\") +\n",
    "    ylab(\"Index\") + xlab(\"Quarter\") + geom_line(lwd=1.5)\n",
    "    geom_line()\n",
    "\n",
    "cpi_plot"
   ]
  },
  {
   "cell_type": "code",
   "execution_count": 48,
   "id": "89adc03e-ba92-4b87-a014-ecc4d7a192e6",
   "metadata": {},
   "outputs": [
    {
     "data": {
      "text/html": [
       "<time datetime=\"2011-04-01\">2011-04-01</time>"
      ],
      "text/latex": [
       "2011-04-01"
      ],
      "text/markdown": [
       "2011-04-01"
      ],
      "text/plain": [
       "[1] \"2011-04-01\""
      ]
     },
     "metadata": {},
     "output_type": "display_data"
    }
   ],
   "source": [
    "as.Date(as.yearqtr(\"2011Q2\", format = \"%YQ%q\"))"
   ]
  },
  {
   "cell_type": "code",
   "execution_count": 28,
   "id": "7fdd2bfa-0389-4edb-907b-0a0d8bffcefa",
   "metadata": {},
   "outputs": [
    {
     "data": {
      "text/html": [
       "<table class=\"dataframe\">\n",
       "<caption>A tibble: 6 × 11</caption>\n",
       "<thead>\n",
       "\t<tr><th scope=col>hlpi_name</th><th scope=col>series_ref</th><th scope=col>quarter</th><th scope=col>hlpi</th><th scope=col>nzhec</th><th scope=col>nzhec_name</th><th scope=col>nzhec_short</th><th scope=col>level</th><th scope=col>index</th><th scope=col>change.q</th><th scope=col>change.a</th></tr>\n",
       "\t<tr><th scope=col>&lt;chr&gt;</th><th scope=col>&lt;chr&gt;</th><th scope=col>&lt;chr&gt;</th><th scope=col>&lt;chr&gt;</th><th scope=col>&lt;chr&gt;</th><th scope=col>&lt;chr&gt;</th><th scope=col>&lt;chr&gt;</th><th scope=col>&lt;chr&gt;</th><th scope=col>&lt;dbl&gt;</th><th scope=col>&lt;dbl&gt;</th><th scope=col>&lt;dbl&gt;</th></tr>\n",
       "</thead>\n",
       "<tbody>\n",
       "\t<tr><td>All households</td><td>HPIQ.SALL07202</td><td>2008Q2</td><td>allhh</td><td>7.2.02</td><td>Petrol</td><td>Petrol</td><td>class</td><td>915</td><td>   NA</td><td>   NA</td></tr>\n",
       "\t<tr><td>All households</td><td>HPIQ.SALL07202</td><td>2008Q3</td><td>allhh</td><td>7.2.02</td><td>Petrol</td><td>Petrol</td><td>class</td><td>957</td><td>  4.6</td><td>   NA</td></tr>\n",
       "\t<tr><td>All households</td><td>HPIQ.SALL07202</td><td>2008Q4</td><td>allhh</td><td>7.2.02</td><td>Petrol</td><td>Petrol</td><td>class</td><td>743</td><td>-22.4</td><td>   NA</td></tr>\n",
       "\t<tr><td>All households</td><td>HPIQ.SALL07202</td><td>2009Q1</td><td>allhh</td><td>7.2.02</td><td>Petrol</td><td>Petrol</td><td>class</td><td>736</td><td> -0.9</td><td>   NA</td></tr>\n",
       "\t<tr><td>All households</td><td>HPIQ.SALL07202</td><td>2009Q2</td><td>allhh</td><td>7.2.02</td><td>Petrol</td><td>Petrol</td><td>class</td><td>760</td><td>  3.3</td><td>-16.9</td></tr>\n",
       "\t<tr><td>All households</td><td>HPIQ.SALL07202</td><td>2009Q3</td><td>allhh</td><td>7.2.02</td><td>Petrol</td><td>Petrol</td><td>class</td><td>775</td><td>  2.0</td><td>-19.0</td></tr>\n",
       "</tbody>\n",
       "</table>\n"
      ],
      "text/latex": [
       "A tibble: 6 × 11\n",
       "\\begin{tabular}{lllllllllll}\n",
       " hlpi\\_name & series\\_ref & quarter & hlpi & nzhec & nzhec\\_name & nzhec\\_short & level & index & change.q & change.a\\\\\n",
       " <chr> & <chr> & <chr> & <chr> & <chr> & <chr> & <chr> & <chr> & <dbl> & <dbl> & <dbl>\\\\\n",
       "\\hline\n",
       "\t All households & HPIQ.SALL07202 & 2008Q2 & allhh & 7.2.02 & Petrol & Petrol & class & 915 &    NA &    NA\\\\\n",
       "\t All households & HPIQ.SALL07202 & 2008Q3 & allhh & 7.2.02 & Petrol & Petrol & class & 957 &   4.6 &    NA\\\\\n",
       "\t All households & HPIQ.SALL07202 & 2008Q4 & allhh & 7.2.02 & Petrol & Petrol & class & 743 & -22.4 &    NA\\\\\n",
       "\t All households & HPIQ.SALL07202 & 2009Q1 & allhh & 7.2.02 & Petrol & Petrol & class & 736 &  -0.9 &    NA\\\\\n",
       "\t All households & HPIQ.SALL07202 & 2009Q2 & allhh & 7.2.02 & Petrol & Petrol & class & 760 &   3.3 & -16.9\\\\\n",
       "\t All households & HPIQ.SALL07202 & 2009Q3 & allhh & 7.2.02 & Petrol & Petrol & class & 775 &   2.0 & -19.0\\\\\n",
       "\\end{tabular}\n"
      ],
      "text/markdown": [
       "\n",
       "A tibble: 6 × 11\n",
       "\n",
       "| hlpi_name &lt;chr&gt; | series_ref &lt;chr&gt; | quarter &lt;chr&gt; | hlpi &lt;chr&gt; | nzhec &lt;chr&gt; | nzhec_name &lt;chr&gt; | nzhec_short &lt;chr&gt; | level &lt;chr&gt; | index &lt;dbl&gt; | change.q &lt;dbl&gt; | change.a &lt;dbl&gt; |\n",
       "|---|---|---|---|---|---|---|---|---|---|---|\n",
       "| All households | HPIQ.SALL07202 | 2008Q2 | allhh | 7.2.02 | Petrol | Petrol | class | 915 |    NA |    NA |\n",
       "| All households | HPIQ.SALL07202 | 2008Q3 | allhh | 7.2.02 | Petrol | Petrol | class | 957 |   4.6 |    NA |\n",
       "| All households | HPIQ.SALL07202 | 2008Q4 | allhh | 7.2.02 | Petrol | Petrol | class | 743 | -22.4 |    NA |\n",
       "| All households | HPIQ.SALL07202 | 2009Q1 | allhh | 7.2.02 | Petrol | Petrol | class | 736 |  -0.9 |    NA |\n",
       "| All households | HPIQ.SALL07202 | 2009Q2 | allhh | 7.2.02 | Petrol | Petrol | class | 760 |   3.3 | -16.9 |\n",
       "| All households | HPIQ.SALL07202 | 2009Q3 | allhh | 7.2.02 | Petrol | Petrol | class | 775 |   2.0 | -19.0 |\n",
       "\n"
      ],
      "text/plain": [
       "  hlpi_name      series_ref     quarter hlpi  nzhec  nzhec_name nzhec_short\n",
       "1 All households HPIQ.SALL07202 2008Q2  allhh 7.2.02 Petrol     Petrol     \n",
       "2 All households HPIQ.SALL07202 2008Q3  allhh 7.2.02 Petrol     Petrol     \n",
       "3 All households HPIQ.SALL07202 2008Q4  allhh 7.2.02 Petrol     Petrol     \n",
       "4 All households HPIQ.SALL07202 2009Q1  allhh 7.2.02 Petrol     Petrol     \n",
       "5 All households HPIQ.SALL07202 2009Q2  allhh 7.2.02 Petrol     Petrol     \n",
       "6 All households HPIQ.SALL07202 2009Q3  allhh 7.2.02 Petrol     Petrol     \n",
       "  level index change.q change.a\n",
       "1 class 915      NA       NA   \n",
       "2 class 957     4.6       NA   \n",
       "3 class 743   -22.4       NA   \n",
       "4 class 736    -0.9       NA   \n",
       "5 class 760     3.3    -16.9   \n",
       "6 class 775     2.0    -19.0   "
      ]
     },
     "metadata": {},
     "output_type": "display_data"
    }
   ],
   "source": [
    "all_households_petrol <- HH_LC_PI_df %>%\n",
    "    filter(hlpi_name == \"All households\", nzhec_name == \"Petrol\")\n",
    "all_households_petrol %>% head"
   ]
  },
  {
   "cell_type": "code",
   "execution_count": 11,
   "id": "7497adfb-c9a3-451a-a82b-b6f45a79fe02",
   "metadata": {},
   "outputs": [
    {
     "data": {
      "text/html": [
       "<table class=\"dataframe\">\n",
       "<caption>A tibble: 6 × 11</caption>\n",
       "<thead>\n",
       "\t<tr><th scope=col>hlpi_name</th><th scope=col>series_ref</th><th scope=col>quarter</th><th scope=col>hlpi</th><th scope=col>nzhec</th><th scope=col>nzhec_name</th><th scope=col>nzhec_short</th><th scope=col>level</th><th scope=col>index</th><th scope=col>change.q</th><th scope=col>change.a</th></tr>\n",
       "\t<tr><th scope=col>&lt;chr&gt;</th><th scope=col>&lt;chr&gt;</th><th scope=col>&lt;chr&gt;</th><th scope=col>&lt;chr&gt;</th><th scope=col>&lt;chr&gt;</th><th scope=col>&lt;chr&gt;</th><th scope=col>&lt;chr&gt;</th><th scope=col>&lt;chr&gt;</th><th scope=col>&lt;dbl&gt;</th><th scope=col>&lt;dbl&gt;</th><th scope=col>&lt;dbl&gt;</th></tr>\n",
       "</thead>\n",
       "<tbody>\n",
       "\t<tr><td>All households</td><td>HPIQ.SALL041</td><td>2008Q2</td><td>allhh</td><td>4.1</td><td>Actual rentals for housing</td><td>Rent</td><td>subgroup</td><td>895</td><td> NA</td><td> NA</td></tr>\n",
       "\t<tr><td>All households</td><td>HPIQ.SALL041</td><td>2008Q3</td><td>allhh</td><td>4.1</td><td>Actual rentals for housing</td><td>Rent</td><td>subgroup</td><td>902</td><td>0.8</td><td> NA</td></tr>\n",
       "\t<tr><td>All households</td><td>HPIQ.SALL041</td><td>2008Q4</td><td>allhh</td><td>4.1</td><td>Actual rentals for housing</td><td>Rent</td><td>subgroup</td><td>906</td><td>0.4</td><td> NA</td></tr>\n",
       "\t<tr><td>All households</td><td>HPIQ.SALL041</td><td>2009Q1</td><td>allhh</td><td>4.1</td><td>Actual rentals for housing</td><td>Rent</td><td>subgroup</td><td>908</td><td>0.2</td><td> NA</td></tr>\n",
       "\t<tr><td>All households</td><td>HPIQ.SALL041</td><td>2009Q2</td><td>allhh</td><td>4.1</td><td>Actual rentals for housing</td><td>Rent</td><td>subgroup</td><td>910</td><td>0.2</td><td>1.7</td></tr>\n",
       "\t<tr><td>All households</td><td>HPIQ.SALL041</td><td>2009Q3</td><td>allhh</td><td>4.1</td><td>Actual rentals for housing</td><td>Rent</td><td>subgroup</td><td>912</td><td>0.2</td><td>1.1</td></tr>\n",
       "</tbody>\n",
       "</table>\n"
      ],
      "text/latex": [
       "A tibble: 6 × 11\n",
       "\\begin{tabular}{lllllllllll}\n",
       " hlpi\\_name & series\\_ref & quarter & hlpi & nzhec & nzhec\\_name & nzhec\\_short & level & index & change.q & change.a\\\\\n",
       " <chr> & <chr> & <chr> & <chr> & <chr> & <chr> & <chr> & <chr> & <dbl> & <dbl> & <dbl>\\\\\n",
       "\\hline\n",
       "\t All households & HPIQ.SALL041 & 2008Q2 & allhh & 4.1 & Actual rentals for housing & Rent & subgroup & 895 &  NA &  NA\\\\\n",
       "\t All households & HPIQ.SALL041 & 2008Q3 & allhh & 4.1 & Actual rentals for housing & Rent & subgroup & 902 & 0.8 &  NA\\\\\n",
       "\t All households & HPIQ.SALL041 & 2008Q4 & allhh & 4.1 & Actual rentals for housing & Rent & subgroup & 906 & 0.4 &  NA\\\\\n",
       "\t All households & HPIQ.SALL041 & 2009Q1 & allhh & 4.1 & Actual rentals for housing & Rent & subgroup & 908 & 0.2 &  NA\\\\\n",
       "\t All households & HPIQ.SALL041 & 2009Q2 & allhh & 4.1 & Actual rentals for housing & Rent & subgroup & 910 & 0.2 & 1.7\\\\\n",
       "\t All households & HPIQ.SALL041 & 2009Q3 & allhh & 4.1 & Actual rentals for housing & Rent & subgroup & 912 & 0.2 & 1.1\\\\\n",
       "\\end{tabular}\n"
      ],
      "text/markdown": [
       "\n",
       "A tibble: 6 × 11\n",
       "\n",
       "| hlpi_name &lt;chr&gt; | series_ref &lt;chr&gt; | quarter &lt;chr&gt; | hlpi &lt;chr&gt; | nzhec &lt;chr&gt; | nzhec_name &lt;chr&gt; | nzhec_short &lt;chr&gt; | level &lt;chr&gt; | index &lt;dbl&gt; | change.q &lt;dbl&gt; | change.a &lt;dbl&gt; |\n",
       "|---|---|---|---|---|---|---|---|---|---|---|\n",
       "| All households | HPIQ.SALL041 | 2008Q2 | allhh | 4.1 | Actual rentals for housing | Rent | subgroup | 895 |  NA |  NA |\n",
       "| All households | HPIQ.SALL041 | 2008Q3 | allhh | 4.1 | Actual rentals for housing | Rent | subgroup | 902 | 0.8 |  NA |\n",
       "| All households | HPIQ.SALL041 | 2008Q4 | allhh | 4.1 | Actual rentals for housing | Rent | subgroup | 906 | 0.4 |  NA |\n",
       "| All households | HPIQ.SALL041 | 2009Q1 | allhh | 4.1 | Actual rentals for housing | Rent | subgroup | 908 | 0.2 |  NA |\n",
       "| All households | HPIQ.SALL041 | 2009Q2 | allhh | 4.1 | Actual rentals for housing | Rent | subgroup | 910 | 0.2 | 1.7 |\n",
       "| All households | HPIQ.SALL041 | 2009Q3 | allhh | 4.1 | Actual rentals for housing | Rent | subgroup | 912 | 0.2 | 1.1 |\n",
       "\n"
      ],
      "text/plain": [
       "  hlpi_name      series_ref   quarter hlpi  nzhec nzhec_name                \n",
       "1 All households HPIQ.SALL041 2008Q2  allhh 4.1   Actual rentals for housing\n",
       "2 All households HPIQ.SALL041 2008Q3  allhh 4.1   Actual rentals for housing\n",
       "3 All households HPIQ.SALL041 2008Q4  allhh 4.1   Actual rentals for housing\n",
       "4 All households HPIQ.SALL041 2009Q1  allhh 4.1   Actual rentals for housing\n",
       "5 All households HPIQ.SALL041 2009Q2  allhh 4.1   Actual rentals for housing\n",
       "6 All households HPIQ.SALL041 2009Q3  allhh 4.1   Actual rentals for housing\n",
       "  nzhec_short level    index change.q change.a\n",
       "1 Rent        subgroup 895    NA       NA     \n",
       "2 Rent        subgroup 902   0.8       NA     \n",
       "3 Rent        subgroup 906   0.4       NA     \n",
       "4 Rent        subgroup 908   0.2       NA     \n",
       "5 Rent        subgroup 910   0.2      1.7     \n",
       "6 Rent        subgroup 912   0.2      1.1     "
      ]
     },
     "metadata": {},
     "output_type": "display_data"
    }
   ],
   "source": [
    "all_households_rent <- HH_LC_PI_df %>%\n",
    "    filter(hlpi_name == \"All households\", nzhec_short == \"Rent\", level == \"subgroup\")\n",
    "all_households_rent %>% head"
   ]
  },
  {
   "cell_type": "code",
   "execution_count": 29,
   "id": "8c17e3a1-42e9-47a0-8e9e-d084ce72e6fb",
   "metadata": {},
   "outputs": [
    {
     "data": {
      "text/html": [
       "<table class=\"dataframe\">\n",
       "<caption>A tibble: 6 × 11</caption>\n",
       "<thead>\n",
       "\t<tr><th scope=col>hlpi_name</th><th scope=col>series_ref</th><th scope=col>quarter</th><th scope=col>hlpi</th><th scope=col>nzhec</th><th scope=col>nzhec_name</th><th scope=col>nzhec_short</th><th scope=col>level</th><th scope=col>index</th><th scope=col>change.q</th><th scope=col>change.a</th></tr>\n",
       "\t<tr><th scope=col>&lt;chr&gt;</th><th scope=col>&lt;chr&gt;</th><th scope=col>&lt;chr&gt;</th><th scope=col>&lt;chr&gt;</th><th scope=col>&lt;chr&gt;</th><th scope=col>&lt;chr&gt;</th><th scope=col>&lt;chr&gt;</th><th scope=col>&lt;chr&gt;</th><th scope=col>&lt;dbl&gt;</th><th scope=col>&lt;dbl&gt;</th><th scope=col>&lt;dbl&gt;</th></tr>\n",
       "</thead>\n",
       "<tbody>\n",
       "\t<tr><td>All households</td><td>HPIQ.SALL01</td><td>2008Q2</td><td>allhh</td><td>1</td><td>Food</td><td>Food</td><td>group</td><td>870</td><td> NA</td><td> NA</td></tr>\n",
       "\t<tr><td>All households</td><td>HPIQ.SALL01</td><td>2008Q3</td><td>allhh</td><td>1</td><td>Food</td><td>Food</td><td>group</td><td>903</td><td>3.8</td><td> NA</td></tr>\n",
       "\t<tr><td>All households</td><td>HPIQ.SALL01</td><td>2008Q4</td><td>allhh</td><td>1</td><td>Food</td><td>Food</td><td>group</td><td>918</td><td>1.7</td><td> NA</td></tr>\n",
       "\t<tr><td>All households</td><td>HPIQ.SALL01</td><td>2009Q1</td><td>allhh</td><td>1</td><td>Food</td><td>Food</td><td>group</td><td>927</td><td>1.0</td><td> NA</td></tr>\n",
       "\t<tr><td>All households</td><td>HPIQ.SALL01</td><td>2009Q2</td><td>allhh</td><td>1</td><td>Food</td><td>Food</td><td>group</td><td>935</td><td>0.9</td><td>7.5</td></tr>\n",
       "\t<tr><td>All households</td><td>HPIQ.SALL01</td><td>2009Q3</td><td>allhh</td><td>1</td><td>Food</td><td>Food</td><td>group</td><td>949</td><td>1.5</td><td>5.1</td></tr>\n",
       "</tbody>\n",
       "</table>\n"
      ],
      "text/latex": [
       "A tibble: 6 × 11\n",
       "\\begin{tabular}{lllllllllll}\n",
       " hlpi\\_name & series\\_ref & quarter & hlpi & nzhec & nzhec\\_name & nzhec\\_short & level & index & change.q & change.a\\\\\n",
       " <chr> & <chr> & <chr> & <chr> & <chr> & <chr> & <chr> & <chr> & <dbl> & <dbl> & <dbl>\\\\\n",
       "\\hline\n",
       "\t All households & HPIQ.SALL01 & 2008Q2 & allhh & 1 & Food & Food & group & 870 &  NA &  NA\\\\\n",
       "\t All households & HPIQ.SALL01 & 2008Q3 & allhh & 1 & Food & Food & group & 903 & 3.8 &  NA\\\\\n",
       "\t All households & HPIQ.SALL01 & 2008Q4 & allhh & 1 & Food & Food & group & 918 & 1.7 &  NA\\\\\n",
       "\t All households & HPIQ.SALL01 & 2009Q1 & allhh & 1 & Food & Food & group & 927 & 1.0 &  NA\\\\\n",
       "\t All households & HPIQ.SALL01 & 2009Q2 & allhh & 1 & Food & Food & group & 935 & 0.9 & 7.5\\\\\n",
       "\t All households & HPIQ.SALL01 & 2009Q3 & allhh & 1 & Food & Food & group & 949 & 1.5 & 5.1\\\\\n",
       "\\end{tabular}\n"
      ],
      "text/markdown": [
       "\n",
       "A tibble: 6 × 11\n",
       "\n",
       "| hlpi_name &lt;chr&gt; | series_ref &lt;chr&gt; | quarter &lt;chr&gt; | hlpi &lt;chr&gt; | nzhec &lt;chr&gt; | nzhec_name &lt;chr&gt; | nzhec_short &lt;chr&gt; | level &lt;chr&gt; | index &lt;dbl&gt; | change.q &lt;dbl&gt; | change.a &lt;dbl&gt; |\n",
       "|---|---|---|---|---|---|---|---|---|---|---|\n",
       "| All households | HPIQ.SALL01 | 2008Q2 | allhh | 1 | Food | Food | group | 870 |  NA |  NA |\n",
       "| All households | HPIQ.SALL01 | 2008Q3 | allhh | 1 | Food | Food | group | 903 | 3.8 |  NA |\n",
       "| All households | HPIQ.SALL01 | 2008Q4 | allhh | 1 | Food | Food | group | 918 | 1.7 |  NA |\n",
       "| All households | HPIQ.SALL01 | 2009Q1 | allhh | 1 | Food | Food | group | 927 | 1.0 |  NA |\n",
       "| All households | HPIQ.SALL01 | 2009Q2 | allhh | 1 | Food | Food | group | 935 | 0.9 | 7.5 |\n",
       "| All households | HPIQ.SALL01 | 2009Q3 | allhh | 1 | Food | Food | group | 949 | 1.5 | 5.1 |\n",
       "\n"
      ],
      "text/plain": [
       "  hlpi_name      series_ref  quarter hlpi  nzhec nzhec_name nzhec_short level\n",
       "1 All households HPIQ.SALL01 2008Q2  allhh 1     Food       Food        group\n",
       "2 All households HPIQ.SALL01 2008Q3  allhh 1     Food       Food        group\n",
       "3 All households HPIQ.SALL01 2008Q4  allhh 1     Food       Food        group\n",
       "4 All households HPIQ.SALL01 2009Q1  allhh 1     Food       Food        group\n",
       "5 All households HPIQ.SALL01 2009Q2  allhh 1     Food       Food        group\n",
       "6 All households HPIQ.SALL01 2009Q3  allhh 1     Food       Food        group\n",
       "  index change.q change.a\n",
       "1 870    NA       NA     \n",
       "2 903   3.8       NA     \n",
       "3 918   1.7       NA     \n",
       "4 927   1.0       NA     \n",
       "5 935   0.9      7.5     \n",
       "6 949   1.5      5.1     "
      ]
     },
     "metadata": {},
     "output_type": "display_data"
    }
   ],
   "source": [
    "all_households_food <- HH_LC_PI_df %>%\n",
    "    filter(hlpi_name == \"All households\", nzhec_short == \"Food\")\n",
    "all_households_food %>% head"
   ]
  },
  {
   "cell_type": "code",
   "execution_count": null,
   "id": "637507f3-a3b6-4332-8d45-a6e2b13807a6",
   "metadata": {},
   "outputs": [],
   "source": [
    "HH_LC_PI_df %>%\n",
    "    filter(nzhec_name == "
   ]
  },
  {
   "cell_type": "code",
   "execution_count": 16,
   "id": "caf62113-909a-4077-8a13-050add9673aa",
   "metadata": {},
   "outputs": [
    {
     "data": {
      "text/html": [
       "<table class=\"dataframe\">\n",
       "<caption>A tibble: 59 × 1</caption>\n",
       "<thead>\n",
       "\t<tr><th scope=col>nzhec_name</th></tr>\n",
       "\t<tr><th scope=col>&lt;chr&gt;</th></tr>\n",
       "</thead>\n",
       "<tbody>\n",
       "\t<tr><td>Accommodation services                     </td></tr>\n",
       "\t<tr><td>Actual rentals for housing                 </td></tr>\n",
       "\t<tr><td>Alcoholic beverages                        </td></tr>\n",
       "\t<tr><td>Alcoholic beverages and tobacco            </td></tr>\n",
       "\t<tr><td>All groups                                 </td></tr>\n",
       "\t<tr><td>Audio-visual and computing equipment       </td></tr>\n",
       "\t<tr><td>Cigarettes and tobacco                     </td></tr>\n",
       "\t<tr><td>Clothing                                   </td></tr>\n",
       "\t<tr><td>Clothing and footwear                      </td></tr>\n",
       "\t<tr><td>Communication                              </td></tr>\n",
       "\t<tr><td>Credit services                            </td></tr>\n",
       "\t<tr><td>Early childhood education                  </td></tr>\n",
       "\t<tr><td>Education                                  </td></tr>\n",
       "\t<tr><td>Electricity                                </td></tr>\n",
       "\t<tr><td>Food                                       </td></tr>\n",
       "\t<tr><td>Footwear                                   </td></tr>\n",
       "\t<tr><td>Fruit and vegetables                       </td></tr>\n",
       "\t<tr><td>Furniture, furnishings and floor coverings </td></tr>\n",
       "\t<tr><td>Glassware, tableware and household utensils</td></tr>\n",
       "\t<tr><td>Grocery food                               </td></tr>\n",
       "\t<tr><td>Health                                     </td></tr>\n",
       "\t<tr><td>Hospital services                          </td></tr>\n",
       "\t<tr><td>Household appliances                       </td></tr>\n",
       "\t<tr><td>Household contents and services            </td></tr>\n",
       "\t<tr><td>Household energy                           </td></tr>\n",
       "\t<tr><td>Household textiles                         </td></tr>\n",
       "\t<tr><td>Housing and household utilities            </td></tr>\n",
       "\t<tr><td>Insurance                                  </td></tr>\n",
       "\t<tr><td>Interest payments                          </td></tr>\n",
       "\t<tr><td>Local authority rates and payments         </td></tr>\n",
       "\t<tr><td>Major recreational and cultural equipment  </td></tr>\n",
       "\t<tr><td>Meat, poultry and fish                     </td></tr>\n",
       "\t<tr><td>Medical products, appliances and equipment </td></tr>\n",
       "\t<tr><td>Miscellaneous goods and services           </td></tr>\n",
       "\t<tr><td>Newspapers, books and stationery           </td></tr>\n",
       "\t<tr><td>Non-alcoholic beverages                    </td></tr>\n",
       "\t<tr><td>Other educational fees                     </td></tr>\n",
       "\t<tr><td>Other household supplies and services      </td></tr>\n",
       "\t<tr><td>Other miscellaneous services               </td></tr>\n",
       "\t<tr><td>Other recreational equipment and supplies  </td></tr>\n",
       "\t<tr><td>Out-patient services                       </td></tr>\n",
       "\t<tr><td>Passenger transport services               </td></tr>\n",
       "\t<tr><td>Personal care                              </td></tr>\n",
       "\t<tr><td>Personal effects                           </td></tr>\n",
       "\t<tr><td>Petrol                                     </td></tr>\n",
       "\t<tr><td>Postal services                            </td></tr>\n",
       "\t<tr><td>Primary and secondary education            </td></tr>\n",
       "\t<tr><td>Private transport supplies and services    </td></tr>\n",
       "\t<tr><td>Property maintenance                       </td></tr>\n",
       "\t<tr><td>Property rates and related services        </td></tr>\n",
       "\t<tr><td>Purchase of vehicles                       </td></tr>\n",
       "\t<tr><td>Recreation and culture                     </td></tr>\n",
       "\t<tr><td>Recreational and cultural services         </td></tr>\n",
       "\t<tr><td>Restaurant meals and ready-to-eat food     </td></tr>\n",
       "\t<tr><td>Telecommunication equipment                </td></tr>\n",
       "\t<tr><td>Telecommunication services                 </td></tr>\n",
       "\t<tr><td>Tertiary and other post school education   </td></tr>\n",
       "\t<tr><td>Tools and equipment for house and garden   </td></tr>\n",
       "\t<tr><td>Transport                                  </td></tr>\n",
       "</tbody>\n",
       "</table>\n"
      ],
      "text/latex": [
       "A tibble: 59 × 1\n",
       "\\begin{tabular}{l}\n",
       " nzhec\\_name\\\\\n",
       " <chr>\\\\\n",
       "\\hline\n",
       "\t Accommodation services                     \\\\\n",
       "\t Actual rentals for housing                 \\\\\n",
       "\t Alcoholic beverages                        \\\\\n",
       "\t Alcoholic beverages and tobacco            \\\\\n",
       "\t All groups                                 \\\\\n",
       "\t Audio-visual and computing equipment       \\\\\n",
       "\t Cigarettes and tobacco                     \\\\\n",
       "\t Clothing                                   \\\\\n",
       "\t Clothing and footwear                      \\\\\n",
       "\t Communication                              \\\\\n",
       "\t Credit services                            \\\\\n",
       "\t Early childhood education                  \\\\\n",
       "\t Education                                  \\\\\n",
       "\t Electricity                                \\\\\n",
       "\t Food                                       \\\\\n",
       "\t Footwear                                   \\\\\n",
       "\t Fruit and vegetables                       \\\\\n",
       "\t Furniture, furnishings and floor coverings \\\\\n",
       "\t Glassware, tableware and household utensils\\\\\n",
       "\t Grocery food                               \\\\\n",
       "\t Health                                     \\\\\n",
       "\t Hospital services                          \\\\\n",
       "\t Household appliances                       \\\\\n",
       "\t Household contents and services            \\\\\n",
       "\t Household energy                           \\\\\n",
       "\t Household textiles                         \\\\\n",
       "\t Housing and household utilities            \\\\\n",
       "\t Insurance                                  \\\\\n",
       "\t Interest payments                          \\\\\n",
       "\t Local authority rates and payments         \\\\\n",
       "\t Major recreational and cultural equipment  \\\\\n",
       "\t Meat, poultry and fish                     \\\\\n",
       "\t Medical products, appliances and equipment \\\\\n",
       "\t Miscellaneous goods and services           \\\\\n",
       "\t Newspapers, books and stationery           \\\\\n",
       "\t Non-alcoholic beverages                    \\\\\n",
       "\t Other educational fees                     \\\\\n",
       "\t Other household supplies and services      \\\\\n",
       "\t Other miscellaneous services               \\\\\n",
       "\t Other recreational equipment and supplies  \\\\\n",
       "\t Out-patient services                       \\\\\n",
       "\t Passenger transport services               \\\\\n",
       "\t Personal care                              \\\\\n",
       "\t Personal effects                           \\\\\n",
       "\t Petrol                                     \\\\\n",
       "\t Postal services                            \\\\\n",
       "\t Primary and secondary education            \\\\\n",
       "\t Private transport supplies and services    \\\\\n",
       "\t Property maintenance                       \\\\\n",
       "\t Property rates and related services        \\\\\n",
       "\t Purchase of vehicles                       \\\\\n",
       "\t Recreation and culture                     \\\\\n",
       "\t Recreational and cultural services         \\\\\n",
       "\t Restaurant meals and ready-to-eat food     \\\\\n",
       "\t Telecommunication equipment                \\\\\n",
       "\t Telecommunication services                 \\\\\n",
       "\t Tertiary and other post school education   \\\\\n",
       "\t Tools and equipment for house and garden   \\\\\n",
       "\t Transport                                  \\\\\n",
       "\\end{tabular}\n"
      ],
      "text/markdown": [
       "\n",
       "A tibble: 59 × 1\n",
       "\n",
       "| nzhec_name &lt;chr&gt; |\n",
       "|---|\n",
       "| Accommodation services                      |\n",
       "| Actual rentals for housing                  |\n",
       "| Alcoholic beverages                         |\n",
       "| Alcoholic beverages and tobacco             |\n",
       "| All groups                                  |\n",
       "| Audio-visual and computing equipment        |\n",
       "| Cigarettes and tobacco                      |\n",
       "| Clothing                                    |\n",
       "| Clothing and footwear                       |\n",
       "| Communication                               |\n",
       "| Credit services                             |\n",
       "| Early childhood education                   |\n",
       "| Education                                   |\n",
       "| Electricity                                 |\n",
       "| Food                                        |\n",
       "| Footwear                                    |\n",
       "| Fruit and vegetables                        |\n",
       "| Furniture, furnishings and floor coverings  |\n",
       "| Glassware, tableware and household utensils |\n",
       "| Grocery food                                |\n",
       "| Health                                      |\n",
       "| Hospital services                           |\n",
       "| Household appliances                        |\n",
       "| Household contents and services             |\n",
       "| Household energy                            |\n",
       "| Household textiles                          |\n",
       "| Housing and household utilities             |\n",
       "| Insurance                                   |\n",
       "| Interest payments                           |\n",
       "| Local authority rates and payments          |\n",
       "| Major recreational and cultural equipment   |\n",
       "| Meat, poultry and fish                      |\n",
       "| Medical products, appliances and equipment  |\n",
       "| Miscellaneous goods and services            |\n",
       "| Newspapers, books and stationery            |\n",
       "| Non-alcoholic beverages                     |\n",
       "| Other educational fees                      |\n",
       "| Other household supplies and services       |\n",
       "| Other miscellaneous services                |\n",
       "| Other recreational equipment and supplies   |\n",
       "| Out-patient services                        |\n",
       "| Passenger transport services                |\n",
       "| Personal care                               |\n",
       "| Personal effects                            |\n",
       "| Petrol                                      |\n",
       "| Postal services                             |\n",
       "| Primary and secondary education             |\n",
       "| Private transport supplies and services     |\n",
       "| Property maintenance                        |\n",
       "| Property rates and related services         |\n",
       "| Purchase of vehicles                        |\n",
       "| Recreation and culture                      |\n",
       "| Recreational and cultural services          |\n",
       "| Restaurant meals and ready-to-eat food      |\n",
       "| Telecommunication equipment                 |\n",
       "| Telecommunication services                  |\n",
       "| Tertiary and other post school education    |\n",
       "| Tools and equipment for house and garden    |\n",
       "| Transport                                   |\n",
       "\n"
      ],
      "text/plain": [
       "   nzhec_name                                 \n",
       "1  Accommodation services                     \n",
       "2  Actual rentals for housing                 \n",
       "3  Alcoholic beverages                        \n",
       "4  Alcoholic beverages and tobacco            \n",
       "5  All groups                                 \n",
       "6  Audio-visual and computing equipment       \n",
       "7  Cigarettes and tobacco                     \n",
       "8  Clothing                                   \n",
       "9  Clothing and footwear                      \n",
       "10 Communication                              \n",
       "11 Credit services                            \n",
       "12 Early childhood education                  \n",
       "13 Education                                  \n",
       "14 Electricity                                \n",
       "15 Food                                       \n",
       "16 Footwear                                   \n",
       "17 Fruit and vegetables                       \n",
       "18 Furniture, furnishings and floor coverings \n",
       "19 Glassware, tableware and household utensils\n",
       "20 Grocery food                               \n",
       "21 Health                                     \n",
       "22 Hospital services                          \n",
       "23 Household appliances                       \n",
       "24 Household contents and services            \n",
       "25 Household energy                           \n",
       "26 Household textiles                         \n",
       "27 Housing and household utilities            \n",
       "28 Insurance                                  \n",
       "29 Interest payments                          \n",
       "30 Local authority rates and payments         \n",
       "31 Major recreational and cultural equipment  \n",
       "32 Meat, poultry and fish                     \n",
       "33 Medical products, appliances and equipment \n",
       "34 Miscellaneous goods and services           \n",
       "35 Newspapers, books and stationery           \n",
       "36 Non-alcoholic beverages                    \n",
       "37 Other educational fees                     \n",
       "38 Other household supplies and services      \n",
       "39 Other miscellaneous services               \n",
       "40 Other recreational equipment and supplies  \n",
       "41 Out-patient services                       \n",
       "42 Passenger transport services               \n",
       "43 Personal care                              \n",
       "44 Personal effects                           \n",
       "45 Petrol                                     \n",
       "46 Postal services                            \n",
       "47 Primary and secondary education            \n",
       "48 Private transport supplies and services    \n",
       "49 Property maintenance                       \n",
       "50 Property rates and related services        \n",
       "51 Purchase of vehicles                       \n",
       "52 Recreation and culture                     \n",
       "53 Recreational and cultural services         \n",
       "54 Restaurant meals and ready-to-eat food     \n",
       "55 Telecommunication equipment                \n",
       "56 Telecommunication services                 \n",
       "57 Tertiary and other post school education   \n",
       "58 Tools and equipment for house and garden   \n",
       "59 Transport                                  "
      ]
     },
     "metadata": {},
     "output_type": "display_data"
    }
   ],
   "source": [
    "HH_LC_PI_df %>%\n",
    "    filter(hlpi_name == \"All households\") %>%\n",
    "    group_by(nzhec_name) %>%\n",
    "    summarise()"
   ]
  }
 ],
 "metadata": {
  "kernelspec": {
   "display_name": "R",
   "language": "R",
   "name": "ir"
  },
  "language_info": {
   "codemirror_mode": "r",
   "file_extension": ".r",
   "mimetype": "text/x-r-source",
   "name": "R",
   "pygments_lexer": "r",
   "version": "4.1.1"
  }
 },
 "nbformat": 4,
 "nbformat_minor": 5
}
