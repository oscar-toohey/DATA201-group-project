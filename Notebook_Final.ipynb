{
 "cells": [
  {
   "cell_type": "markdown",
   "id": "214b33b7-aa84-4145-9b2e-72f00f15faf0",
   "metadata": {},
   "source": [
    "# Group project - DATA201\n",
    "\n",
    "> By Oscar Toohey, Jamie Barnes, Seth Gunn, Bach Vu, Angus Loader\n"
   ]
  },
  {
   "cell_type": "markdown",
   "id": "8f453720-4ec6-4aa2-b847-1dac903a8ca4",
   "metadata": {},
   "source": [
    "# How COVID affect living price in New Zealand"
   ]
  },
  {
   "cell_type": "markdown",
   "id": "b9a358e0-7f5e-440d-b5b8-881c3bd43662",
   "metadata": {},
   "source": [
    "## Data Source (dir `data/`):\n",
    "| Location | Content | URL |\n",
    "|----|----|----|\n",
    "| `household.csv` | CPI |  |\n",
    "| `Overseas.csv`| Import/Export by tonnes |  |\n",
    "| `Number_of_covid.csv` | Covid statistic by Health Ministry |  |"
   ]
  },
  {
   "cell_type": "markdown",
   "id": "2fd1f586-5e53-4dc2-bc7e-37903733c460",
   "metadata": {},
   "source": [
    "### R libraries"
   ]
  },
  {
   "cell_type": "code",
   "execution_count": 26,
   "id": "e79f0952-b3f0-478f-93da-772d2cc5d23f",
   "metadata": {
    "collapsed": true,
    "jupyter": {
     "outputs_hidden": true
    },
    "tags": []
   },
   "outputs": [
    {
     "name": "stderr",
     "output_type": "stream",
     "text": [
      "Warning message:\n",
      "\"package 'zoo' was built under R version 4.1.1\"\n",
      "\n",
      "Attaching package: 'zoo'\n",
      "\n",
      "\n",
      "The following objects are masked from 'package:base':\n",
      "\n",
      "    as.Date, as.Date.numeric\n",
      "\n",
      "\n"
     ]
    }
   ],
   "source": [
    "library(tidyverse)\n",
    "library(rvest)\n",
    "library(magrittr) # better handling of pipes\n",
    "\n",
    "library(purrr) # to work with lists and map functions\n",
    "library(glue)\n",
    "library(stringr) # to handle string conversion\n",
    "\n",
    "# install.packages(\"zoo\") # as.yearqtr\n",
    "library(zoo)\n",
    "\n",
    "library(ggplot2)"
   ]
  },
  {
   "cell_type": "markdown",
   "id": "317100b0-ea39-4cfe-9024-086d7d90a241",
   "metadata": {},
   "source": [
    "### Covid stats\n"
   ]
  },
  {
   "cell_type": "markdown",
   "id": "3411a251-3be6-41dc-ade3-f869728ce377",
   "metadata": {},
   "source": [
    "Import data"
   ]
  },
  {
   "cell_type": "code",
   "execution_count": 3,
   "id": "0a468f56-fc66-41c3-bff2-4a9900018297",
   "metadata": {
    "collapsed": true,
    "jupyter": {
     "outputs_hidden": true
    },
    "tags": []
   },
   "outputs": [
    {
     "name": "stderr",
     "output_type": "stream",
     "text": [
      "New names:\n",
      "* `` -> ...1\n",
      "\n",
      "\u001b[1m\u001b[1mRows: \u001b[1m\u001b[22m\u001b[34m\u001b[34m1554\u001b[34m\u001b[39m \u001b[1m\u001b[1mColumns: \u001b[1m\u001b[22m\u001b[34m\u001b[34m18\u001b[34m\u001b[39m\n",
      "\n",
      "\u001b[36m--\u001b[39m \u001b[1m\u001b[1mColumn specification\u001b[1m\u001b[22m \u001b[36m--------------------------------------------------------\u001b[39m\n",
      "\u001b[1mDelimiter:\u001b[22m \",\"\n",
      "\u001b[31mchr\u001b[39m  (13): ResourceID, Subject, Title, Description, Source, SourceURL, Frequ...\n",
      "\u001b[32mdbl\u001b[39m   (3): ...1, Value, Multiplier\n",
      "\u001b[34mdttm\u001b[39m  (1): Modified\n",
      "\u001b[34mdate\u001b[39m  (1): Period\n",
      "\n",
      "\n",
      "\u001b[36mi\u001b[39m Use \u001b[30m\u001b[47m\u001b[30m\u001b[47m`spec()`\u001b[47m\u001b[30m\u001b[49m\u001b[39m to retrieve the full column specification for this data.\n",
      "\u001b[36mi\u001b[39m Specify the column types or set \u001b[30m\u001b[47m\u001b[30m\u001b[47m`show_col_types = FALSE`\u001b[47m\u001b[30m\u001b[49m\u001b[39m to quiet this message.\n",
      "\n",
      "\u001b[1m\u001b[1mRows: \u001b[1m\u001b[22m\u001b[34m\u001b[34m45262\u001b[34m\u001b[39m \u001b[1m\u001b[1mColumns: \u001b[1m\u001b[22m\u001b[34m\u001b[34m11\u001b[34m\u001b[39m\n",
      "\n",
      "\u001b[36m--\u001b[39m \u001b[1m\u001b[1mColumn specification\u001b[1m\u001b[22m \u001b[36m--------------------------------------------------------\u001b[39m\n",
      "\u001b[1mDelimiter:\u001b[22m \",\"\n",
      "\u001b[31mchr\u001b[39m (8): hlpi_name, series_ref, quarter, hlpi, nzhec, nzhec_name, nzhec_shor...\n",
      "\u001b[32mdbl\u001b[39m (3): index, change.q, change.a\n",
      "\n",
      "\n",
      "\u001b[36mi\u001b[39m Use \u001b[30m\u001b[47m\u001b[30m\u001b[47m`spec()`\u001b[47m\u001b[30m\u001b[49m\u001b[39m to retrieve the full column specification for this data.\n",
      "\u001b[36mi\u001b[39m Specify the column types or set \u001b[30m\u001b[47m\u001b[30m\u001b[47m`show_col_types = FALSE`\u001b[47m\u001b[30m\u001b[49m\u001b[39m to quiet this message.\n",
      "\n"
     ]
    },
    {
     "name": "stdout",
     "output_type": "stream",
     "text": [
      "Rows: 1,554\n",
      "Columns: 18\n",
      "$ ...1        \u001b[3m\u001b[90m<dbl>\u001b[39m\u001b[23m 1, 2, 3, 4, 5, 6, 7, 8, 9, 10, 11, 12, 13, 14, 15, 16, 17,~\n",
      "$ ResourceID  \u001b[3m\u001b[90m<chr>\u001b[39m\u001b[23m \"CPCOV2\", \"CPCOV2\", \"CPCOV2\", \"CPCOV2\", \"CPCOV2\", \"CPCOV2\"~\n",
      "$ Subject     \u001b[3m\u001b[90m<chr>\u001b[39m\u001b[23m \"COVID-19\", \"COVID-19\", \"COVID-19\", \"COVID-19\", \"COVID-19\"~\n",
      "$ Title       \u001b[3m\u001b[90m<chr>\u001b[39m\u001b[23m \"Number of Cases\", \"Number of Cases\", \"Number of Cases\", \"~\n",
      "$ Description \u001b[3m\u001b[90m<chr>\u001b[39m\u001b[23m \"COVID-19 cases in New Zealand (cumulative)\", \"COVID-19 ca~\n",
      "$ Source      \u001b[3m\u001b[90m<chr>\u001b[39m\u001b[23m \"Ministry of Health\", \"Ministry of Health\", \"Ministry of H~\n",
      "$ SourceURL   \u001b[3m\u001b[90m<chr>\u001b[39m\u001b[23m \"https://www.health.govt.nz/our-work/diseases-and-conditio~\n",
      "$ Modified    \u001b[3m\u001b[90m<dttm>\u001b[39m\u001b[23m 2021-10-06 11:00:00, 2021-10-06 11:00:00, 2021-10-06 11:0~\n",
      "$ Frequency   \u001b[3m\u001b[90m<chr>\u001b[39m\u001b[23m \"Daily\", \"Daily\", \"Daily\", \"Daily\", \"Daily\", \"Daily\", \"Dai~\n",
      "$ Var1        \u001b[3m\u001b[90m<chr>\u001b[39m\u001b[23m \"Case status\", \"Case status\", \"Case status\", \"Case status\"~\n",
      "$ id          \u001b[3m\u001b[90m<chr>\u001b[39m\u001b[23m \"3934f4da-e3ed-43c4-8656-441f49f9c7ca\", \"2a4fa96a-27a1-423~\n",
      "$ Period      \u001b[3m\u001b[90m<date>\u001b[39m\u001b[23m 2020-02-28, 2020-02-29, 2020-03-01, 2020-03-02, 2020-03-0~\n",
      "$ Duration    \u001b[3m\u001b[90m<chr>\u001b[39m\u001b[23m \"P1D\", \"P1D\", \"P1D\", \"P1D\", \"P1D\", \"P1D\", \"P1D\", \"P1D\", \"P~\n",
      "$ Label1      \u001b[3m\u001b[90m<chr>\u001b[39m\u001b[23m \"Deceased\", \"Deceased\", \"Deceased\", \"Deceased\", \"Deceased\"~\n",
      "$ Value       \u001b[3m\u001b[90m<dbl>\u001b[39m\u001b[23m 0, 0, 0, 0, 0, 0, 0, 0, 0, 0, 0, 0, 0, 0, 0, 0, 0, 0, 0, 0~\n",
      "$ Unit        \u001b[3m\u001b[90m<chr>\u001b[39m\u001b[23m \"Number\", \"Number\", \"Number\", \"Number\", \"Number\", \"Number\"~\n",
      "$ Measure     \u001b[3m\u001b[90m<chr>\u001b[39m\u001b[23m \"COVID-19 cases\", \"COVID-19 cases\", \"COVID-19 cases\", \"COV~\n",
      "$ Multiplier  \u001b[3m\u001b[90m<dbl>\u001b[39m\u001b[23m 0, 0, 0, 0, 0, 0, 0, 0, 0, 0, 0, 0, 0, 0, 0, 0, 0, 0, 0, 0~\n",
      "Rows: 45,262\n",
      "Columns: 11\n",
      "$ hlpi_name   \u001b[3m\u001b[90m<chr>\u001b[39m\u001b[23m \"All households\", \"All households\", \"All households\", \"All~\n",
      "$ series_ref  \u001b[3m\u001b[90m<chr>\u001b[39m\u001b[23m \"HPIQ.SALL01\", \"HPIQ.SALL01\", \"HPIQ.SALL01\", \"HPIQ.SALL01\"~\n",
      "$ quarter     \u001b[3m\u001b[90m<chr>\u001b[39m\u001b[23m \"2008Q2\", \"2008Q3\", \"2008Q4\", \"2009Q1\", \"2009Q2\", \"2009Q3\"~\n",
      "$ hlpi        \u001b[3m\u001b[90m<chr>\u001b[39m\u001b[23m \"allhh\", \"allhh\", \"allhh\", \"allhh\", \"allhh\", \"allhh\", \"all~\n",
      "$ nzhec       \u001b[3m\u001b[90m<chr>\u001b[39m\u001b[23m \"1\", \"1\", \"1\", \"1\", \"1\", \"1\", \"1\", \"1\", \"1\", \"1\", \"1\", \"1\"~\n",
      "$ nzhec_name  \u001b[3m\u001b[90m<chr>\u001b[39m\u001b[23m \"Food\", \"Food\", \"Food\", \"Food\", \"Food\", \"Food\", \"Food\", \"F~\n",
      "$ nzhec_short \u001b[3m\u001b[90m<chr>\u001b[39m\u001b[23m \"Food\", \"Food\", \"Food\", \"Food\", \"Food\", \"Food\", \"Food\", \"F~\n",
      "$ level       \u001b[3m\u001b[90m<chr>\u001b[39m\u001b[23m \"group\", \"group\", \"group\", \"group\", \"group\", \"group\", \"gro~\n",
      "$ index       \u001b[3m\u001b[90m<dbl>\u001b[39m\u001b[23m 870, 903, 918, 927, 935, 949, 929, 938, 929, 952, 974, 985~\n",
      "$ change.q    \u001b[3m\u001b[90m<dbl>\u001b[39m\u001b[23m NA, 3.8, 1.7, 1.0, 0.9, 1.5, -2.1, 1.0, -1.0, 2.5, 2.3, 1.~\n",
      "$ change.a    \u001b[3m\u001b[90m<dbl>\u001b[39m\u001b[23m NA, NA, NA, NA, 7.5, 5.1, 1.2, 1.2, -0.6, 0.3, 4.8, 5.0, 7~\n"
     ]
    }
   ],
   "source": [
    "covid_case_df <- read_csv(\"data/Number_of_cases.csv\")\n",
    "hpi_df <- read_csv(\"data/household-living-costs-price-indexes-June-2021-quarter-time-series-indexes.csv\")\n",
    "\n",
    "covid_case_df %>% glimpse()\n",
    "hpi_df %>% glimpse()"
   ]
  },
  {
   "cell_type": "markdown",
   "id": "691a0888-3c25-467d-9415-cd98b6e34105",
   "metadata": {},
   "source": [
    "Create helpers"
   ]
  },
  {
   "cell_type": "code",
   "execution_count": 8,
   "id": "78eacc3d-c233-4205-8c22-92d116315b76",
   "metadata": {
    "tags": []
   },
   "outputs": [],
   "source": [
    "convertToWeek <- function(date, format=\"%V-%Y\") {\n",
    "    return (strftime(date, format=format))\n",
    "}\n",
    "\n",
    "getFirstDayOfWeek <- function(date) {\n",
    "    weekIndex = strtoi(convertToWeek(date, format=\"%V\"), base=10L)\n",
    "    year = convertToWeek(date, format=\"%Y\")\n",
    "    string <- paste(year, weekIndex, \"1\", sep=\"-\") # 1 for Monday\n",
    "    return (string)\n",
    "}\n",
    "\n",
    "getByStatus <- function(data, status, rename=FALSE) {\n",
    "    result <- data %>% filter(Status==status)\n",
    "    if (rename == TRUE) {\n",
    "        result %<>% select(Value, Date) \n",
    "        names(result)[names(result) == 'Value'] <- status\n",
    "    }\n",
    "    return (result)\n",
    "}\n",
    "\n",
    "trim_Covid_Raw_df <-function(covid_df, option) {\n",
    "    covid_df <- covid_df %>% rename(Status=Label1, Date=Period)\n",
    "    covid_df %<>% mutate(\n",
    "        Week = map_chr(Date, convertToWeek),\n",
    "        Monday = map_chr(Date, getFirstDayOfWeek)\n",
    "    )\n",
    "    suppressWarnings( # There is not good record in raw data, see Failure in report\n",
    "        covid_df <- transform(covid_df, Monday=as.Date(Monday, format=\"%Y-%U-%u\"))\n",
    "    )\n",
    "    \n",
    "    if (option == \"Status\") {\n",
    "        covid_status_df <- covid_df %>% select(Value, Date, Status) %>%\n",
    "                                        group_by(Status) %>% summarise()\n",
    "        return (covid_status_df)        \n",
    "    }\n",
    "    \n",
    "    deceased_covid_case_df <- getByStatus(covid_df, \"Deceased\", TRUE)\n",
    "    recovered_covid_case_df <- getByStatus(covid_df, \"Recovered\", TRUE)\n",
    "    active_covid_case_df <- getByStatus(covid_df, \"Active\", TRUE)\n",
    "    if (option == \"Deceased\") {\n",
    "        return (deceased_covid_case_df)\n",
    "    } else if (option == \"Recovered\") {\n",
    "        return (recovered_covid_case_df)\n",
    "    } else if (option == \"Active\") {\n",
    "        return (active_covid_case_df)\n",
    "    }    \n",
    "    \n",
    "    temp <- merge(x = deceased_covid_case_df, y = recovered_covid_case_df, \n",
    "                  by = \"Date\", all = TRUE)\n",
    "    covid_case_mutated_df <- merge(x = temp, y = active_covid_case_df, \n",
    "                                   by = \"Date\", all = TRUE) # Outer join\n",
    "    if (option == \"Sample\") {        \n",
    "        newdata <- covid_case_mutated_df %>% sample_n(10)\n",
    "        return (newdata[order(newdata$Date),])\n",
    "    } else if (option == \"Summary\") {\n",
    "        return (covid_case_mutated_df) # Trim unecessary cols\n",
    "    }\n",
    "    \n",
    "    return (covid_df)\n",
    "}\n",
    "\n",
    "savePlot <- function(filename, df_plot) {\n",
    "    ggsave(paste(\"img\", filename, sep=\"/\"), plot = df_plot)\n",
    "}"
   ]
  },
  {
   "cell_type": "markdown",
   "id": "d2d72ec2-2cdd-4ab2-897a-1ed82c017398",
   "metadata": {},
   "source": [
    "Explore data"
   ]
  },
  {
   "cell_type": "code",
   "execution_count": 15,
   "id": "1894a737-4473-4b66-a163-0a6a67bdc0b2",
   "metadata": {
    "collapsed": true,
    "jupyter": {
     "outputs_hidden": true
    },
    "tags": []
   },
   "outputs": [
    {
     "data": {
      "text/html": [
       "<table class=\"dataframe\">\n",
       "<caption>A tibble: 3 × 1</caption>\n",
       "<thead>\n",
       "\t<tr><th scope=col>Status</th></tr>\n",
       "\t<tr><th scope=col>&lt;chr&gt;</th></tr>\n",
       "</thead>\n",
       "<tbody>\n",
       "\t<tr><td>Active   </td></tr>\n",
       "\t<tr><td>Deceased </td></tr>\n",
       "\t<tr><td>Recovered</td></tr>\n",
       "</tbody>\n",
       "</table>\n"
      ],
      "text/latex": [
       "A tibble: 3 × 1\n",
       "\\begin{tabular}{l}\n",
       " Status\\\\\n",
       " <chr>\\\\\n",
       "\\hline\n",
       "\t Active   \\\\\n",
       "\t Deceased \\\\\n",
       "\t Recovered\\\\\n",
       "\\end{tabular}\n"
      ],
      "text/markdown": [
       "\n",
       "A tibble: 3 × 1\n",
       "\n",
       "| Status &lt;chr&gt; |\n",
       "|---|\n",
       "| Active    |\n",
       "| Deceased  |\n",
       "| Recovered |\n",
       "\n"
      ],
      "text/plain": [
       "  Status   \n",
       "1 Active   \n",
       "2 Deceased \n",
       "3 Recovered"
      ]
     },
     "metadata": {},
     "output_type": "display_data"
    },
    {
     "name": "stdout",
     "output_type": "stream",
     "text": [
      "Rows: 518\n",
      "Columns: 2\n",
      "$ Deceased \u001b[3m\u001b[90m<dbl>\u001b[39m\u001b[23m 0, 0, 0, 0, 0, 0, 0, 0, 0, 0, 0, 0, 0, 0, 0, 0, 0, 0, 0, 0, 0~\n",
      "$ Date     \u001b[3m\u001b[90m<date>\u001b[39m\u001b[23m 2020-02-28, 2020-02-29, 2020-03-01, 2020-03-02, 2020-03-05, ~\n",
      "Rows: 518\n",
      "Columns: 2\n",
      "$ Recovered \u001b[3m\u001b[90m<dbl>\u001b[39m\u001b[23m 0, 0, 0, 0, 0, 0, 0, 0, 0, 0, 0, 0, 0, 0, 0, 0, 0, 0, 0, 0, ~\n",
      "$ Date      \u001b[3m\u001b[90m<date>\u001b[39m\u001b[23m 2020-02-28, 2020-03-01, 2020-02-29, 2020-03-03, 2020-03-02,~\n",
      "Rows: 518\n",
      "Columns: 2\n",
      "$ Active \u001b[3m\u001b[90m<dbl>\u001b[39m\u001b[23m 1, 1, 1, 1, 1, 3, 3, 4, 5, 5, 5, 5, 5, 5, 6, 5, 8, 8, 12, 20, 2~\n",
      "$ Date   \u001b[3m\u001b[90m<date>\u001b[39m\u001b[23m 2020-02-28, 2020-03-01, 2020-03-02, 2020-03-03, 2020-02-29, 20~\n"
     ]
    },
    {
     "data": {
      "text/html": [
       "<table class=\"dataframe\">\n",
       "<caption>A data.frame: 10 × 4</caption>\n",
       "<thead>\n",
       "\t<tr><th></th><th scope=col>Date</th><th scope=col>Deceased</th><th scope=col>Recovered</th><th scope=col>Active</th></tr>\n",
       "\t<tr><th></th><th scope=col>&lt;date&gt;</th><th scope=col>&lt;dbl&gt;</th><th scope=col>&lt;dbl&gt;</th><th scope=col>&lt;dbl&gt;</th></tr>\n",
       "</thead>\n",
       "<tbody>\n",
       "\t<tr><th scope=row>8</th><td>2020-04-03</td><td> 1</td><td> 103</td><td>764</td></tr>\n",
       "\t<tr><th scope=row>1</th><td>2020-05-10</td><td>21</td><td>1371</td><td>102</td></tr>\n",
       "\t<tr><th scope=row>2</th><td>2020-09-01</td><td>22</td><td>1598</td><td>132</td></tr>\n",
       "\t<tr><th scope=row>10</th><td>2020-11-16</td><td>25</td><td>1918</td><td> 58</td></tr>\n",
       "\t<tr><th scope=row>9</th><td>2021-02-12</td><td>25</td><td>2257</td><td> 44</td></tr>\n",
       "\t<tr><th scope=row>3</th><td>2021-05-04</td><td>26</td><td>2573</td><td> 24</td></tr>\n",
       "\t<tr><th scope=row>6</th><td>2021-06-01</td><td>26</td><td>2634</td><td> 13</td></tr>\n",
       "\t<tr><th scope=row>5</th><td>2021-06-06</td><td>26</td><td>2639</td><td> 17</td></tr>\n",
       "\t<tr><th scope=row>4</th><td>2021-07-11</td><td>26</td><td>2707</td><td> 34</td></tr>\n",
       "\t<tr><th scope=row>7</th><td>2021-08-06</td><td>26</td><td>2829</td><td> 25</td></tr>\n",
       "</tbody>\n",
       "</table>\n"
      ],
      "text/latex": [
       "A data.frame: 10 × 4\n",
       "\\begin{tabular}{r|llll}\n",
       "  & Date & Deceased & Recovered & Active\\\\\n",
       "  & <date> & <dbl> & <dbl> & <dbl>\\\\\n",
       "\\hline\n",
       "\t8 & 2020-04-03 &  1 &  103 & 764\\\\\n",
       "\t1 & 2020-05-10 & 21 & 1371 & 102\\\\\n",
       "\t2 & 2020-09-01 & 22 & 1598 & 132\\\\\n",
       "\t10 & 2020-11-16 & 25 & 1918 &  58\\\\\n",
       "\t9 & 2021-02-12 & 25 & 2257 &  44\\\\\n",
       "\t3 & 2021-05-04 & 26 & 2573 &  24\\\\\n",
       "\t6 & 2021-06-01 & 26 & 2634 &  13\\\\\n",
       "\t5 & 2021-06-06 & 26 & 2639 &  17\\\\\n",
       "\t4 & 2021-07-11 & 26 & 2707 &  34\\\\\n",
       "\t7 & 2021-08-06 & 26 & 2829 &  25\\\\\n",
       "\\end{tabular}\n"
      ],
      "text/markdown": [
       "\n",
       "A data.frame: 10 × 4\n",
       "\n",
       "| <!--/--> | Date &lt;date&gt; | Deceased &lt;dbl&gt; | Recovered &lt;dbl&gt; | Active &lt;dbl&gt; |\n",
       "|---|---|---|---|---|\n",
       "| 8 | 2020-04-03 |  1 |  103 | 764 |\n",
       "| 1 | 2020-05-10 | 21 | 1371 | 102 |\n",
       "| 2 | 2020-09-01 | 22 | 1598 | 132 |\n",
       "| 10 | 2020-11-16 | 25 | 1918 |  58 |\n",
       "| 9 | 2021-02-12 | 25 | 2257 |  44 |\n",
       "| 3 | 2021-05-04 | 26 | 2573 |  24 |\n",
       "| 6 | 2021-06-01 | 26 | 2634 |  13 |\n",
       "| 5 | 2021-06-06 | 26 | 2639 |  17 |\n",
       "| 4 | 2021-07-11 | 26 | 2707 |  34 |\n",
       "| 7 | 2021-08-06 | 26 | 2829 |  25 |\n",
       "\n"
      ],
      "text/plain": [
       "   Date       Deceased Recovered Active\n",
       "8  2020-04-03  1        103      764   \n",
       "1  2020-05-10 21       1371      102   \n",
       "2  2020-09-01 22       1598      132   \n",
       "10 2020-11-16 25       1918       58   \n",
       "9  2021-02-12 25       2257       44   \n",
       "3  2021-05-04 26       2573       24   \n",
       "6  2021-06-01 26       2634       13   \n",
       "5  2021-06-06 26       2639       17   \n",
       "4  2021-07-11 26       2707       34   \n",
       "7  2021-08-06 26       2829       25   "
      ]
     },
     "metadata": {},
     "output_type": "display_data"
    },
    {
     "name": "stdout",
     "output_type": "stream",
     "text": [
      "Rows: 518\n",
      "Columns: 4\n",
      "$ Date      \u001b[3m\u001b[90m<date>\u001b[39m\u001b[23m 2020-02-28, 2020-02-29, 2020-03-01, 2020-03-02, 2020-03-03,~\n",
      "$ Deceased  \u001b[3m\u001b[90m<dbl>\u001b[39m\u001b[23m 0, 0, 0, 0, 0, 0, 0, 0, 0, 0, 0, 0, 0, 0, 0, 0, 0, 0, 0, 0, ~\n",
      "$ Recovered \u001b[3m\u001b[90m<dbl>\u001b[39m\u001b[23m 0, 0, 0, 0, 0, 0, 0, 0, 0, 0, 0, 0, 0, 0, 0, 0, 0, 0, 0, 0, ~\n",
      "$ Active    \u001b[3m\u001b[90m<dbl>\u001b[39m\u001b[23m 1, 1, 1, 1, 1, 3, 3, 4, 5, 5, 5, 5, 5, 5, 5, 6, 8, 8, 12, 20~\n"
     ]
    }
   ],
   "source": [
    "# Test\n",
    "trim_Covid_Raw_df(covid_case_df, \"Status\")\n",
    "trim_Covid_Raw_df(covid_case_df, \"Deceased\") %>% glimpse()\n",
    "trim_Covid_Raw_df(covid_case_df, \"Recovered\") %>% glimpse()\n",
    "trim_Covid_Raw_df(covid_case_df, \"Active\") %>% glimpse()\n",
    "trim_Covid_Raw_df(covid_case_df, \"Sample\")\n",
    "trim_Covid_Raw_df(covid_case_df, \"Summary\") %>% glimpse()"
   ]
  },
  {
   "cell_type": "markdown",
   "id": "70ab4092-9831-4bf6-ac33-88e140bf9f79",
   "metadata": {},
   "source": [
    "Wraggle data and graphing"
   ]
  },
  {
   "cell_type": "code",
   "execution_count": 74,
   "id": "95c7bd66-30c6-4d37-9f4f-b79cdd57b646",
   "metadata": {},
   "outputs": [
    {
     "name": "stderr",
     "output_type": "stream",
     "text": [
      "`summarise()` has grouped output by 'Monday', 'Status'. You can override using the `.groups` argument.\n",
      "\n"
     ]
    }
   ],
   "source": [
    "# Source: http://rstudio-pubs-static.s3.amazonaws.com/3256_bb10db1440724dac8fa40da5e658ada5.html\n",
    "color <- c(rgb(1,0,0.4,1), rgb(0,1,0.4,1), rgb(0,0,1,1))\n",
    "graph_df <- trim_Covid_Raw_df(covid_case_df, \"\")\n",
    "graph_week_df <- graph_df %>%\n",
    "    group_by(Monday, Status, Week) %>%\n",
    "    summarise(Value = mean(Value))\n",
    "\n",
    "options(repr.plot.width = 14, repr.plot.height = 10) # Size of graph display"
   ]
  },
  {
   "cell_type": "code",
   "execution_count": 11,
   "id": "0e8bcc82-4d70-4f86-a8d4-365362b75307",
   "metadata": {},
   "outputs": [],
   "source": [
    "new_case_plot <- ggplot(data = getByStatus(graph_df, \"Active\"), \n",
    "               aes(x=Date, y=Value)\n",
    "        ) +\n",
    "        geom_line(colour=color[1], size=2) +\n",
    "#         geom_line(data = getByStatus(graph_df, \"Recovered\"), colour=color[2], size=2) +\n",
    "#         geom_line(data = getByStatus(graph_df, \"Deceased\"), colour=color[3], size=2) +\n",
    "        scale_color_manual(values=color) + theme_bw() +\n",
    "        theme(axis.text.x = element_text(angle = 90, vjust = 0.5, hjust=1)) +\n",
    "        scale_x_date(date_breaks = \"months\" , date_labels = \"%b-%y\")\n",
    "\n",
    "new_case_plot <- new_case_plot +\n",
    "ggtitle(\"New case by Week\") +\n",
    "ylab(\"Total cases\") + xlab(\"Month\")"
   ]
  },
  {
   "cell_type": "code",
   "execution_count": 75,
   "id": "ee95ea6b-4884-4411-9541-d5d67fc874c8",
   "metadata": {},
   "outputs": [],
   "source": [
    "graph_week_df$Status <- factor(graph_week_df$Status, \n",
    "                               levels = c(\"Active\", \"Recovered\", \"Deceased\"))\n",
    "\n",
    "covid_weekly_plot <- ggplot() +\n",
    "        geom_bar(stat='identity', data = graph_week_df,\n",
    "                aes(x=Monday, y=Value, fill=factor(Status))) +\n",
    "        geom_line(data=getByStatus(graph_df, \"Active\"), colour=color[1], size=2,\n",
    "                 aes(x=Date, y=Value)) +\n",
    "        scale_color_manual(values=color) + theme_bw() +\n",
    "        theme(axis.text.x = element_text(angle = 90, vjust = 0.5, hjust=1)) +\n",
    "        scale_x_date(date_breaks = \"months\" , date_labels = \"%b-%y\")\n",
    "\n",
    "\n",
    "covid_weekly_plot <- covid_weekly_plot +\n",
    "ggtitle(\"Total case affected by Covid Weekly\") +\n",
    "ylab(\"Total cases\") + xlab(\"Months\") +\n",
    "labs(fill=\"Status\")"
   ]
  },
  {
   "cell_type": "markdown",
   "id": "4c49aba5-f185-4ea1-8b9c-1d845c26af6f",
   "metadata": {},
   "source": [
    "Show plots result"
   ]
  },
  {
   "cell_type": "code",
   "execution_count": 48,
   "id": "b7960526-6e0a-4571-8de9-43b8108ac52e",
   "metadata": {},
   "outputs": [
    {
     "name": "stderr",
     "output_type": "stream",
     "text": [
      "Saving 6.67 x 6.67 in image\n",
      "\n",
      "Saving 6.67 x 6.67 in image\n",
      "\n",
      "Warning message:\n",
      "\"Removed 6 rows containing missing values (position_stack).\"\n"
     ]
    }
   ],
   "source": [
    "# Show Plots\n",
    "# new_case_plot\n",
    "# covid_weekly_plot\n",
    "\n",
    "# Save Plots\n",
    "savePlot(\"covid_new_case_weekly.png\", new_case_plot)\n",
    "savePlot(\"covid_case_weekly.png\", covid_weekly_plot)"
   ]
  },
  {
   "cell_type": "markdown",
   "id": "db7a0cb3-c821-4c35-af02-90ea25bcc40a",
   "metadata": {},
   "source": []
  },
  {
   "cell_type": "code",
   "execution_count": null,
   "id": "f1e25134-9e71-4fc7-8fb7-2981a3e2acf9",
   "metadata": {},
   "outputs": [],
   "source": []
  },
  {
   "cell_type": "markdown",
   "id": "0ed26dc0-7548-4dc7-914b-479e5ee0bc68",
   "metadata": {},
   "source": []
  },
  {
   "cell_type": "code",
   "execution_count": null,
   "id": "f1674235-20f7-4702-a4f3-ee4e6b273957",
   "metadata": {},
   "outputs": [],
   "source": []
  },
  {
   "cell_type": "markdown",
   "id": "f4cc2487-1313-493e-a287-008e9fe84017",
   "metadata": {},
   "source": [
    "### Living household Index (CPI)"
   ]
  },
  {
   "cell_type": "markdown",
   "id": "9c3a00f8-14fb-4c79-9435-2fd40d1b9ca9",
   "metadata": {},
   "source": []
  },
  {
   "cell_type": "code",
   "execution_count": 16,
   "id": "83bb0376-0530-4cfd-893f-af092020923c",
   "metadata": {},
   "outputs": [
    {
     "name": "stderr",
     "output_type": "stream",
     "text": [
      "\u001b[1m\u001b[1mRows: \u001b[1m\u001b[22m\u001b[34m\u001b[34m45262\u001b[34m\u001b[39m \u001b[1m\u001b[1mColumns: \u001b[1m\u001b[22m\u001b[34m\u001b[34m11\u001b[34m\u001b[39m\n",
      "\n",
      "\u001b[36m--\u001b[39m \u001b[1m\u001b[1mColumn specification\u001b[1m\u001b[22m \u001b[36m--------------------------------------------------------\u001b[39m\n",
      "\u001b[1mDelimiter:\u001b[22m \",\"\n",
      "\u001b[31mchr\u001b[39m (8): hlpi_name, series_ref, quarter, hlpi, nzhec, nzhec_name, nzhec_shor...\n",
      "\u001b[32mdbl\u001b[39m (3): index, change.q, change.a\n",
      "\n",
      "\n",
      "\u001b[36mi\u001b[39m Use \u001b[30m\u001b[47m\u001b[30m\u001b[47m`spec()`\u001b[47m\u001b[30m\u001b[49m\u001b[39m to retrieve the full column specification for this data.\n",
      "\u001b[36mi\u001b[39m Specify the column types or set \u001b[30m\u001b[47m\u001b[30m\u001b[47m`show_col_types = FALSE`\u001b[47m\u001b[30m\u001b[49m\u001b[39m to quiet this message.\n",
      "\n"
     ]
    },
    {
     "data": {
      "text/html": [
       "<table class=\"dataframe\">\n",
       "<caption>A tibble: 6 × 11</caption>\n",
       "<thead>\n",
       "\t<tr><th scope=col>hlpi_name</th><th scope=col>series_ref</th><th scope=col>quarter</th><th scope=col>hlpi</th><th scope=col>nzhec</th><th scope=col>nzhec_name</th><th scope=col>nzhec_short</th><th scope=col>level</th><th scope=col>index</th><th scope=col>change.q</th><th scope=col>change.a</th></tr>\n",
       "\t<tr><th scope=col>&lt;chr&gt;</th><th scope=col>&lt;chr&gt;</th><th scope=col>&lt;chr&gt;</th><th scope=col>&lt;chr&gt;</th><th scope=col>&lt;chr&gt;</th><th scope=col>&lt;chr&gt;</th><th scope=col>&lt;chr&gt;</th><th scope=col>&lt;chr&gt;</th><th scope=col>&lt;dbl&gt;</th><th scope=col>&lt;dbl&gt;</th><th scope=col>&lt;dbl&gt;</th></tr>\n",
       "</thead>\n",
       "<tbody>\n",
       "\t<tr><td>All households</td><td>HPIQ.SALL01</td><td>2008Q2</td><td>allhh</td><td>1</td><td>Food</td><td>Food</td><td>group</td><td>870</td><td> NA</td><td> NA</td></tr>\n",
       "\t<tr><td>All households</td><td>HPIQ.SALL01</td><td>2008Q3</td><td>allhh</td><td>1</td><td>Food</td><td>Food</td><td>group</td><td>903</td><td>3.8</td><td> NA</td></tr>\n",
       "\t<tr><td>All households</td><td>HPIQ.SALL01</td><td>2008Q4</td><td>allhh</td><td>1</td><td>Food</td><td>Food</td><td>group</td><td>918</td><td>1.7</td><td> NA</td></tr>\n",
       "\t<tr><td>All households</td><td>HPIQ.SALL01</td><td>2009Q1</td><td>allhh</td><td>1</td><td>Food</td><td>Food</td><td>group</td><td>927</td><td>1.0</td><td> NA</td></tr>\n",
       "\t<tr><td>All households</td><td>HPIQ.SALL01</td><td>2009Q2</td><td>allhh</td><td>1</td><td>Food</td><td>Food</td><td>group</td><td>935</td><td>0.9</td><td>7.5</td></tr>\n",
       "\t<tr><td>All households</td><td>HPIQ.SALL01</td><td>2009Q3</td><td>allhh</td><td>1</td><td>Food</td><td>Food</td><td>group</td><td>949</td><td>1.5</td><td>5.1</td></tr>\n",
       "</tbody>\n",
       "</table>\n"
      ],
      "text/latex": [
       "A tibble: 6 × 11\n",
       "\\begin{tabular}{lllllllllll}\n",
       " hlpi\\_name & series\\_ref & quarter & hlpi & nzhec & nzhec\\_name & nzhec\\_short & level & index & change.q & change.a\\\\\n",
       " <chr> & <chr> & <chr> & <chr> & <chr> & <chr> & <chr> & <chr> & <dbl> & <dbl> & <dbl>\\\\\n",
       "\\hline\n",
       "\t All households & HPIQ.SALL01 & 2008Q2 & allhh & 1 & Food & Food & group & 870 &  NA &  NA\\\\\n",
       "\t All households & HPIQ.SALL01 & 2008Q3 & allhh & 1 & Food & Food & group & 903 & 3.8 &  NA\\\\\n",
       "\t All households & HPIQ.SALL01 & 2008Q4 & allhh & 1 & Food & Food & group & 918 & 1.7 &  NA\\\\\n",
       "\t All households & HPIQ.SALL01 & 2009Q1 & allhh & 1 & Food & Food & group & 927 & 1.0 &  NA\\\\\n",
       "\t All households & HPIQ.SALL01 & 2009Q2 & allhh & 1 & Food & Food & group & 935 & 0.9 & 7.5\\\\\n",
       "\t All households & HPIQ.SALL01 & 2009Q3 & allhh & 1 & Food & Food & group & 949 & 1.5 & 5.1\\\\\n",
       "\\end{tabular}\n"
      ],
      "text/markdown": [
       "\n",
       "A tibble: 6 × 11\n",
       "\n",
       "| hlpi_name &lt;chr&gt; | series_ref &lt;chr&gt; | quarter &lt;chr&gt; | hlpi &lt;chr&gt; | nzhec &lt;chr&gt; | nzhec_name &lt;chr&gt; | nzhec_short &lt;chr&gt; | level &lt;chr&gt; | index &lt;dbl&gt; | change.q &lt;dbl&gt; | change.a &lt;dbl&gt; |\n",
       "|---|---|---|---|---|---|---|---|---|---|---|\n",
       "| All households | HPIQ.SALL01 | 2008Q2 | allhh | 1 | Food | Food | group | 870 |  NA |  NA |\n",
       "| All households | HPIQ.SALL01 | 2008Q3 | allhh | 1 | Food | Food | group | 903 | 3.8 |  NA |\n",
       "| All households | HPIQ.SALL01 | 2008Q4 | allhh | 1 | Food | Food | group | 918 | 1.7 |  NA |\n",
       "| All households | HPIQ.SALL01 | 2009Q1 | allhh | 1 | Food | Food | group | 927 | 1.0 |  NA |\n",
       "| All households | HPIQ.SALL01 | 2009Q2 | allhh | 1 | Food | Food | group | 935 | 0.9 | 7.5 |\n",
       "| All households | HPIQ.SALL01 | 2009Q3 | allhh | 1 | Food | Food | group | 949 | 1.5 | 5.1 |\n",
       "\n"
      ],
      "text/plain": [
       "  hlpi_name      series_ref  quarter hlpi  nzhec nzhec_name nzhec_short level\n",
       "1 All households HPIQ.SALL01 2008Q2  allhh 1     Food       Food        group\n",
       "2 All households HPIQ.SALL01 2008Q3  allhh 1     Food       Food        group\n",
       "3 All households HPIQ.SALL01 2008Q4  allhh 1     Food       Food        group\n",
       "4 All households HPIQ.SALL01 2009Q1  allhh 1     Food       Food        group\n",
       "5 All households HPIQ.SALL01 2009Q2  allhh 1     Food       Food        group\n",
       "6 All households HPIQ.SALL01 2009Q3  allhh 1     Food       Food        group\n",
       "  index change.q change.a\n",
       "1 870    NA       NA     \n",
       "2 903   3.8       NA     \n",
       "3 918   1.7       NA     \n",
       "4 927   1.0       NA     \n",
       "5 935   0.9      7.5     \n",
       "6 949   1.5      5.1     "
      ]
     },
     "metadata": {},
     "output_type": "display_data"
    }
   ],
   "source": [
    "HH_LC_PI_df <- read_csv(file = \"data/household-living-costs-price-indexes-June-2021-quarter-time-series-indexes.csv\")\n",
    "HH_LC_PI_df %>% head()"
   ]
  },
  {
   "cell_type": "markdown",
   "id": "52531d82-90f3-44ef-9748-5c56e11ef087",
   "metadata": {},
   "source": [
    "Wrangle data"
   ]
  },
  {
   "cell_type": "code",
   "execution_count": 27,
   "id": "11c2c971-2f06-4910-baa5-8486b874d333",
   "metadata": {},
   "outputs": [
    {
     "data": {
      "text/html": [
       "<table class=\"dataframe\">\n",
       "<caption>A tibble: 6 × 5</caption>\n",
       "<thead>\n",
       "\t<tr><th scope=col>quarter</th><th scope=col>All groups</th><th scope=col>Food</th><th scope=col>Petrol</th><th scope=col>Rent</th></tr>\n",
       "\t<tr><th scope=col>&lt;chr&gt;</th><th scope=col>&lt;dbl&gt;</th><th scope=col>&lt;dbl&gt;</th><th scope=col>&lt;dbl&gt;</th><th scope=col>&lt;dbl&gt;</th></tr>\n",
       "</thead>\n",
       "<tbody>\n",
       "\t<tr><td>2008Q2</td><td>898</td><td>870</td><td>915</td><td>895</td></tr>\n",
       "\t<tr><td>2008Q3</td><td>911</td><td>903</td><td>957</td><td>902</td></tr>\n",
       "\t<tr><td>2008Q4</td><td>906</td><td>918</td><td>743</td><td>906</td></tr>\n",
       "\t<tr><td>2009Q1</td><td>903</td><td>927</td><td>736</td><td>908</td></tr>\n",
       "\t<tr><td>2009Q2</td><td>905</td><td>935</td><td>760</td><td>910</td></tr>\n",
       "\t<tr><td>2009Q3</td><td>914</td><td>949</td><td>775</td><td>912</td></tr>\n",
       "</tbody>\n",
       "</table>\n"
      ],
      "text/latex": [
       "A tibble: 6 × 5\n",
       "\\begin{tabular}{lllll}\n",
       " quarter & All groups & Food & Petrol & Rent\\\\\n",
       " <chr> & <dbl> & <dbl> & <dbl> & <dbl>\\\\\n",
       "\\hline\n",
       "\t 2008Q2 & 898 & 870 & 915 & 895\\\\\n",
       "\t 2008Q3 & 911 & 903 & 957 & 902\\\\\n",
       "\t 2008Q4 & 906 & 918 & 743 & 906\\\\\n",
       "\t 2009Q1 & 903 & 927 & 736 & 908\\\\\n",
       "\t 2009Q2 & 905 & 935 & 760 & 910\\\\\n",
       "\t 2009Q3 & 914 & 949 & 775 & 912\\\\\n",
       "\\end{tabular}\n"
      ],
      "text/markdown": [
       "\n",
       "A tibble: 6 × 5\n",
       "\n",
       "| quarter &lt;chr&gt; | All groups &lt;dbl&gt; | Food &lt;dbl&gt; | Petrol &lt;dbl&gt; | Rent &lt;dbl&gt; |\n",
       "|---|---|---|---|---|\n",
       "| 2008Q2 | 898 | 870 | 915 | 895 |\n",
       "| 2008Q3 | 911 | 903 | 957 | 902 |\n",
       "| 2008Q4 | 906 | 918 | 743 | 906 |\n",
       "| 2009Q1 | 903 | 927 | 736 | 908 |\n",
       "| 2009Q2 | 905 | 935 | 760 | 910 |\n",
       "| 2009Q3 | 914 | 949 | 775 | 912 |\n",
       "\n"
      ],
      "text/plain": [
       "  quarter All groups Food Petrol Rent\n",
       "1 2008Q2  898        870  915    895 \n",
       "2 2008Q3  911        903  957    902 \n",
       "3 2008Q4  906        918  743    906 \n",
       "4 2009Q1  903        927  736    908 \n",
       "5 2009Q2  905        935  760    910 \n",
       "6 2009Q3  914        949  775    912 "
      ]
     },
     "metadata": {},
     "output_type": "display_data"
    }
   ],
   "source": [
    "interested_groups <- c(\"Petrol\", \"Food\", \"All groups\")\n",
    "CPI_PRF <- HH_LC_PI_df %>% \n",
    "    filter(hlpi_name == \"All households\", \n",
    "        (nzhec_name %in% interested_groups) | (nzhec_short == \"Rent\" & level == \"subgroup\")\n",
    "    ) %>%\n",
    "    select(quarter, nzhec_short, index) %>%\n",
    "    spread(key = nzhec_short, value = index)\n",
    "CPI_PRF %>% head()\n",
    "write.csv(CPI_PRF, \"data/Wrangled_CPI.csv\")"
   ]
  },
  {
   "cell_type": "markdown",
   "id": "211be344-0d40-420a-be4a-a02c6f8bcacd",
   "metadata": {},
   "source": [
    "PLot"
   ]
  },
  {
   "cell_type": "code",
   "execution_count": 28,
   "id": "80655225-bb80-46a6-8021-ca1833597705",
   "metadata": {},
   "outputs": [
    {
     "data": {
      "text/plain": [
       "geom_line: na.rm = FALSE, orientation = NA\n",
       "stat_identity: na.rm = FALSE\n",
       "position_identity "
      ]
     },
     "metadata": {},
     "output_type": "display_data"
    },
    {
     "data": {
      "image/png": "[encoded data removed]",
      "text/plain": [
       "plot without title"
      ]
     },
     "metadata": {
      "image/png": {
       "height": 600,
       "width": 840
      }
     },
     "output_type": "display_data"
    }
   ],
   "source": [
    "cpi_plot <- CPI_PRF %>%\n",
    "    gather(key = group, value = index, -quarter) %>%\n",
    "    arrange(quarter) %>%\n",
    "    mutate(quarter = as.Date(as.yearqtr(quarter, format = \"%YQ%q\"), frac = 1)) %>%\n",
    "    ggplot(mapping = aes(x = quarter, y = index, group = group, colour = group)) +\n",
    "    scale_colour_discrete(\"Group\") + ggtitle(\"Quarterly CPI for Different Groups Over Time\") +\n",
    "    ylab(\"Index\") + xlab(\"Quarter\") + geom_line(lwd=1.5)\n",
    "    geom_line()\n",
    "cpi_plot"
   ]
  },
  {
   "cell_type": "code",
   "execution_count": null,
   "id": "e06360ac-e7e0-4634-bfb9-168e2e9515c2",
   "metadata": {},
   "outputs": [],
   "source": []
  },
  {
   "cell_type": "code",
   "execution_count": null,
   "id": "fed14089-8b9a-49e8-9d79-8bd29df4eaec",
   "metadata": {},
   "outputs": [],
   "source": []
  },
  {
   "cell_type": "code",
   "execution_count": null,
   "id": "619d1058-cd82-4ed6-95fa-e85ba26b4ab3",
   "metadata": {},
   "outputs": [],
   "source": []
  },
  {
   "cell_type": "markdown",
   "id": "d9d19be9-6f05-45a3-a9b8-d740d429dad4",
   "metadata": {},
   "source": [
    "### Import/Export factors"
   ]
  },
  {
   "cell_type": "code",
   "execution_count": null,
   "id": "ff2b4300-0d68-4a90-b0d7-9a540058dde7",
   "metadata": {},
   "outputs": [],
   "source": []
  },
  {
   "cell_type": "code",
   "execution_count": null,
   "id": "4fefba6c-973b-4fbd-b65b-8b31d1a5b6d0",
   "metadata": {},
   "outputs": [],
   "source": []
  },
  {
   "cell_type": "code",
   "execution_count": null,
   "id": "036e67d9-cb61-450f-9ddc-45d701105914",
   "metadata": {},
   "outputs": [],
   "source": []
  },
  {
   "cell_type": "markdown",
   "id": "5e1f3973-6da6-4a51-8068-86f7f8414f85",
   "metadata": {},
   "source": [
    "## Combine all factors"
   ]
  },
  {
   "cell_type": "markdown",
   "id": "e4edf381-6b1e-42d5-a162-7df08cd2a988",
   "metadata": {},
   "source": []
  },
  {
   "cell_type": "code",
   "execution_count": 92,
   "id": "5d30b9eb-a122-4144-be24-5dc37221976f",
   "metadata": {
    "collapsed": true,
    "jupyter": {
     "outputs_hidden": true
    },
    "tags": []
   },
   "outputs": [
    {
     "data": {
      "text/html": [
       "<table class=\"dataframe\">\n",
       "<caption>A data.frame: 6 × 20</caption>\n",
       "<thead>\n",
       "\t<tr><th></th><th scope=col>...1</th><th scope=col>ResourceID</th><th scope=col>Subject</th><th scope=col>Title</th><th scope=col>Description</th><th scope=col>Source</th><th scope=col>SourceURL</th><th scope=col>Modified</th><th scope=col>Frequency</th><th scope=col>Var1</th><th scope=col>id</th><th scope=col>Date</th><th scope=col>Duration</th><th scope=col>Status</th><th scope=col>Value</th><th scope=col>Unit</th><th scope=col>Measure</th><th scope=col>Multiplier</th><th scope=col>Week</th><th scope=col>Monday</th></tr>\n",
       "\t<tr><th></th><th scope=col>&lt;dbl&gt;</th><th scope=col>&lt;chr&gt;</th><th scope=col>&lt;chr&gt;</th><th scope=col>&lt;chr&gt;</th><th scope=col>&lt;chr&gt;</th><th scope=col>&lt;chr&gt;</th><th scope=col>&lt;chr&gt;</th><th scope=col>&lt;dttm&gt;</th><th scope=col>&lt;chr&gt;</th><th scope=col>&lt;chr&gt;</th><th scope=col>&lt;chr&gt;</th><th scope=col>&lt;date&gt;</th><th scope=col>&lt;chr&gt;</th><th scope=col>&lt;chr&gt;</th><th scope=col>&lt;dbl&gt;</th><th scope=col>&lt;chr&gt;</th><th scope=col>&lt;chr&gt;</th><th scope=col>&lt;dbl&gt;</th><th scope=col>&lt;chr&gt;</th><th scope=col>&lt;date&gt;</th></tr>\n",
       "</thead>\n",
       "<tbody>\n",
       "\t<tr><th scope=row>1</th><td>1</td><td>CPCOV2</td><td>COVID-19</td><td>Number of Cases</td><td>COVID-19 cases in New Zealand (cumulative)</td><td>Ministry of Health</td><td>https://www.health.govt.nz/our-work/diseases-and-conditions/covid-19-novel-coronavirus/covid-19-data-and-statistics/testing-covid-19</td><td>2021-10-06 11:00:00</td><td>Daily</td><td>Case status</td><td>3934f4da-e3ed-43c4-8656-441f49f9c7ca</td><td>2020-02-28</td><td>P1D</td><td>Deceased</td><td>0</td><td>Number</td><td>COVID-19 cases</td><td>0</td><td>09-2020</td><td>2020-03-02</td></tr>\n",
       "\t<tr><th scope=row>2</th><td>2</td><td>CPCOV2</td><td>COVID-19</td><td>Number of Cases</td><td>COVID-19 cases in New Zealand (cumulative)</td><td>Ministry of Health</td><td>https://www.health.govt.nz/our-work/diseases-and-conditions/covid-19-novel-coronavirus/covid-19-data-and-statistics/testing-covid-19</td><td>2021-10-06 11:00:00</td><td>Daily</td><td>Case status</td><td>2a4fa96a-27a1-423b-9204-09422b97f798</td><td>2020-02-29</td><td>P1D</td><td>Deceased</td><td>0</td><td>Number</td><td>COVID-19 cases</td><td>0</td><td>09-2020</td><td>2020-03-02</td></tr>\n",
       "\t<tr><th scope=row>3</th><td>3</td><td>CPCOV2</td><td>COVID-19</td><td>Number of Cases</td><td>COVID-19 cases in New Zealand (cumulative)</td><td>Ministry of Health</td><td>https://www.health.govt.nz/our-work/diseases-and-conditions/covid-19-novel-coronavirus/covid-19-data-and-statistics/testing-covid-19</td><td>2021-10-06 11:00:00</td><td>Daily</td><td>Case status</td><td>93e22517-42a3-4a48-a6cf-80e1cf355528</td><td>2020-03-01</td><td>P1D</td><td>Deceased</td><td>0</td><td>Number</td><td>COVID-19 cases</td><td>0</td><td>09-2020</td><td>2020-03-02</td></tr>\n",
       "\t<tr><th scope=row>4</th><td>4</td><td>CPCOV2</td><td>COVID-19</td><td>Number of Cases</td><td>COVID-19 cases in New Zealand (cumulative)</td><td>Ministry of Health</td><td>https://www.health.govt.nz/our-work/diseases-and-conditions/covid-19-novel-coronavirus/covid-19-data-and-statistics/testing-covid-19</td><td>2021-10-06 11:00:00</td><td>Daily</td><td>Case status</td><td>7e015a63-e186-482c-b8ba-a22257f54789</td><td>2020-03-02</td><td>P1D</td><td>Deceased</td><td>0</td><td>Number</td><td>COVID-19 cases</td><td>0</td><td>10-2020</td><td>2020-03-09</td></tr>\n",
       "\t<tr><th scope=row>5</th><td>5</td><td>CPCOV2</td><td>COVID-19</td><td>Number of Cases</td><td>COVID-19 cases in New Zealand (cumulative)</td><td>Ministry of Health</td><td>https://www.health.govt.nz/our-work/diseases-and-conditions/covid-19-novel-coronavirus/covid-19-data-and-statistics/testing-covid-19</td><td>2021-10-06 11:00:00</td><td>Daily</td><td>Case status</td><td>ba41cf0e-5d23-4236-b6cf-a42b42db10c6</td><td>2020-03-05</td><td>P1D</td><td>Deceased</td><td>0</td><td>Number</td><td>COVID-19 cases</td><td>0</td><td>10-2020</td><td>2020-03-09</td></tr>\n",
       "\t<tr><th scope=row>6</th><td>6</td><td>CPCOV2</td><td>COVID-19</td><td>Number of Cases</td><td>COVID-19 cases in New Zealand (cumulative)</td><td>Ministry of Health</td><td>https://www.health.govt.nz/our-work/diseases-and-conditions/covid-19-novel-coronavirus/covid-19-data-and-statistics/testing-covid-19</td><td>2021-10-06 11:00:00</td><td>Daily</td><td>Case status</td><td>8366f989-09b3-46a5-97fa-bde0f0a46f4f</td><td>2020-03-06</td><td>P1D</td><td>Deceased</td><td>0</td><td>Number</td><td>COVID-19 cases</td><td>0</td><td>10-2020</td><td>2020-03-09</td></tr>\n",
       "</tbody>\n",
       "</table>\n"
      ],
      "text/latex": [
       "A data.frame: 6 × 20\n",
       "\\begin{tabular}{r|llllllllllllllllllll}\n",
       "  & ...1 & ResourceID & Subject & Title & Description & Source & SourceURL & Modified & Frequency & Var1 & id & Date & Duration & Status & Value & Unit & Measure & Multiplier & Week & Monday\\\\\n",
       "  & <dbl> & <chr> & <chr> & <chr> & <chr> & <chr> & <chr> & <dttm> & <chr> & <chr> & <chr> & <date> & <chr> & <chr> & <dbl> & <chr> & <chr> & <dbl> & <chr> & <date>\\\\\n",
       "\\hline\n",
       "\t1 & 1 & CPCOV2 & COVID-19 & Number of Cases & COVID-19 cases in New Zealand (cumulative) & Ministry of Health & https://www.health.govt.nz/our-work/diseases-and-conditions/covid-19-novel-coronavirus/covid-19-data-and-statistics/testing-covid-19 & 2021-10-06 11:00:00 & Daily & Case status & 3934f4da-e3ed-43c4-8656-441f49f9c7ca & 2020-02-28 & P1D & Deceased & 0 & Number & COVID-19 cases & 0 & 09-2020 & 2020-03-02\\\\\n",
       "\t2 & 2 & CPCOV2 & COVID-19 & Number of Cases & COVID-19 cases in New Zealand (cumulative) & Ministry of Health & https://www.health.govt.nz/our-work/diseases-and-conditions/covid-19-novel-coronavirus/covid-19-data-and-statistics/testing-covid-19 & 2021-10-06 11:00:00 & Daily & Case status & 2a4fa96a-27a1-423b-9204-09422b97f798 & 2020-02-29 & P1D & Deceased & 0 & Number & COVID-19 cases & 0 & 09-2020 & 2020-03-02\\\\\n",
       "\t3 & 3 & CPCOV2 & COVID-19 & Number of Cases & COVID-19 cases in New Zealand (cumulative) & Ministry of Health & https://www.health.govt.nz/our-work/diseases-and-conditions/covid-19-novel-coronavirus/covid-19-data-and-statistics/testing-covid-19 & 2021-10-06 11:00:00 & Daily & Case status & 93e22517-42a3-4a48-a6cf-80e1cf355528 & 2020-03-01 & P1D & Deceased & 0 & Number & COVID-19 cases & 0 & 09-2020 & 2020-03-02\\\\\n",
       "\t4 & 4 & CPCOV2 & COVID-19 & Number of Cases & COVID-19 cases in New Zealand (cumulative) & Ministry of Health & https://www.health.govt.nz/our-work/diseases-and-conditions/covid-19-novel-coronavirus/covid-19-data-and-statistics/testing-covid-19 & 2021-10-06 11:00:00 & Daily & Case status & 7e015a63-e186-482c-b8ba-a22257f54789 & 2020-03-02 & P1D & Deceased & 0 & Number & COVID-19 cases & 0 & 10-2020 & 2020-03-09\\\\\n",
       "\t5 & 5 & CPCOV2 & COVID-19 & Number of Cases & COVID-19 cases in New Zealand (cumulative) & Ministry of Health & https://www.health.govt.nz/our-work/diseases-and-conditions/covid-19-novel-coronavirus/covid-19-data-and-statistics/testing-covid-19 & 2021-10-06 11:00:00 & Daily & Case status & ba41cf0e-5d23-4236-b6cf-a42b42db10c6 & 2020-03-05 & P1D & Deceased & 0 & Number & COVID-19 cases & 0 & 10-2020 & 2020-03-09\\\\\n",
       "\t6 & 6 & CPCOV2 & COVID-19 & Number of Cases & COVID-19 cases in New Zealand (cumulative) & Ministry of Health & https://www.health.govt.nz/our-work/diseases-and-conditions/covid-19-novel-coronavirus/covid-19-data-and-statistics/testing-covid-19 & 2021-10-06 11:00:00 & Daily & Case status & 8366f989-09b3-46a5-97fa-bde0f0a46f4f & 2020-03-06 & P1D & Deceased & 0 & Number & COVID-19 cases & 0 & 10-2020 & 2020-03-09\\\\\n",
       "\\end{tabular}\n"
      ],
      "text/markdown": [
       "\n",
       "A data.frame: 6 × 20\n",
       "\n",
       "| <!--/--> | ...1 &lt;dbl&gt; | ResourceID &lt;chr&gt; | Subject &lt;chr&gt; | Title &lt;chr&gt; | Description &lt;chr&gt; | Source &lt;chr&gt; | SourceURL &lt;chr&gt; | Modified &lt;dttm&gt; | Frequency &lt;chr&gt; | Var1 &lt;chr&gt; | id &lt;chr&gt; | Date &lt;date&gt; | Duration &lt;chr&gt; | Status &lt;chr&gt; | Value &lt;dbl&gt; | Unit &lt;chr&gt; | Measure &lt;chr&gt; | Multiplier &lt;dbl&gt; | Week &lt;chr&gt; | Monday &lt;date&gt; |\n",
       "|---|---|---|---|---|---|---|---|---|---|---|---|---|---|---|---|---|---|---|---|---|\n",
       "| 1 | 1 | CPCOV2 | COVID-19 | Number of Cases | COVID-19 cases in New Zealand (cumulative) | Ministry of Health | https://www.health.govt.nz/our-work/diseases-and-conditions/covid-19-novel-coronavirus/covid-19-data-and-statistics/testing-covid-19 | 2021-10-06 11:00:00 | Daily | Case status | 3934f4da-e3ed-43c4-8656-441f49f9c7ca | 2020-02-28 | P1D | Deceased | 0 | Number | COVID-19 cases | 0 | 09-2020 | 2020-03-02 |\n",
       "| 2 | 2 | CPCOV2 | COVID-19 | Number of Cases | COVID-19 cases in New Zealand (cumulative) | Ministry of Health | https://www.health.govt.nz/our-work/diseases-and-conditions/covid-19-novel-coronavirus/covid-19-data-and-statistics/testing-covid-19 | 2021-10-06 11:00:00 | Daily | Case status | 2a4fa96a-27a1-423b-9204-09422b97f798 | 2020-02-29 | P1D | Deceased | 0 | Number | COVID-19 cases | 0 | 09-2020 | 2020-03-02 |\n",
       "| 3 | 3 | CPCOV2 | COVID-19 | Number of Cases | COVID-19 cases in New Zealand (cumulative) | Ministry of Health | https://www.health.govt.nz/our-work/diseases-and-conditions/covid-19-novel-coronavirus/covid-19-data-and-statistics/testing-covid-19 | 2021-10-06 11:00:00 | Daily | Case status | 93e22517-42a3-4a48-a6cf-80e1cf355528 | 2020-03-01 | P1D | Deceased | 0 | Number | COVID-19 cases | 0 | 09-2020 | 2020-03-02 |\n",
       "| 4 | 4 | CPCOV2 | COVID-19 | Number of Cases | COVID-19 cases in New Zealand (cumulative) | Ministry of Health | https://www.health.govt.nz/our-work/diseases-and-conditions/covid-19-novel-coronavirus/covid-19-data-and-statistics/testing-covid-19 | 2021-10-06 11:00:00 | Daily | Case status | 7e015a63-e186-482c-b8ba-a22257f54789 | 2020-03-02 | P1D | Deceased | 0 | Number | COVID-19 cases | 0 | 10-2020 | 2020-03-09 |\n",
       "| 5 | 5 | CPCOV2 | COVID-19 | Number of Cases | COVID-19 cases in New Zealand (cumulative) | Ministry of Health | https://www.health.govt.nz/our-work/diseases-and-conditions/covid-19-novel-coronavirus/covid-19-data-and-statistics/testing-covid-19 | 2021-10-06 11:00:00 | Daily | Case status | ba41cf0e-5d23-4236-b6cf-a42b42db10c6 | 2020-03-05 | P1D | Deceased | 0 | Number | COVID-19 cases | 0 | 10-2020 | 2020-03-09 |\n",
       "| 6 | 6 | CPCOV2 | COVID-19 | Number of Cases | COVID-19 cases in New Zealand (cumulative) | Ministry of Health | https://www.health.govt.nz/our-work/diseases-and-conditions/covid-19-novel-coronavirus/covid-19-data-and-statistics/testing-covid-19 | 2021-10-06 11:00:00 | Daily | Case status | 8366f989-09b3-46a5-97fa-bde0f0a46f4f | 2020-03-06 | P1D | Deceased | 0 | Number | COVID-19 cases | 0 | 10-2020 | 2020-03-09 |\n",
       "\n"
      ],
      "text/plain": [
       "  ...1 ResourceID Subject  Title          \n",
       "1 1    CPCOV2     COVID-19 Number of Cases\n",
       "2 2    CPCOV2     COVID-19 Number of Cases\n",
       "3 3    CPCOV2     COVID-19 Number of Cases\n",
       "4 4    CPCOV2     COVID-19 Number of Cases\n",
       "5 5    CPCOV2     COVID-19 Number of Cases\n",
       "6 6    CPCOV2     COVID-19 Number of Cases\n",
       "  Description                                Source            \n",
       "1 COVID-19 cases in New Zealand (cumulative) Ministry of Health\n",
       "2 COVID-19 cases in New Zealand (cumulative) Ministry of Health\n",
       "3 COVID-19 cases in New Zealand (cumulative) Ministry of Health\n",
       "4 COVID-19 cases in New Zealand (cumulative) Ministry of Health\n",
       "5 COVID-19 cases in New Zealand (cumulative) Ministry of Health\n",
       "6 COVID-19 cases in New Zealand (cumulative) Ministry of Health\n",
       "  SourceURL                                                                                                                           \n",
       "1 https://www.health.govt.nz/our-work/diseases-and-conditions/covid-19-novel-coronavirus/covid-19-data-and-statistics/testing-covid-19\n",
       "2 https://www.health.govt.nz/our-work/diseases-and-conditions/covid-19-novel-coronavirus/covid-19-data-and-statistics/testing-covid-19\n",
       "3 https://www.health.govt.nz/our-work/diseases-and-conditions/covid-19-novel-coronavirus/covid-19-data-and-statistics/testing-covid-19\n",
       "4 https://www.health.govt.nz/our-work/diseases-and-conditions/covid-19-novel-coronavirus/covid-19-data-and-statistics/testing-covid-19\n",
       "5 https://www.health.govt.nz/our-work/diseases-and-conditions/covid-19-novel-coronavirus/covid-19-data-and-statistics/testing-covid-19\n",
       "6 https://www.health.govt.nz/our-work/diseases-and-conditions/covid-19-novel-coronavirus/covid-19-data-and-statistics/testing-covid-19\n",
       "  Modified            Frequency Var1       \n",
       "1 2021-10-06 11:00:00 Daily     Case status\n",
       "2 2021-10-06 11:00:00 Daily     Case status\n",
       "3 2021-10-06 11:00:00 Daily     Case status\n",
       "4 2021-10-06 11:00:00 Daily     Case status\n",
       "5 2021-10-06 11:00:00 Daily     Case status\n",
       "6 2021-10-06 11:00:00 Daily     Case status\n",
       "  id                                   Date       Duration Status   Value\n",
       "1 3934f4da-e3ed-43c4-8656-441f49f9c7ca 2020-02-28 P1D      Deceased 0    \n",
       "2 2a4fa96a-27a1-423b-9204-09422b97f798 2020-02-29 P1D      Deceased 0    \n",
       "3 93e22517-42a3-4a48-a6cf-80e1cf355528 2020-03-01 P1D      Deceased 0    \n",
       "4 7e015a63-e186-482c-b8ba-a22257f54789 2020-03-02 P1D      Deceased 0    \n",
       "5 ba41cf0e-5d23-4236-b6cf-a42b42db10c6 2020-03-05 P1D      Deceased 0    \n",
       "6 8366f989-09b3-46a5-97fa-bde0f0a46f4f 2020-03-06 P1D      Deceased 0    \n",
       "  Unit   Measure        Multiplier Week    Monday    \n",
       "1 Number COVID-19 cases 0          09-2020 2020-03-02\n",
       "2 Number COVID-19 cases 0          09-2020 2020-03-02\n",
       "3 Number COVID-19 cases 0          09-2020 2020-03-02\n",
       "4 Number COVID-19 cases 0          10-2020 2020-03-09\n",
       "5 Number COVID-19 cases 0          10-2020 2020-03-09\n",
       "6 Number COVID-19 cases 0          10-2020 2020-03-09"
      ]
     },
     "metadata": {},
     "output_type": "display_data"
    },
    {
     "data": {
      "text/html": [
       "<table class=\"dataframe\">\n",
       "<caption>A grouped_df: 6 × 4</caption>\n",
       "<thead>\n",
       "\t<tr><th scope=col>Monday</th><th scope=col>Status</th><th scope=col>Week</th><th scope=col>Value</th></tr>\n",
       "\t<tr><th scope=col>&lt;date&gt;</th><th scope=col>&lt;fct&gt;</th><th scope=col>&lt;chr&gt;</th><th scope=col>&lt;dbl&gt;</th></tr>\n",
       "</thead>\n",
       "<tbody>\n",
       "\t<tr><td>2020-03-02</td><td>Active   </td><td>09-2020</td><td>1.000000</td></tr>\n",
       "\t<tr><td>2020-03-02</td><td>Deceased </td><td>09-2020</td><td>0.000000</td></tr>\n",
       "\t<tr><td>2020-03-02</td><td>Recovered</td><td>09-2020</td><td>0.000000</td></tr>\n",
       "\t<tr><td>2020-03-09</td><td>Active   </td><td>10-2020</td><td>3.142857</td></tr>\n",
       "\t<tr><td>2020-03-09</td><td>Deceased </td><td>10-2020</td><td>0.000000</td></tr>\n",
       "\t<tr><td>2020-03-09</td><td>Recovered</td><td>10-2020</td><td>0.000000</td></tr>\n",
       "</tbody>\n",
       "</table>\n"
      ],
      "text/latex": [
       "A grouped\\_df: 6 × 4\n",
       "\\begin{tabular}{llll}\n",
       " Monday & Status & Week & Value\\\\\n",
       " <date> & <fct> & <chr> & <dbl>\\\\\n",
       "\\hline\n",
       "\t 2020-03-02 & Active    & 09-2020 & 1.000000\\\\\n",
       "\t 2020-03-02 & Deceased  & 09-2020 & 0.000000\\\\\n",
       "\t 2020-03-02 & Recovered & 09-2020 & 0.000000\\\\\n",
       "\t 2020-03-09 & Active    & 10-2020 & 3.142857\\\\\n",
       "\t 2020-03-09 & Deceased  & 10-2020 & 0.000000\\\\\n",
       "\t 2020-03-09 & Recovered & 10-2020 & 0.000000\\\\\n",
       "\\end{tabular}\n"
      ],
      "text/markdown": [
       "\n",
       "A grouped_df: 6 × 4\n",
       "\n",
       "| Monday &lt;date&gt; | Status &lt;fct&gt; | Week &lt;chr&gt; | Value &lt;dbl&gt; |\n",
       "|---|---|---|---|\n",
       "| 2020-03-02 | Active    | 09-2020 | 1.000000 |\n",
       "| 2020-03-02 | Deceased  | 09-2020 | 0.000000 |\n",
       "| 2020-03-02 | Recovered | 09-2020 | 0.000000 |\n",
       "| 2020-03-09 | Active    | 10-2020 | 3.142857 |\n",
       "| 2020-03-09 | Deceased  | 10-2020 | 0.000000 |\n",
       "| 2020-03-09 | Recovered | 10-2020 | 0.000000 |\n",
       "\n"
      ],
      "text/plain": [
       "  Monday     Status    Week    Value   \n",
       "1 2020-03-02 Active    09-2020 1.000000\n",
       "2 2020-03-02 Deceased  09-2020 0.000000\n",
       "3 2020-03-02 Recovered 09-2020 0.000000\n",
       "4 2020-03-09 Active    10-2020 3.142857\n",
       "5 2020-03-09 Deceased  10-2020 0.000000\n",
       "6 2020-03-09 Recovered 10-2020 0.000000"
      ]
     },
     "metadata": {},
     "output_type": "display_data"
    },
    {
     "data": {
      "text/html": [
       "<table class=\"dataframe\">\n",
       "<caption>A tibble: 6 × 3</caption>\n",
       "<thead>\n",
       "\t<tr><th scope=col>Quarter</th><th scope=col>Group</th><th scope=col>HPI</th></tr>\n",
       "\t<tr><th scope=col>&lt;date&gt;</th><th scope=col>&lt;chr&gt;</th><th scope=col>&lt;dbl&gt;</th></tr>\n",
       "</thead>\n",
       "<tbody>\n",
       "\t<tr><td>2019-12-31</td><td>All groups</td><td>4292</td></tr>\n",
       "\t<tr><td>2019-12-31</td><td>Food      </td><td>4188</td></tr>\n",
       "\t<tr><td>2019-12-31</td><td>Petrol    </td><td>4080</td></tr>\n",
       "\t<tr><td>2019-12-31</td><td>Rent      </td><td>4564</td></tr>\n",
       "\t<tr><td>2020-03-31</td><td>All groups</td><td>4328</td></tr>\n",
       "\t<tr><td>2020-03-31</td><td>Food      </td><td>4272</td></tr>\n",
       "</tbody>\n",
       "</table>\n"
      ],
      "text/latex": [
       "A tibble: 6 × 3\n",
       "\\begin{tabular}{lll}\n",
       " Quarter & Group & HPI\\\\\n",
       " <date> & <chr> & <dbl>\\\\\n",
       "\\hline\n",
       "\t 2019-12-31 & All groups & 4292\\\\\n",
       "\t 2019-12-31 & Food       & 4188\\\\\n",
       "\t 2019-12-31 & Petrol     & 4080\\\\\n",
       "\t 2019-12-31 & Rent       & 4564\\\\\n",
       "\t 2020-03-31 & All groups & 4328\\\\\n",
       "\t 2020-03-31 & Food       & 4272\\\\\n",
       "\\end{tabular}\n"
      ],
      "text/markdown": [
       "\n",
       "A tibble: 6 × 3\n",
       "\n",
       "| Quarter &lt;date&gt; | Group &lt;chr&gt; | HPI &lt;dbl&gt; |\n",
       "|---|---|---|\n",
       "| 2019-12-31 | All groups | 4292 |\n",
       "| 2019-12-31 | Food       | 4188 |\n",
       "| 2019-12-31 | Petrol     | 4080 |\n",
       "| 2019-12-31 | Rent       | 4564 |\n",
       "| 2020-03-31 | All groups | 4328 |\n",
       "| 2020-03-31 | Food       | 4272 |\n",
       "\n"
      ],
      "text/plain": [
       "  Quarter    Group      HPI \n",
       "1 2019-12-31 All groups 4292\n",
       "2 2019-12-31 Food       4188\n",
       "3 2019-12-31 Petrol     4080\n",
       "4 2019-12-31 Rent       4564\n",
       "5 2020-03-31 All groups 4328\n",
       "6 2020-03-31 Food       4272"
      ]
     },
     "metadata": {},
     "output_type": "display_data"
    }
   ],
   "source": [
    "cpi_2020_df <- CPI_PRF %>%\n",
    "    gather(key = group, value = index, -quarter) %>%\n",
    "    rename(Group=group, HPI=index, Quarter=quarter) %>% arrange(Quarter) %>% \n",
    "    mutate(Quarter = as.Date(as.yearqtr(Quarter, format = \"%YQ%q\"), frac = 1),\n",
    "          HPI = HPI*4) %>%\n",
    "    filter(Quarter >= as.Date(\"2019-10-01\"))\n",
    "\n",
    "# Brrrrrr\n",
    "graph_df %>% head()\n",
    "graph_week_df %>% head()\n",
    "cpi_2020_df %>% head()"
   ]
  },
  {
   "cell_type": "code",
   "execution_count": 96,
   "id": "bbe8b48c-3bfa-4ffb-91b5-321d32af24ab",
   "metadata": {},
   "outputs": [],
   "source": [
    "color <- c(rgb(1,0,0.4,1), rgb(0,1,0.4,1), rgb(0,0,1,1), rgb(0,0,0,1))\n",
    "covid_weekly_plot <- ggplot() +\n",
    "        geom_bar(stat='identity', data = graph_week_df, alpha=0.3,\n",
    "                 aes(x=Monday, y=Value, fill=factor(Status)) ) +\n",
    "        geom_line(data=getByStatus(graph_df, \"Active\"), colour=color[1], size=2,\n",
    "                 aes(x=Date, y=Value)) +\n",
    "\n",
    "        geom_line(lwd=1.5, data=cpi_2020_df,\n",
    "                 aes(x=Quarter, y=HPI, group=Group, colour=Group)) +\n",
    "\n",
    "        scale_y_continuous(\"Total case\", \n",
    "            sec.axis = sec_axis(~ . *0.25, name = \"Index\")\n",
    "        ) +\n",
    "        scale_color_manual(values=color) + theme_bw() +\n",
    "        theme(axis.text.x = element_text(angle = 90, vjust = 0.5, hjust=1)) +\n",
    "        scale_x_date(date_breaks = \"months\" , date_labels = \"%b-%y\")\n",
    "\n",
    "\n",
    "covid_weekly_plot <- covid_weekly_plot +\n",
    "ggtitle(\"Title Graph\") +\n",
    "ylab(\"Total cases\") + xlab(\"Months\") +\n",
    "labs(fill=\"Status\")\n",
    "\n",
    "cpi_2020_plot <- cpi_2020_df %>%\n",
    "    ggplot(mapping = aes(x = Quarter, y = HPI, group = Group, colour = Group)) +\n",
    "    scale_colour_discrete(\"Group\") + ggtitle(\"Quarterly CPI for Different Groups Over Time\") +\n",
    "    ylab(\"Index\") + xlab(\"Quarter\") + geom_line(lwd=1.5)\n"
   ]
  },
  {
   "cell_type": "code",
   "execution_count": 97,
   "id": "022ea263-ff3f-400d-b861-5b5f12cc96f1",
   "metadata": {},
   "outputs": [
    {
     "name": "stderr",
     "output_type": "stream",
     "text": [
      "Warning message:\n",
      "\"Removed 6 rows containing missing values (position_stack).\"\n"
     ]
    },
    {
     "data": {
      "image/png": "[encoded data removed]",
      "text/plain": [
       "plot without title"
      ]
     },
     "metadata": {
      "image/png": {
       "height": 600,
       "width": 840
      }
     },
     "output_type": "display_data"
    },
    {
     "data": {
      "image/png": "[encoded data removed]",
      "text/plain": [
       "plot without title"
      ]
     },
     "metadata": {
      "image/png": {
       "height": 600,
       "width": 840
      }
     },
     "output_type": "display_data"
    }
   ],
   "source": [
    "covid_weekly_plot\n",
    "# savePlot(\"CombinedPlot.png\", covid_weekly_plot)\n",
    "cpi_2020_plot"
   ]
  },
  {
   "cell_type": "code",
   "execution_count": null,
   "id": "a9f12f1b-029d-4c29-8f36-08f6184d51fd",
   "metadata": {},
   "outputs": [],
   "source": []
  },
  {
   "cell_type": "code",
   "execution_count": null,
   "id": "fc59fb33-13e4-4a38-afbd-48c05abedd51",
   "metadata": {},
   "outputs": [],
   "source": []
  }
 ],
 "metadata": {
  "kernelspec": {
   "display_name": "R",
   "language": "R",
   "name": "ir"
  },
  "language_info": {
   "codemirror_mode": "r",
   "file_extension": ".r",
   "mimetype": "text/x-r-source",
   "name": "R",
   "pygments_lexer": "r",
   "version": "4.1.0"
  }
 },
 "nbformat": 4,
 "nbformat_minor": 5
}
