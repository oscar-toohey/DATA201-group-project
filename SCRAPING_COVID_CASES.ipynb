{
 "cells": [
  {
   "cell_type": "code",
   "execution_count": 104,
   "id": "b3333cbb",
   "metadata": {},
   "outputs": [],
   "source": [
    "# Install tidyverse, rvest and reshape\n",
    "library(tidyverse)\n",
    "library(rvest)\n",
    "library(magrittr) # better handling of pipes\n",
    "library(purrr) \n",
    "library(httr)\n",
    "library(jsonlite)\n",
    "# load ggplot2\n",
    "library(ggplot2)"
   ]
  },
  {
   "cell_type": "markdown",
   "id": "34b59200-28a1-4f56-90e8-2b78316cbb44",
   "metadata": {},
   "source": [
    "# COVID-19 Impacts Prototype"
   ]
  },
  {
   "cell_type": "markdown",
   "id": "8a77e1c8-341a-4154-8f7c-ade5bfde34f4",
   "metadata": {},
   "source": [
    "Set up of StatsNZ api to get COVID-19 data"
   ]
  },
  {
   "cell_type": "markdown",
   "id": "187708fd-293f-468c-87d2-f789eb5538f0",
   "metadata": {},
   "source": [
    "Getting the catalogue of datasets:"
   ]
  },
  {
   "cell_type": "code",
   "execution_count": 17,
   "id": "875ecbd6-3ad2-44a1-b208-8eaf7fc54573",
   "metadata": {},
   "outputs": [],
   "source": [
    "# SOURCE DECLARATION: FOLLOWING CODE BLOCK IS WRITTEN FROM STATSNZ AND WE HAVE MADE SMALL CHANGES TO GET THE REQUIRED DATA\n",
    "# ALSO USING PERSONAL API KEY\n",
    "\n",
    "get_odata_catalogue <-  function(service, endpoint, service_api_key) {\n",
    "  \n",
    "  catalogue_url <- URLencode(paste0(service, \"/\", endpoint))\n",
    "  \n",
    "  # Add the proxy authentication\n",
    "  config_proxy <- use_proxy(\n",
    "    url = curl::ie_get_proxy_for_url(service), \n",
    "    auth = \"any\", \n",
    "    username = \"\"\n",
    "  )\n",
    "  \n",
    "  # Look at the available tables\n",
    "  opendata_catalogue <- \n",
    "    GET(\n",
    "      url = catalogue_url,\n",
    "      config_proxy,\n",
    "      add_headers(.headers = c('Cache-Control' = 'no-cache',\n",
    "                               'Ocp-Apim-Subscription-Key' = service_api_key)),\n",
    "      timeout(60)\n",
    "    ) %>%\n",
    "    content(as = \"text\") %>%\n",
    "    fromJSON()\n",
    "  \n",
    "  opendata_catalogue <- as.data.frame(opendata_catalogue$dataset) %>%\n",
    "    unnest_longer(distribution)\n",
    "  \n",
    "  \n",
    "  structure(opendata_catalogue,\n",
    "            comment = \"Odata Catalogue\")\n",
    "  \n",
    "}"
   ]
  },
  {
   "cell_type": "markdown",
   "id": "d3738f68-8dda-4326-abc4-8632acfe7edc",
   "metadata": {},
   "source": [
    "Calling catalogue function with specific arguments"
   ]
  },
  {
   "cell_type": "code",
   "execution_count": 18,
   "id": "c8ce8fc9-3d45-4db0-9d2f-4d7848ebc02b",
   "metadata": {},
   "outputs": [
    {
     "data": {
      "text/html": [
       "'list'"
      ],
      "text/latex": [
       "'list'"
      ],
      "text/markdown": [
       "'list'"
      ],
      "text/plain": [
       "[1] \"list\""
      ]
     },
     "metadata": {},
     "output_type": "display_data"
    },
    {
     "name": "stdout",
     "output_type": "stream",
     "text": [
      "Rows: 4\n",
      "Columns: 16\n",
      "$ title              <chr> \"Employment Indicators\", \"Overseas Cargo\", \"Covid19…\n",
      "$ description        <chr> \"This employment indicator series is intended to pr…\n",
      "$ identifier         <chr> \"https://api.stats.govt.nz/odata/v1/EmploymentIndic…\n",
      "$ license            <chr> \"https://creativecommons.org/licenses/by/4.0/\", \"ht…\n",
      "$ keyword            <list> <\"Employment\", \"ResourceID MEI1.1: Filled jobs and…\n",
      "$ issued             <chr> \"2020-08-11T19:45:06Z\", \"2020-08-06T23:31:28Z\", \"20…\n",
      "$ modified           <chr> \"2020-12-10T22:39:15Z\", \"2020-12-10T22:51:17Z\", \"20…\n",
      "$ publisher          <df[,2]> <data.frame[4 x 2]>\n",
      "$ contactPoint       <df[,3]> <data.frame[4 x 3]>\n",
      "$ landingPage        <chr> \"https://www.stats.govt.nz\", \"https://www.stats.…\n",
      "$ language           <list> \"en\", \"en\", \"en\", \"en\"\n",
      "$ accrualPeriodicity <chr> \"Monthly\", \"Monthly\", \"Weekly\", \"Monthly\"\n",
      "$ theme              <chr> \"Employment\", \"Commerce, trade and industry\", \"\"…\n",
      "$ temporal           <chr> \"1999-04-30/\", \"1988-01-31/\", \"\", \"2001-01-31/\"\n",
      "$ distribution       <df[,4]> <data.frame[4 x 4]>\n",
      "$ spatial            <chr> \"{}\", \"{}\", \"{}\", \"{}\"\n"
     ]
    }
   ],
   "source": [
    "# SOURCE DECLARATION: FOLLOWING CODE BLOCK IS WRITTEN FROM STATSNZ AND WE HAVE MADE SMALL CHANGES TO GET THE REQUIRED DATA\n",
    "# ALSO USING PERSONAL API KEY\n",
    "Catalogue <- get_odata_catalogue(\n",
    "  service=\"https://api.stats.govt.nz/opendata/v1\",\n",
    "  endpoint=\"data.json\",\n",
    "  service_api_key = \"e71d9d8bcc7a430b991e2e4be88d3c43\" ### Angus STATSNZ API key\n",
    ")\n",
    "Catalogue %>% typeof()\n",
    "Catalogue %>% glimpse()"
   ]
  },
  {
   "cell_type": "markdown",
   "id": "68cad31f-6fcf-441d-9e92-17528a074be2",
   "metadata": {},
   "source": [
    "Getting resource (info about datasets) and observation data (actual data in datasets)"
   ]
  },
  {
   "cell_type": "code",
   "execution_count": 103,
   "id": "0e5c5614-3dcb-4601-bf66-880a78f0d322",
   "metadata": {},
   "outputs": [],
   "source": [
    "# SOURCE DECLARATION: FOLLOWING CODE BLOCK IS WRITTEN FROM STATSNZ AND WE HAVE MADE SMALL CHANGES TO GET THE REQUIRED DATA\n",
    "# ALSO USING PERSONAL API KEY\n",
    "get_odata <-  function(service, endpoint, entity, query_option, service_api_key) {\n",
    "  \n",
    "  config_proxy <- use_proxy(\n",
    "    url = curl::ie_get_proxy_for_url(service),\n",
    "    auth = \"any\",\n",
    "    username = \"\"\n",
    "  )\n",
    "  \n",
    "  odata_url <- URLencode(paste0(service, \"/\", endpoint, \"/\", entity, \"?\", query_option))\n",
    "  top_query <- grepl(\"$top\",query_option,fixed=TRUE)\n",
    "  \n",
    "  # continue getting results while there are additional pages\n",
    "  \n",
    "  while (!is.null(odata_url)) {\n",
    "    \n",
    "    result <- GET(odata_url,\n",
    "                  config_proxy,\n",
    "                  add_headers(.headers = c(\"Content-Type\" = \"application/json;charset=UTF-8\",\n",
    "                                           \"Ocp-Apim-Subscription-Key\" = service_api_key)),\n",
    "                  timeout(60)\n",
    "    )\n",
    "    \n",
    "    \n",
    "    # catch errors\n",
    "    \n",
    "    if (http_type(result) != \"application/json\") {\n",
    "      stop(\"API did not return json\", call. = FALSE)\n",
    "    }\n",
    "    \n",
    "    \n",
    "    if (http_error(result)) {\n",
    "      stop(\n",
    "        sprintf(\n",
    "          \"The request failed - %s \\n%s \\n%s \",\n",
    "          http_status(result)$message,\n",
    "          fromJSON(content(result, \"text\"))$value,\n",
    "          odata_url\n",
    "        ),\n",
    "        call. = FALSE\n",
    "      )\n",
    "    }\n",
    "    \n",
    "    \n",
    "    # parse and concatenate result while retaining UTF-8 encoded characters\n",
    "    \n",
    "    parsed <- jsonlite::fromJSON(content(result, \"text\", encoding = \"UTF-8\"), flatten = TRUE)\n",
    "    response  <- rbind(parsed$value, if(exists(\"response\")) response)\n",
    "    odata_url <- parsed$'@odata.nextLink'\n",
    "    \n",
    "    \n",
    "    cat(\"\\r\", nrow(response), \"obs retrieved\")\n",
    "    \n",
    "    # break when top(n) obs are specified\n",
    "    \n",
    "    if (top_query) {\n",
    "      break\n",
    "    }\n",
    "    \n",
    "  }\n",
    "  \n",
    "  structure(response,\n",
    "            comment = \"Odata response\")\n",
    "  \n",
    "}"
   ]
  },
  {
   "cell_type": "markdown",
   "id": "8439fa48-c3da-47be-b346-a7f8207ff56d",
   "metadata": {},
   "source": [
    "Getting Covid 19 Case number dataset from API"
   ]
  },
  {
   "cell_type": "code",
   "execution_count": 102,
   "id": "80a261ae-192d-4f9d-aa82-ed02a745db7f",
   "metadata": {},
   "outputs": [
    {
     "name": "stdout",
     "output_type": "stream",
     "text": [
      " 1554 obs retrievedRows: 1\n",
      "Columns: 9\n",
      "$ ResourceID  <chr> \"CPCOV2\"\n",
      "$ Subject     <chr> \"COVID-19\"\n",
      "$ Title       <chr> \"Number of Cases\"\n",
      "$ Description <chr> \"COVID-19 cases in New Zealand (cumulative)\"\n",
      "$ Source      <chr> \"Ministry of Health\"\n",
      "$ SourceURL   <chr> \"https://www.health.govt.nz/our-work/diseases-and-conditio…\n",
      "$ Modified    <chr> \"2021-10-06T11:00:00Z\"\n",
      "$ Frequency   <chr> \"Daily\"\n",
      "$ Var1        <chr> \"Case status\"\n",
      "Rows: 1,554\n",
      "Columns: 9\n",
      "$ id         <chr> \"3934f4da-e3ed-43c4-8656-441f49f9c7ca\", \"2a4fa96a-27a1-423b…\n",
      "$ ResourceID <chr> \"CPCOV2\", \"CPCOV2\", \"CPCOV2\", \"CPCOV2\", \"CPCOV2\", \"CPCOV2\",…\n",
      "$ Period     <chr> \"2020-02-28\", \"2020-02-29\", \"2020-03-01\", \"2020-03-02\", \"20…\n",
      "$ Duration   <chr> \"P1D\", \"P1D\", \"P1D\", \"P1D\", \"P1D\", \"P1D\", \"P1D\", \"P1D\", \"P1…\n",
      "$ Label1     <chr> \"Deceased\", \"Deceased\", \"Deceased\", \"Deceased\", \"Deceased\",…\n",
      "$ Value      <int> 0, 0, 0, 0, 0, 0, 0, 0, 0, 0, 0, 0, 0, 0, 0, 0, 0, 0, 0, 0,…\n",
      "$ Unit       <chr> \"Number\", \"Number\", \"Number\", \"Number\", \"Number\", \"Number\",…\n",
      "$ Measure    <chr> \"COVID-19 cases\", \"COVID-19 cases\", \"COVID-19 cases\", \"COVI…\n",
      "$ Multiplier <int> 0, 0, 0, 0, 0, 0, 0, 0, 0, 0, 0, 0, 0, 0, 0, 0, 0, 0, 0, 0,…\n"
     ]
    }
   ],
   "source": [
    "# SOURCE DECLARATION: FOLLOWING CODE BLOCK IS WRITTEN FROM STATSNZ AND WE HAVE MADE SMALL CHANGES TO GET THE REQUIRED DATA\n",
    "# ALSO USING PERSONAL API KEY \n",
    "Number_of_cases_Resources <-  Filter(function(x)!all(is.na(x)),\n",
    "                      get_odata(\n",
    "                        service = \"https://api.stats.govt.nz/opendata/v1\",\n",
    "                        endpoint = \"Covid-19Indicators\",\n",
    "                        entity = \"Resources\",\n",
    "                        query_option = \"$filter=(ResourceID eq 'CPCOV2')\",\n",
    "                        service_api_key = \"e71d9d8bcc7a430b991e2e4be88d3c43\")) ### Angus STATSNZ API key \n",
    "\n",
    "\n",
    "Number_of_cases__Observations <-  Filter(function(x)!all(is.na(x)),\n",
    "                         get_odata(\n",
    "                           service = \"https://api.stats.govt.nz/opendata/v1\",\n",
    "                           endpoint = \"Covid-19Indicators\",\n",
    "                           entity = \"Observations\",\n",
    "                           query_option = \"$filter=(ResourceID eq 'CPCOV2')\",\n",
    "                           service_api_key = \"e71d9d8bcc7a430b991e2e4be88d3c43\")) ### Angus STATSNZ API key\n",
    "\n",
    "Number_of_cases_Resources %>% glimpse()\n",
    "Number_of_cases__Observations %>% glimpse()\n"
   ]
  },
  {
   "cell_type": "code",
   "execution_count": 100,
   "id": "1172ea32-9a01-4e6b-ba21-945142164e9f",
   "metadata": {},
   "outputs": [],
   "source": [
    "Number_of_cases_dataset = Number_of_cases_Resources %>% full_join(Number_of_cases__Observations, by = \"ResourceID\")\n",
    "\n",
    "\n"
   ]
  },
  {
   "cell_type": "code",
   "execution_count": 105,
   "id": "8e42b5d2-db0d-4e29-8858-e53c516daa62",
   "metadata": {},
   "outputs": [],
   "source": [
    "write.csv(Number_of_cases_dataset, \"Number_of_cases.csv\")"
   ]
  },
  {
   "cell_type": "code",
   "execution_count": null,
   "id": "589d6340-e48e-497b-a2c0-6cf99717be73",
   "metadata": {},
   "outputs": [],
   "source": []
  }
 ],
 "metadata": {
  "kernelspec": {
   "display_name": "R",
   "language": "R",
   "name": "ir"
  },
  "language_info": {
   "codemirror_mode": "r",
   "file_extension": ".r",
   "mimetype": "text/x-r-source",
   "name": "R",
   "pygments_lexer": "r",
   "version": "4.0.4"
  }
 },
 "nbformat": 4,
 "nbformat_minor": 5
}
